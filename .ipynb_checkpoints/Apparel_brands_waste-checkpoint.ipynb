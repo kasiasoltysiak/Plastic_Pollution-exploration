{
 "cells": [
  {
   "cell_type": "code",
   "execution_count": 170,
   "id": "d0103069-9e4e-4abb-8c84-521b62af265e",
   "metadata": {},
   "outputs": [],
   "source": [
    "#Import common modules\n",
    "import pandas as pd\n",
    "pd.options.mode.chained_assignment = None\n",
    "\n",
    "import numpy as np\n",
    "from matplotlib import pyplot as plt\n",
    "import seaborn as sns\n",
    "import matplotlib\n",
    "import plotly.graph_objs as go\n",
    "\n",
    "import warnings\n",
    "warnings.filterwarnings('ignore')"
   ]
  },
  {
   "cell_type": "code",
   "execution_count": 171,
   "id": "a525b562-e3b7-4910-8c65-5df673410bb4",
   "metadata": {},
   "outputs": [
    {
     "data": {
      "text/html": [
       "<div>\n",
       "<style scoped>\n",
       "    .dataframe tbody tr th:only-of-type {\n",
       "        vertical-align: middle;\n",
       "    }\n",
       "\n",
       "    .dataframe tbody tr th {\n",
       "        vertical-align: top;\n",
       "    }\n",
       "\n",
       "    .dataframe thead th {\n",
       "        text-align: right;\n",
       "    }\n",
       "</style>\n",
       "<table border=\"1\" class=\"dataframe\">\n",
       "  <thead>\n",
       "    <tr style=\"text-align: right;\">\n",
       "      <th></th>\n",
       "      <th>Company</th>\n",
       "      <th>Year</th>\n",
       "      <th>Value</th>\n",
       "      <th>Source Page</th>\n",
       "    </tr>\n",
       "  </thead>\n",
       "  <tbody>\n",
       "    <tr>\n",
       "      <th>0</th>\n",
       "      <td>Puma</td>\n",
       "      <td>2023</td>\n",
       "      <td>5595</td>\n",
       "      <td>https://wikirate.org/~18046254</td>\n",
       "    </tr>\n",
       "    <tr>\n",
       "      <th>1</th>\n",
       "      <td>H&amp;M</td>\n",
       "      <td>2023</td>\n",
       "      <td>Unknown</td>\n",
       "      <td>https://wikirate.org/~19244996</td>\n",
       "    </tr>\n",
       "    <tr>\n",
       "      <th>2</th>\n",
       "      <td>Marks and Spencer Group plc</td>\n",
       "      <td>2023</td>\n",
       "      <td>69000</td>\n",
       "      <td>https://wikirate.org/~18045616</td>\n",
       "    </tr>\n",
       "    <tr>\n",
       "      <th>3</th>\n",
       "      <td>Asos</td>\n",
       "      <td>2023</td>\n",
       "      <td>Unknown</td>\n",
       "      <td>https://wikirate.org/~18087425</td>\n",
       "    </tr>\n",
       "    <tr>\n",
       "      <th>4</th>\n",
       "      <td>Adidas AG</td>\n",
       "      <td>2023</td>\n",
       "      <td>26382</td>\n",
       "      <td>https://wikirate.org/~18074968</td>\n",
       "    </tr>\n",
       "  </tbody>\n",
       "</table>\n",
       "</div>"
      ],
      "text/plain": [
       "                       Company  Year    Value                     Source Page\n",
       "0                         Puma  2023     5595  https://wikirate.org/~18046254\n",
       "1                          H&M  2023  Unknown  https://wikirate.org/~19244996\n",
       "2  Marks and Spencer Group plc  2023    69000  https://wikirate.org/~18045616\n",
       "3                         Asos  2023  Unknown  https://wikirate.org/~18087425\n",
       "4                    Adidas AG  2023    26382  https://wikirate.org/~18074968"
      ]
     },
     "execution_count": 171,
     "metadata": {},
     "output_type": "execute_result"
    }
   ],
   "source": [
    "path = 'Data sets/apparel-companies-waste-2.csv'\n",
    "data = pd.read_csv(path, index_col=None)\n",
    "data.head()"
   ]
  },
  {
   "cell_type": "code",
   "execution_count": 172,
   "id": "8af7f303-2d49-412f-9bd1-f17610b68f80",
   "metadata": {},
   "outputs": [
    {
     "name": "stdout",
     "output_type": "stream",
     "text": [
      "<class 'pandas.core.frame.DataFrame'>\n",
      "RangeIndex: 466 entries, 0 to 465\n",
      "Data columns (total 4 columns):\n",
      " #   Column       Non-Null Count  Dtype \n",
      "---  ------       --------------  ----- \n",
      " 0   Company      466 non-null    object\n",
      " 1   Year         466 non-null    int64 \n",
      " 2   Value        466 non-null    object\n",
      " 3   Source Page  466 non-null    object\n",
      "dtypes: int64(1), object(3)\n",
      "memory usage: 14.7+ KB\n"
     ]
    }
   ],
   "source": [
    "data.info()"
   ]
  },
  {
   "cell_type": "code",
   "execution_count": 206,
   "id": "33845153-fbca-4359-9077-ec107d222fe8",
   "metadata": {},
   "outputs": [
    {
     "data": {
      "text/html": [
       "<div>\n",
       "<style scoped>\n",
       "    .dataframe tbody tr th:only-of-type {\n",
       "        vertical-align: middle;\n",
       "    }\n",
       "\n",
       "    .dataframe tbody tr th {\n",
       "        vertical-align: top;\n",
       "    }\n",
       "\n",
       "    .dataframe thead th {\n",
       "        text-align: right;\n",
       "    }\n",
       "</style>\n",
       "<table border=\"1\" class=\"dataframe\">\n",
       "  <thead>\n",
       "    <tr style=\"text-align: right;\">\n",
       "      <th></th>\n",
       "      <th>Company</th>\n",
       "      <th>Year</th>\n",
       "      <th>Value</th>\n",
       "    </tr>\n",
       "  </thead>\n",
       "  <tbody>\n",
       "    <tr>\n",
       "      <th>0</th>\n",
       "      <td>Puma</td>\n",
       "      <td>2023</td>\n",
       "      <td>5595</td>\n",
       "    </tr>\n",
       "    <tr>\n",
       "      <th>1</th>\n",
       "      <td>H&amp;M</td>\n",
       "      <td>2023</td>\n",
       "      <td>Unknown</td>\n",
       "    </tr>\n",
       "    <tr>\n",
       "      <th>2</th>\n",
       "      <td>Marks and Spencer Group plc</td>\n",
       "      <td>2023</td>\n",
       "      <td>69000</td>\n",
       "    </tr>\n",
       "    <tr>\n",
       "      <th>3</th>\n",
       "      <td>Asos</td>\n",
       "      <td>2023</td>\n",
       "      <td>Unknown</td>\n",
       "    </tr>\n",
       "    <tr>\n",
       "      <th>4</th>\n",
       "      <td>Adidas AG</td>\n",
       "      <td>2023</td>\n",
       "      <td>26382</td>\n",
       "    </tr>\n",
       "    <tr>\n",
       "      <th>...</th>\n",
       "      <td>...</td>\n",
       "      <td>...</td>\n",
       "      <td>...</td>\n",
       "    </tr>\n",
       "    <tr>\n",
       "      <th>461</th>\n",
       "      <td>Puma</td>\n",
       "      <td>2006</td>\n",
       "      <td>94.122</td>\n",
       "    </tr>\n",
       "    <tr>\n",
       "      <th>462</th>\n",
       "      <td>Puma</td>\n",
       "      <td>2005</td>\n",
       "      <td>105.344</td>\n",
       "    </tr>\n",
       "    <tr>\n",
       "      <th>463</th>\n",
       "      <td>Puma</td>\n",
       "      <td>2004</td>\n",
       "      <td>Unknown</td>\n",
       "    </tr>\n",
       "    <tr>\n",
       "      <th>464</th>\n",
       "      <td>Puma</td>\n",
       "      <td>2003</td>\n",
       "      <td>Unknown</td>\n",
       "    </tr>\n",
       "    <tr>\n",
       "      <th>465</th>\n",
       "      <td>Puma</td>\n",
       "      <td>2002</td>\n",
       "      <td>Unknown</td>\n",
       "    </tr>\n",
       "  </tbody>\n",
       "</table>\n",
       "<p>466 rows × 3 columns</p>\n",
       "</div>"
      ],
      "text/plain": [
       "                         Company  Year    Value\n",
       "0                           Puma  2023     5595\n",
       "1                            H&M  2023  Unknown\n",
       "2    Marks and Spencer Group plc  2023    69000\n",
       "3                           Asos  2023  Unknown\n",
       "4                      Adidas AG  2023    26382\n",
       "..                           ...   ...      ...\n",
       "461                         Puma  2006   94.122\n",
       "462                         Puma  2005  105.344\n",
       "463                         Puma  2004  Unknown\n",
       "464                         Puma  2003  Unknown\n",
       "465                         Puma  2002  Unknown\n",
       "\n",
       "[466 rows x 3 columns]"
      ]
     },
     "execution_count": 206,
     "metadata": {},
     "output_type": "execute_result"
    }
   ],
   "source": [
    "apparel_waste=data.drop(['Source Page'], axis=1)\n",
    "apparel_waste"
   ]
  },
  {
   "cell_type": "code",
   "execution_count": 210,
   "id": "231a9619-0367-4896-a8ab-3d12e067d156",
   "metadata": {},
   "outputs": [
    {
     "name": "stdout",
     "output_type": "stream",
     "text": [
      "<class 'pandas.core.frame.DataFrame'>\n",
      "RangeIndex: 466 entries, 0 to 465\n",
      "Data columns (total 3 columns):\n",
      " #   Column   Non-Null Count  Dtype  \n",
      "---  ------   --------------  -----  \n",
      " 0   Company  466 non-null    object \n",
      " 1   Year     466 non-null    int64  \n",
      " 2   Value    236 non-null    float64\n",
      "dtypes: float64(1), int64(1), object(1)\n",
      "memory usage: 11.1+ KB\n"
     ]
    }
   ],
   "source": [
    "apparel_waste = apparel_waste.replace('Unknown', np.nan)\n",
    "apparel_waste['Value'] = pd.to_numeric(apparel_waste['Value'], errors='coerce')\n",
    "apparel_waste.info()"
   ]
  },
  {
   "cell_type": "code",
   "execution_count": 218,
   "id": "34142f31-f040-458e-a1e0-c66d29f85caf",
   "metadata": {
    "scrolled": true
   },
   "outputs": [],
   "source": [
    "apparel_waste.sort_values(by='Value', ascending=False, inplace=True)"
   ]
  },
  {
   "cell_type": "code",
   "execution_count": 175,
   "id": "9601879d-1b88-4fd8-a54c-d975bb814e50",
   "metadata": {
    "scrolled": true
   },
   "outputs": [
    {
     "data": {
      "text/plain": [
       "Company          0\n",
       "Year             0\n",
       "Value          230\n",
       "Source Page      0\n",
       "dtype: int64"
      ]
     },
     "execution_count": 175,
     "metadata": {},
     "output_type": "execute_result"
    }
   ],
   "source": [
    "apparel_waste.isnull().sum()"
   ]
  },
  {
   "cell_type": "code",
   "execution_count": 176,
   "id": "fef1c5f2-9bec-456e-bf57-2edb78c31632",
   "metadata": {},
   "outputs": [
    {
     "data": {
      "text/html": [
       "<div>\n",
       "<style scoped>\n",
       "    .dataframe tbody tr th:only-of-type {\n",
       "        vertical-align: middle;\n",
       "    }\n",
       "\n",
       "    .dataframe tbody tr th {\n",
       "        vertical-align: top;\n",
       "    }\n",
       "\n",
       "    .dataframe thead th {\n",
       "        text-align: right;\n",
       "    }\n",
       "</style>\n",
       "<table border=\"1\" class=\"dataframe\">\n",
       "  <thead>\n",
       "    <tr style=\"text-align: right;\">\n",
       "      <th></th>\n",
       "      <th>Year</th>\n",
       "      <th>Value</th>\n",
       "    </tr>\n",
       "  </thead>\n",
       "  <tbody>\n",
       "    <tr>\n",
       "      <th>count</th>\n",
       "      <td>466.000000</td>\n",
       "      <td>2.360000e+02</td>\n",
       "    </tr>\n",
       "    <tr>\n",
       "      <th>mean</th>\n",
       "      <td>2019.482833</td>\n",
       "      <td>1.236552e+05</td>\n",
       "    </tr>\n",
       "    <tr>\n",
       "      <th>std</th>\n",
       "      <td>2.881294</td>\n",
       "      <td>1.204046e+06</td>\n",
       "    </tr>\n",
       "    <tr>\n",
       "      <th>min</th>\n",
       "      <td>2002.000000</td>\n",
       "      <td>0.000000e+00</td>\n",
       "    </tr>\n",
       "    <tr>\n",
       "      <th>25%</th>\n",
       "      <td>2018.000000</td>\n",
       "      <td>2.279425e+03</td>\n",
       "    </tr>\n",
       "    <tr>\n",
       "      <th>50%</th>\n",
       "      <td>2019.000000</td>\n",
       "      <td>1.338750e+04</td>\n",
       "    </tr>\n",
       "    <tr>\n",
       "      <th>75%</th>\n",
       "      <td>2022.000000</td>\n",
       "      <td>5.095635e+04</td>\n",
       "    </tr>\n",
       "    <tr>\n",
       "      <th>max</th>\n",
       "      <td>2023.000000</td>\n",
       "      <td>1.847804e+07</td>\n",
       "    </tr>\n",
       "  </tbody>\n",
       "</table>\n",
       "</div>"
      ],
      "text/plain": [
       "              Year         Value\n",
       "count   466.000000  2.360000e+02\n",
       "mean   2019.482833  1.236552e+05\n",
       "std       2.881294  1.204046e+06\n",
       "min    2002.000000  0.000000e+00\n",
       "25%    2018.000000  2.279425e+03\n",
       "50%    2019.000000  1.338750e+04\n",
       "75%    2022.000000  5.095635e+04\n",
       "max    2023.000000  1.847804e+07"
      ]
     },
     "execution_count": 176,
     "metadata": {},
     "output_type": "execute_result"
    }
   ],
   "source": [
    "#Let's find outliers???\n",
    "apparel_waste.describe()"
   ]
  },
  {
   "cell_type": "code",
   "execution_count": 177,
   "id": "75d5a6b3-13f9-4a7f-aa72-f74295e76699",
   "metadata": {},
   "outputs": [
    {
     "data": {
      "text/html": [
       "<div>\n",
       "<style scoped>\n",
       "    .dataframe tbody tr th:only-of-type {\n",
       "        vertical-align: middle;\n",
       "    }\n",
       "\n",
       "    .dataframe tbody tr th {\n",
       "        vertical-align: top;\n",
       "    }\n",
       "\n",
       "    .dataframe thead th {\n",
       "        text-align: right;\n",
       "    }\n",
       "</style>\n",
       "<table border=\"1\" class=\"dataframe\">\n",
       "  <thead>\n",
       "    <tr style=\"text-align: right;\">\n",
       "      <th></th>\n",
       "      <th>Company</th>\n",
       "      <th>Year</th>\n",
       "      <th>Value</th>\n",
       "      <th>Source Page</th>\n",
       "    </tr>\n",
       "  </thead>\n",
       "  <tbody>\n",
       "    <tr>\n",
       "      <th>108</th>\n",
       "      <td>Onward Holdings</td>\n",
       "      <td>2022</td>\n",
       "      <td>0.0</td>\n",
       "      <td>https://wikirate.org/~14549405</td>\n",
       "    </tr>\n",
       "  </tbody>\n",
       "</table>\n",
       "</div>"
      ],
      "text/plain": [
       "             Company  Year  Value                     Source Page\n",
       "108  Onward Holdings  2022    0.0  https://wikirate.org/~14549405"
      ]
     },
     "execution_count": 177,
     "metadata": {},
     "output_type": "execute_result"
    }
   ],
   "source": [
    "apparel_waste[apparel_waste['Value'] == 0]"
   ]
  },
  {
   "cell_type": "code",
   "execution_count": 222,
   "id": "4de899ee-02f6-4260-8406-27633b2cd609",
   "metadata": {
    "scrolled": true
   },
   "outputs": [],
   "source": [
    "#we have to do this manually, because the values are too spread (I think)\n",
    "apparel_waste.drop(index=199, inplace=True)\n",
    "apparel_waste.drop(index=108, inplace=True)"
   ]
  },
  {
   "cell_type": "code",
   "execution_count": 224,
   "id": "569fac57-069e-462c-b450-bf8f35f767cc",
   "metadata": {},
   "outputs": [
    {
     "data": {
      "text/html": [
       "<div>\n",
       "<style scoped>\n",
       "    .dataframe tbody tr th:only-of-type {\n",
       "        vertical-align: middle;\n",
       "    }\n",
       "\n",
       "    .dataframe tbody tr th {\n",
       "        vertical-align: top;\n",
       "    }\n",
       "\n",
       "    .dataframe thead th {\n",
       "        text-align: right;\n",
       "    }\n",
       "</style>\n",
       "<table border=\"1\" class=\"dataframe\">\n",
       "  <thead>\n",
       "    <tr style=\"text-align: right;\">\n",
       "      <th></th>\n",
       "      <th>Year</th>\n",
       "      <th>Value</th>\n",
       "    </tr>\n",
       "  </thead>\n",
       "  <tbody>\n",
       "    <tr>\n",
       "      <th>count</th>\n",
       "      <td>464.000000</td>\n",
       "      <td>234.000000</td>\n",
       "    </tr>\n",
       "    <tr>\n",
       "      <th>mean</th>\n",
       "      <td>2019.476293</td>\n",
       "      <td>45746.100957</td>\n",
       "    </tr>\n",
       "    <tr>\n",
       "      <th>std</th>\n",
       "      <td>2.885032</td>\n",
       "      <td>100784.141019</td>\n",
       "    </tr>\n",
       "    <tr>\n",
       "      <th>min</th>\n",
       "      <td>2002.000000</td>\n",
       "      <td>2.984000</td>\n",
       "    </tr>\n",
       "    <tr>\n",
       "      <th>25%</th>\n",
       "      <td>2018.000000</td>\n",
       "      <td>2289.118200</td>\n",
       "    </tr>\n",
       "    <tr>\n",
       "      <th>50%</th>\n",
       "      <td>2019.000000</td>\n",
       "      <td>13387.500000</td>\n",
       "    </tr>\n",
       "    <tr>\n",
       "      <th>75%</th>\n",
       "      <td>2022.000000</td>\n",
       "      <td>50819.126815</td>\n",
       "    </tr>\n",
       "    <tr>\n",
       "      <th>max</th>\n",
       "      <td>2023.000000</td>\n",
       "      <td>691879.000000</td>\n",
       "    </tr>\n",
       "  </tbody>\n",
       "</table>\n",
       "</div>"
      ],
      "text/plain": [
       "              Year          Value\n",
       "count   464.000000     234.000000\n",
       "mean   2019.476293   45746.100957\n",
       "std       2.885032  100784.141019\n",
       "min    2002.000000       2.984000\n",
       "25%    2018.000000    2289.118200\n",
       "50%    2019.000000   13387.500000\n",
       "75%    2022.000000   50819.126815\n",
       "max    2023.000000  691879.000000"
      ]
     },
     "execution_count": 224,
     "metadata": {},
     "output_type": "execute_result"
    }
   ],
   "source": [
    "apparel_waste.describe()"
   ]
  },
  {
   "cell_type": "code",
   "execution_count": 228,
   "id": "8be34c0e-f3e2-4b30-ba3a-11144e2f1220",
   "metadata": {},
   "outputs": [
    {
     "data": {
      "text/html": [
       "<div>\n",
       "<style scoped>\n",
       "    .dataframe tbody tr th:only-of-type {\n",
       "        vertical-align: middle;\n",
       "    }\n",
       "\n",
       "    .dataframe tbody tr th {\n",
       "        vertical-align: top;\n",
       "    }\n",
       "\n",
       "    .dataframe thead th {\n",
       "        text-align: right;\n",
       "    }\n",
       "</style>\n",
       "<table border=\"1\" class=\"dataframe\">\n",
       "  <thead>\n",
       "    <tr style=\"text-align: right;\">\n",
       "      <th></th>\n",
       "      <th>Company</th>\n",
       "      <th>Year</th>\n",
       "      <th>Value</th>\n",
       "    </tr>\n",
       "  </thead>\n",
       "  <tbody>\n",
       "    <tr>\n",
       "      <th>151</th>\n",
       "      <td>Kering</td>\n",
       "      <td>2021</td>\n",
       "      <td>691879.0</td>\n",
       "    </tr>\n",
       "    <tr>\n",
       "      <th>128</th>\n",
       "      <td>Zalando SE</td>\n",
       "      <td>2021</td>\n",
       "      <td>680000.0</td>\n",
       "    </tr>\n",
       "    <tr>\n",
       "      <th>175</th>\n",
       "      <td>Carrefour S.A.</td>\n",
       "      <td>2021</td>\n",
       "      <td>672000.0</td>\n",
       "    </tr>\n",
       "    <tr>\n",
       "      <th>110</th>\n",
       "      <td>Carrefour S.A.</td>\n",
       "      <td>2022</td>\n",
       "      <td>587000.0</td>\n",
       "    </tr>\n",
       "    <tr>\n",
       "      <th>178</th>\n",
       "      <td>Primark</td>\n",
       "      <td>2021</td>\n",
       "      <td>571000.0</td>\n",
       "    </tr>\n",
       "    <tr>\n",
       "      <th>180</th>\n",
       "      <td>Aldi Nord</td>\n",
       "      <td>2021</td>\n",
       "      <td>381242.0</td>\n",
       "    </tr>\n",
       "    <tr>\n",
       "      <th>72</th>\n",
       "      <td>Fast Retailing</td>\n",
       "      <td>2022</td>\n",
       "      <td>241873.0</td>\n",
       "    </tr>\n",
       "    <tr>\n",
       "      <th>5</th>\n",
       "      <td>Nike Inc.</td>\n",
       "      <td>2023</td>\n",
       "      <td>236984.0</td>\n",
       "    </tr>\n",
       "    <tr>\n",
       "      <th>143</th>\n",
       "      <td>TJX Companies</td>\n",
       "      <td>2021</td>\n",
       "      <td>216684.0</td>\n",
       "    </tr>\n",
       "    <tr>\n",
       "      <th>237</th>\n",
       "      <td>Nike Inc.</td>\n",
       "      <td>2019</td>\n",
       "      <td>145434.0</td>\n",
       "    </tr>\n",
       "    <tr>\n",
       "      <th>342</th>\n",
       "      <td>Nike Inc.</td>\n",
       "      <td>2018</td>\n",
       "      <td>137226.0</td>\n",
       "    </tr>\n",
       "    <tr>\n",
       "      <th>113</th>\n",
       "      <td>Kohl's</td>\n",
       "      <td>2022</td>\n",
       "      <td>137008.0</td>\n",
       "    </tr>\n",
       "    <tr>\n",
       "      <th>32</th>\n",
       "      <td>Burlington Stores Inc</td>\n",
       "      <td>2023</td>\n",
       "      <td>133956.0</td>\n",
       "    </tr>\n",
       "    <tr>\n",
       "      <th>335</th>\n",
       "      <td>Tesco PLC</td>\n",
       "      <td>2019</td>\n",
       "      <td>133492.0</td>\n",
       "    </tr>\n",
       "    <tr>\n",
       "      <th>34</th>\n",
       "      <td>Christian Dior</td>\n",
       "      <td>2023</td>\n",
       "      <td>125095.0</td>\n",
       "    </tr>\n",
       "  </tbody>\n",
       "</table>\n",
       "</div>"
      ],
      "text/plain": [
       "                   Company  Year     Value\n",
       "151                 Kering  2021  691879.0\n",
       "128             Zalando SE  2021  680000.0\n",
       "175         Carrefour S.A.  2021  672000.0\n",
       "110         Carrefour S.A.  2022  587000.0\n",
       "178                Primark  2021  571000.0\n",
       "180              Aldi Nord  2021  381242.0\n",
       "72          Fast Retailing  2022  241873.0\n",
       "5                Nike Inc.  2023  236984.0\n",
       "143          TJX Companies  2021  216684.0\n",
       "237              Nike Inc.  2019  145434.0\n",
       "342              Nike Inc.  2018  137226.0\n",
       "113                 Kohl's  2022  137008.0\n",
       "32   Burlington Stores Inc  2023  133956.0\n",
       "335              Tesco PLC  2019  133492.0\n",
       "34          Christian Dior  2023  125095.0"
      ]
     },
     "execution_count": 228,
     "metadata": {},
     "output_type": "execute_result"
    }
   ],
   "source": [
    "apparel_waste.head(15)"
   ]
  },
  {
   "cell_type": "code",
   "execution_count": 230,
   "id": "f40e8326-dc08-4a2a-8670-ce6af9caa054",
   "metadata": {},
   "outputs": [
    {
     "data": {
      "text/html": [
       "<div>\n",
       "<style scoped>\n",
       "    .dataframe tbody tr th:only-of-type {\n",
       "        vertical-align: middle;\n",
       "    }\n",
       "\n",
       "    .dataframe tbody tr th {\n",
       "        vertical-align: top;\n",
       "    }\n",
       "\n",
       "    .dataframe thead th {\n",
       "        text-align: right;\n",
       "    }\n",
       "</style>\n",
       "<table border=\"1\" class=\"dataframe\">\n",
       "  <thead>\n",
       "    <tr style=\"text-align: right;\">\n",
       "      <th></th>\n",
       "      <th>Company</th>\n",
       "      <th>Year</th>\n",
       "      <th>Value</th>\n",
       "    </tr>\n",
       "  </thead>\n",
       "  <tbody>\n",
       "    <tr>\n",
       "      <th>151</th>\n",
       "      <td>Kering</td>\n",
       "      <td>2021</td>\n",
       "      <td>691879.0</td>\n",
       "    </tr>\n",
       "  </tbody>\n",
       "</table>\n",
       "</div>"
      ],
      "text/plain": [
       "    Company  Year     Value\n",
       "151  Kering  2021  691879.0"
      ]
     },
     "execution_count": 230,
     "metadata": {},
     "output_type": "execute_result"
    }
   ],
   "source": [
    "max_value = apparel_waste['Value'].max()\n",
    "apparel_waste[apparel_waste['Value'] == max_value]"
   ]
  },
  {
   "cell_type": "code",
   "execution_count": 234,
   "id": "a8aea141-fb34-401e-bbee-882b4dfe26a9",
   "metadata": {},
   "outputs": [
    {
     "data": {
      "text/html": [
       "<div>\n",
       "<style scoped>\n",
       "    .dataframe tbody tr th:only-of-type {\n",
       "        vertical-align: middle;\n",
       "    }\n",
       "\n",
       "    .dataframe tbody tr th {\n",
       "        vertical-align: top;\n",
       "    }\n",
       "\n",
       "    .dataframe thead th {\n",
       "        text-align: right;\n",
       "    }\n",
       "</style>\n",
       "<table border=\"1\" class=\"dataframe\">\n",
       "  <thead>\n",
       "    <tr style=\"text-align: right;\">\n",
       "      <th></th>\n",
       "      <th>Company</th>\n",
       "      <th>Year</th>\n",
       "      <th>Value</th>\n",
       "    </tr>\n",
       "  </thead>\n",
       "  <tbody>\n",
       "    <tr>\n",
       "      <th>151</th>\n",
       "      <td>Kering</td>\n",
       "      <td>2021</td>\n",
       "      <td>691879.0</td>\n",
       "    </tr>\n",
       "    <tr>\n",
       "      <th>274</th>\n",
       "      <td>Kering</td>\n",
       "      <td>2019</td>\n",
       "      <td>19834.0</td>\n",
       "    </tr>\n",
       "    <tr>\n",
       "      <th>409</th>\n",
       "      <td>Kering</td>\n",
       "      <td>2017</td>\n",
       "      <td>19195.0</td>\n",
       "    </tr>\n",
       "    <tr>\n",
       "      <th>23</th>\n",
       "      <td>Kering</td>\n",
       "      <td>2023</td>\n",
       "      <td>18945.0</td>\n",
       "    </tr>\n",
       "    <tr>\n",
       "      <th>368</th>\n",
       "      <td>Kering</td>\n",
       "      <td>2018</td>\n",
       "      <td>18527.0</td>\n",
       "    </tr>\n",
       "    <tr>\n",
       "      <th>429</th>\n",
       "      <td>Kering</td>\n",
       "      <td>2016</td>\n",
       "      <td>14680.0</td>\n",
       "    </tr>\n",
       "    <tr>\n",
       "      <th>443</th>\n",
       "      <td>Kering</td>\n",
       "      <td>2015</td>\n",
       "      <td>13871.0</td>\n",
       "    </tr>\n",
       "    <tr>\n",
       "      <th>211</th>\n",
       "      <td>Kering</td>\n",
       "      <td>2020</td>\n",
       "      <td>13366.0</td>\n",
       "    </tr>\n",
       "    <tr>\n",
       "      <th>453</th>\n",
       "      <td>Kering</td>\n",
       "      <td>2014</td>\n",
       "      <td>12205.0</td>\n",
       "    </tr>\n",
       "  </tbody>\n",
       "</table>\n",
       "</div>"
      ],
      "text/plain": [
       "    Company  Year     Value\n",
       "151  Kering  2021  691879.0\n",
       "274  Kering  2019   19834.0\n",
       "409  Kering  2017   19195.0\n",
       "23   Kering  2023   18945.0\n",
       "368  Kering  2018   18527.0\n",
       "429  Kering  2016   14680.0\n",
       "443  Kering  2015   13871.0\n",
       "211  Kering  2020   13366.0\n",
       "453  Kering  2014   12205.0"
      ]
     },
     "execution_count": 234,
     "metadata": {},
     "output_type": "execute_result"
    }
   ],
   "source": [
    "Kering=apparel_waste[apparel_waste.Company=='Kering'].copy()\n",
    "Kering"
   ]
  },
  {
   "cell_type": "markdown",
   "id": "6d6ea7e7-7550-4a82-8fa0-e1d335184c09",
   "metadata": {},
   "source": [
    "#okay, this looks wrong. Why only in one year it's tripled? \n",
    "Let's research Kering. They own Gucci, Saint Laurent, Bottega Veneta, Balenciaga, Alexander McQueen ect. In 2022 20.4 billion in revenue.\n",
    "https://www.kering.com/api/download-file/?path=Kering_Environmental_Profit_and_Loss_Report_2021_EN_Only_e2a0a90be1.pdf\n",
    "the value IS correct. but I assume they just counted it differently that year or...??\n",
    "according to their ecological report, they produced 297,279 tones of waste in 2023...\n",
    "\n",
    "https://kering-group.opendatasoft.com/pages/report/"
   ]
  },
  {
   "cell_type": "code",
   "execution_count": 214,
   "id": "d3a7a9d5-05b0-419a-a4cf-dbbafd430b63",
   "metadata": {
    "scrolled": true
   },
   "outputs": [],
   "source": [
    "apparel_waste_2023=apparel_waste[apparel_waste.Year==2023].copy()\n",
    "apparel_waste_2023.sort_values(by=['Value'], ascending=False, inplace=True)"
   ]
  },
  {
   "cell_type": "code",
   "execution_count": 249,
   "id": "d7dc4be6-47ab-4a78-bb08-32c51008aaf5",
   "metadata": {},
   "outputs": [
    {
     "data": {
      "text/plain": [
       "15"
      ]
     },
     "execution_count": 249,
     "metadata": {},
     "output_type": "execute_result"
    }
   ],
   "source": [
    "#How many companies did not give the data in 2023? 15\n",
    "apparel_waste_2023.isna().sum()\n",
    "Missing2023 = apparel_waste_2023['Value'].isna().sum()\n",
    "Missing2023"
   ]
  },
  {
   "cell_type": "code",
   "execution_count": 202,
   "id": "ce4f902a-6eb1-4d85-b563-6cd200407287",
   "metadata": {},
   "outputs": [
    {
     "data": {
      "image/png": "[encoded data removed]",
      "text/plain": [
       "<Figure size 1000x500 with 1 Axes>"
      ]
     },
     "metadata": {},
     "output_type": "display_data"
    }
   ],
   "source": [
    "#now we want this as a graph + compare to average amount of waste \n",
    "company = list(apparel_waste_2023['Company'])\n",
    "waste = list(apparel_waste_2023['Value'])\n",
    " \n",
    "fig = plt.figure(figsize = (10, 5))\n",
    "\n",
    "# creating the bar plot\n",
    "plt.bar(company, waste, color ='blue', \n",
    "        width = 0.4)\n",
    "\n",
    "plt.xlabel(\"Company\")\n",
    "plt.ylabel(\"Waste Amount\")\n",
    "plt.title(\"Waste Generated by Companies\")\n",
    "\n",
    "plt.show()\n"
   ]
  },
  {
   "cell_type": "code",
   "execution_count": 143,
   "id": "a0e080a4-e6bf-4d12-89ab-9f9978f07865",
   "metadata": {},
   "outputs": [
    {
     "data": {
      "text/html": [
       "<div>\n",
       "<style scoped>\n",
       "    .dataframe tbody tr th:only-of-type {\n",
       "        vertical-align: middle;\n",
       "    }\n",
       "\n",
       "    .dataframe tbody tr th {\n",
       "        vertical-align: top;\n",
       "    }\n",
       "\n",
       "    .dataframe thead th {\n",
       "        text-align: right;\n",
       "    }\n",
       "</style>\n",
       "<table border=\"1\" class=\"dataframe\">\n",
       "  <thead>\n",
       "    <tr style=\"text-align: right;\">\n",
       "      <th></th>\n",
       "      <th>Company</th>\n",
       "      <th>Year</th>\n",
       "      <th>Value</th>\n",
       "    </tr>\n",
       "  </thead>\n",
       "  <tbody>\n",
       "    <tr>\n",
       "      <th>110</th>\n",
       "      <td>Carrefour S.A.</td>\n",
       "      <td>2022</td>\n",
       "      <td>587000.0</td>\n",
       "    </tr>\n",
       "    <tr>\n",
       "      <th>72</th>\n",
       "      <td>Fast Retailing</td>\n",
       "      <td>2022</td>\n",
       "      <td>241873.0</td>\n",
       "    </tr>\n",
       "    <tr>\n",
       "      <th>113</th>\n",
       "      <td>Kohl's</td>\n",
       "      <td>2022</td>\n",
       "      <td>137008.0</td>\n",
       "    </tr>\n",
       "    <tr>\n",
       "      <th>94</th>\n",
       "      <td>Christian Dior</td>\n",
       "      <td>2022</td>\n",
       "      <td>118332.0</td>\n",
       "    </tr>\n",
       "    <tr>\n",
       "      <th>54</th>\n",
       "      <td>Louis Vuitton Malletier SA (LVMH)</td>\n",
       "      <td>2022</td>\n",
       "      <td>118330.0</td>\n",
       "    </tr>\n",
       "    <tr>\n",
       "      <th>...</th>\n",
       "      <td>...</td>\n",
       "      <td>...</td>\n",
       "      <td>...</td>\n",
       "    </tr>\n",
       "    <tr>\n",
       "      <th>109</th>\n",
       "      <td>Target</td>\n",
       "      <td>2022</td>\n",
       "      <td>NaN</td>\n",
       "    </tr>\n",
       "    <tr>\n",
       "      <th>115</th>\n",
       "      <td>Gucci</td>\n",
       "      <td>2022</td>\n",
       "      <td>NaN</td>\n",
       "    </tr>\n",
       "    <tr>\n",
       "      <th>117</th>\n",
       "      <td>Chanel SA</td>\n",
       "      <td>2022</td>\n",
       "      <td>NaN</td>\n",
       "    </tr>\n",
       "    <tr>\n",
       "      <th>118</th>\n",
       "      <td>Tesco PLC</td>\n",
       "      <td>2022</td>\n",
       "      <td>NaN</td>\n",
       "    </tr>\n",
       "    <tr>\n",
       "      <th>119</th>\n",
       "      <td>Vaude</td>\n",
       "      <td>2022</td>\n",
       "      <td>NaN</td>\n",
       "    </tr>\n",
       "  </tbody>\n",
       "</table>\n",
       "<p>71 rows × 3 columns</p>\n",
       "</div>"
      ],
      "text/plain": [
       "                               Company  Year     Value\n",
       "110                     Carrefour S.A.  2022  587000.0\n",
       "72                      Fast Retailing  2022  241873.0\n",
       "113                             Kohl's  2022  137008.0\n",
       "94                      Christian Dior  2022  118332.0\n",
       "54   Louis Vuitton Malletier SA (LVMH)  2022  118330.0\n",
       "..                                 ...   ...       ...\n",
       "109                             Target  2022       NaN\n",
       "115                              Gucci  2022       NaN\n",
       "117                          Chanel SA  2022       NaN\n",
       "118                          Tesco PLC  2022       NaN\n",
       "119                              Vaude  2022       NaN\n",
       "\n",
       "[71 rows x 3 columns]"
      ]
     },
     "execution_count": 143,
     "metadata": {},
     "output_type": "execute_result"
    }
   ],
   "source": [
    "apparel_waste_2022=apparel_waste[apparel_waste.Year==2022].copy()\n",
    "apparel_waste_2022=apparel_waste_2022.sort_values(by=['Value'], ascending=False)\n",
    "apparel_waste_2022.head(40)"
   ]
  },
  {
   "cell_type": "code",
   "execution_count": 247,
   "id": "e0428ec2-bb84-4394-8411-2d12d6209ba3",
   "metadata": {},
   "outputs": [
    {
     "data": {
      "text/plain": [
       "30"
      ]
     },
     "execution_count": 247,
     "metadata": {},
     "output_type": "execute_result"
    }
   ],
   "source": [
    "#How many companies did not give the data in 2022? 30\n",
    "Missing2022 = apparel_waste_2022['Value'].isna().sum()\n",
    "Missing2022"
   ]
  },
  {
   "cell_type": "code",
   "execution_count": 243,
   "id": "920b9193-7edc-4e3c-a5a3-2a444b9f38fc",
   "metadata": {},
   "outputs": [
    {
     "data": {
      "text/plain": [
       "35"
      ]
     },
     "execution_count": 243,
     "metadata": {},
     "output_type": "execute_result"
    }
   ],
   "source": [
    "apparel_waste_2021=apparel_waste[apparel_waste.Year==2021].copy()\n",
    "apparel_waste_2021=apparel_waste_2021.sort_values(by=['Value'], ascending=False)\n",
    "Missing2021 = apparel_waste_2021['Value'].isna().sum()\n",
    "Missing2021"
   ]
  },
  {
   "cell_type": "code",
   "execution_count": 253,
   "id": "39ea7655-9a3b-4aed-81c2-6f7efc4193ac",
   "metadata": {},
   "outputs": [
    {
     "data": {
      "text/plain": [
       "22"
      ]
     },
     "execution_count": 253,
     "metadata": {},
     "output_type": "execute_result"
    }
   ],
   "source": [
    "apparel_waste_2020 = apparel_waste[apparel_waste.Year==2020].copy()\n",
    "Missing2020 = apparel_waste_2020['Value'].isna().sum()\n",
    "Missing2020"
   ]
  },
  {
   "cell_type": "code",
   "execution_count": null,
   "id": "38a2c6b8-ec9a-4bf4-9864-67f2a636dfbc",
   "metadata": {},
   "outputs": [],
   "source": []
  }
 ],
 "metadata": {
  "kernelspec": {
   "display_name": "Python 3 (ipykernel)",
   "language": "python",
   "name": "python3"
  },
  "language_info": {
   "codemirror_mode": {
    "name": "ipython",
    "version": 3
   },
   "file_extension": ".py",
   "mimetype": "text/x-python",
   "name": "python",
   "nbconvert_exporter": "python",
   "pygments_lexer": "ipython3",
   "version": "3.11.7"
  }
 },
 "nbformat": 4,
 "nbformat_minor": 5
}
