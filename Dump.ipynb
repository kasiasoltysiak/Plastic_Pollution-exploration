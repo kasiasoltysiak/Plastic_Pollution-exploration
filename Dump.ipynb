{
 "cells": [
  {
   "cell_type": "markdown",
   "metadata": {},
   "source": [
    "<h1>Fashion and Waste</h1>\n"
   ]
  },
  {
   "cell_type": "markdown",
   "metadata": {},
   "source": [
    "We aim to explore waste in relationship with textile industry. We start from researching Kaggle and googling for specific topics. \n",
    "Because of datasets available, we decided to focus on plastics. "
   ]
  },
  {
   "cell_type": "code",
   "execution_count": 1,
   "metadata": {},
   "outputs": [],
   "source": [
    "import numpy as np\n",
    "import pandas as pd "
   ]
  },
  {
   "cell_type": "code",
   "execution_count": 41,
   "metadata": {},
   "outputs": [
    {
     "data": {
      "text/html": [
       "<div>\n",
       "<style scoped>\n",
       "    .dataframe tbody tr th:only-of-type {\n",
       "        vertical-align: middle;\n",
       "    }\n",
       "\n",
       "    .dataframe tbody tr th {\n",
       "        vertical-align: top;\n",
       "    }\n",
       "\n",
       "    .dataframe thead th {\n",
       "        text-align: right;\n",
       "    }\n",
       "</style>\n",
       "<table border=\"1\" class=\"dataframe\">\n",
       "  <thead>\n",
       "    <tr style=\"text-align: right;\">\n",
       "      <th></th>\n",
       "      <th>Metric</th>\n",
       "      <th>Company</th>\n",
       "      <th>Year</th>\n",
       "      <th>Value</th>\n",
       "      <th>Source Page</th>\n",
       "    </tr>\n",
       "  </thead>\n",
       "  <tbody>\n",
       "    <tr>\n",
       "      <th>0</th>\n",
       "      <td>Global Reporting Initiative+Hazardous Waste Re...</td>\n",
       "      <td>Inditex</td>\n",
       "      <td>2023</td>\n",
       "      <td>34.488</td>\n",
       "      <td>https://wikirate.org/~18085986</td>\n",
       "    </tr>\n",
       "    <tr>\n",
       "      <th>1</th>\n",
       "      <td>Global Reporting Initiative+Hazardous Waste Re...</td>\n",
       "      <td>H&amp;M</td>\n",
       "      <td>2023</td>\n",
       "      <td>Unknown</td>\n",
       "      <td>https://wikirate.org/~19244996</td>\n",
       "    </tr>\n",
       "    <tr>\n",
       "      <th>2</th>\n",
       "      <td>Global Reporting Initiative+Hazardous Waste Re...</td>\n",
       "      <td>Nike Inc.</td>\n",
       "      <td>2023</td>\n",
       "      <td>Unknown</td>\n",
       "      <td>https://wikirate.org/~18082680</td>\n",
       "    </tr>\n",
       "    <tr>\n",
       "      <th>3</th>\n",
       "      <td>Global Reporting Initiative+Hazardous Waste Re...</td>\n",
       "      <td>Adidas AG</td>\n",
       "      <td>2023</td>\n",
       "      <td>Unknown</td>\n",
       "      <td>https://wikirate.org/~18074968</td>\n",
       "    </tr>\n",
       "    <tr>\n",
       "      <th>4</th>\n",
       "      <td>Global Reporting Initiative+Hazardous Waste Re...</td>\n",
       "      <td>Prada</td>\n",
       "      <td>2023</td>\n",
       "      <td>1</td>\n",
       "      <td>https://wikirate.org/~19859227</td>\n",
       "    </tr>\n",
       "  </tbody>\n",
       "</table>\n",
       "</div>"
      ],
      "text/plain": [
       "                                              Metric    Company  Year  \\\n",
       "0  Global Reporting Initiative+Hazardous Waste Re...    Inditex  2023   \n",
       "1  Global Reporting Initiative+Hazardous Waste Re...        H&M  2023   \n",
       "2  Global Reporting Initiative+Hazardous Waste Re...  Nike Inc.  2023   \n",
       "3  Global Reporting Initiative+Hazardous Waste Re...  Adidas AG  2023   \n",
       "4  Global Reporting Initiative+Hazardous Waste Re...      Prada  2023   \n",
       "\n",
       "     Value                     Source Page  \n",
       "0   34.488  https://wikirate.org/~18085986  \n",
       "1  Unknown  https://wikirate.org/~19244996  \n",
       "2  Unknown  https://wikirate.org/~18082680  \n",
       "3  Unknown  https://wikirate.org/~18074968  \n",
       "4        1  https://wikirate.org/~19859227  "
      ]
     },
     "execution_count": 41,
     "metadata": {},
     "output_type": "execute_result"
    }
   ],
   "source": [
    "#apparel data from Wikirate - it was tricky to access desired data. It is not possible to download more than 500 lines of data. Now, I filtered the data by companies which 1. are present in Europe 2. Gave most answers to the data set\n",
    "\n",
    "#now we have data from 2022 and 2023 from: Inditex, H&M, Nike, Prada, Adidas and few more\n",
    "#https://www.fashionrevolution.org is a useful reseource on the topic\n",
    "\n",
    "data = pd.read_csv('Data sets/fashion-waste.csv')\n",
    "data.head()\n",
    "\n",
    "#I will clean this data set in a separate notebook"
   ]
  },
  {
   "cell_type": "markdown",
   "metadata": {},
   "source": [
    "Brands we consider: Inditex, H&M, Nike Inc., Adidas AG, Prada, Asos, Gap inc., Louis Vuitton Malletier SA (LVMH)"
   ]
  },
  {
   "cell_type": "markdown",
   "metadata": {},
   "source": [
    "Questions to Asia about this data:\n",
    "- values numerical and descriptive together\n",
    "- different units for different metrics in one dataset\n",
    "- "
   ]
  },
  {
   "cell_type": "code",
   "execution_count": null,
   "metadata": {},
   "outputs": [],
   "source": []
  }
 ],
 "metadata": {
  "kernelspec": {
   "display_name": "Python 3 (ipykernel)",
   "language": "python",
   "name": "python3"
  },
  "language_info": {
   "codemirror_mode": {
    "name": "ipython",
    "version": 3
   },
   "file_extension": ".py",
   "mimetype": "text/x-python",
   "name": "python",
   "nbconvert_exporter": "python",
   "pygments_lexer": "ipython3",
   "version": "3.11.7"
  }
 },
 "nbformat": 4,
 "nbformat_minor": 4
}
