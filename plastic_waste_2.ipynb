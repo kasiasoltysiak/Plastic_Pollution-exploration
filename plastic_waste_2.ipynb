{
 "cells": [
  {
   "cell_type": "markdown",
   "metadata": {},
   "source": [
    "# Plastic Pollution Country Data 2023\n",
    "\n",
    "This dataset provides a detailed analysis of <b>global plastic waste production and management across 165 countries for the year 2023.</b> The data encompasses multiple aspects of plastic waste handling, from production volumes to recycling efficiency and environmental risk assessment."
   ]
  },
  {
   "cell_type": "code",
   "execution_count": 1,
   "metadata": {},
   "outputs": [],
   "source": [
    "import pandas as pd\n",
    "pd.options.mode.chained_assignment = None\n",
    "\n",
    "import numpy as np\n",
    "import seaborn as sns\n",
    "import matplotlib.pyplot as plt\n",
    "import plotly.graph_objects as go\n",
    "import plotly.express as px\n",
    "\n",
    "import warnings\n",
    "warnings.filterwarnings('ignore')"
   ]
  },
  {
   "cell_type": "code",
   "execution_count": 2,
   "metadata": {},
   "outputs": [],
   "source": [
    "#Read CSV\n",
    "\n",
    "global_waste_df = pd.read_csv(\"Data sets/plastic_waste_country_data_2023.csv\")"
   ]
  },
  {
   "cell_type": "code",
   "execution_count": 3,
   "metadata": {},
   "outputs": [
    {
     "data": {
      "text/plain": [
       "Index(['Country', 'Total_Plastic_Waste_MT', 'Main_Sources', 'Recycling_Rate',\n",
       "       'Per_Capita_Waste_KG', 'Coastal_Waste_Risk'],\n",
       "      dtype='object')"
      ]
     },
     "execution_count": 3,
     "metadata": {},
     "output_type": "execute_result"
    }
   ],
   "source": [
    "global_waste_df.columns"
   ]
  },
  {
   "cell_type": "code",
   "execution_count": 6,
   "metadata": {},
   "outputs": [
    {
     "data": {
      "text/plain": [
       "Country                   0\n",
       "Total_Plastic_Waste_MT    0\n",
       "Main_Sources              0\n",
       "Recycling_Rate            0\n",
       "Per_Capita_Waste_KG       0\n",
       "Coastal_Waste_Risk        0\n",
       "dtype: int64"
      ]
     },
     "execution_count": 6,
     "metadata": {},
     "output_type": "execute_result"
    }
   ],
   "source": [
    "global_waste_df.isnull().sum()"
   ]
  },
  {
   "cell_type": "code",
   "execution_count": 7,
   "metadata": {},
   "outputs": [
    {
     "data": {
      "text/html": [
       "<div>\n",
       "<style scoped>\n",
       "    .dataframe tbody tr th:only-of-type {\n",
       "        vertical-align: middle;\n",
       "    }\n",
       "\n",
       "    .dataframe tbody tr th {\n",
       "        vertical-align: top;\n",
       "    }\n",
       "\n",
       "    .dataframe thead th {\n",
       "        text-align: right;\n",
       "    }\n",
       "</style>\n",
       "<table border=\"1\" class=\"dataframe\">\n",
       "  <thead>\n",
       "    <tr style=\"text-align: right;\">\n",
       "      <th></th>\n",
       "      <th>Country</th>\n",
       "      <th>Total_Plastic_Waste_MT</th>\n",
       "      <th>Main_Sources</th>\n",
       "      <th>Recycling_Rate</th>\n",
       "      <th>Per_Capita_Waste_KG</th>\n",
       "      <th>Coastal_Waste_Risk</th>\n",
       "    </tr>\n",
       "  </thead>\n",
       "  <tbody>\n",
       "    <tr>\n",
       "      <th>0</th>\n",
       "      <td>China</td>\n",
       "      <td>59.08</td>\n",
       "      <td>Packaging_Industrial</td>\n",
       "      <td>29.8</td>\n",
       "      <td>41.2</td>\n",
       "      <td>High</td>\n",
       "    </tr>\n",
       "    <tr>\n",
       "      <th>1</th>\n",
       "      <td>United States</td>\n",
       "      <td>42.02</td>\n",
       "      <td>Packaging_Consumer</td>\n",
       "      <td>32.1</td>\n",
       "      <td>127.5</td>\n",
       "      <td>Medium</td>\n",
       "    </tr>\n",
       "    <tr>\n",
       "      <th>2</th>\n",
       "      <td>India</td>\n",
       "      <td>26.33</td>\n",
       "      <td>Consumer_Goods</td>\n",
       "      <td>11.5</td>\n",
       "      <td>19.3</td>\n",
       "      <td>High</td>\n",
       "    </tr>\n",
       "    <tr>\n",
       "      <th>3</th>\n",
       "      <td>Japan</td>\n",
       "      <td>7.99</td>\n",
       "      <td>Packaging_Electronics</td>\n",
       "      <td>84.8</td>\n",
       "      <td>63.2</td>\n",
       "      <td>Medium</td>\n",
       "    </tr>\n",
       "    <tr>\n",
       "      <th>4</th>\n",
       "      <td>Germany</td>\n",
       "      <td>6.28</td>\n",
       "      <td>Automotive_Packaging</td>\n",
       "      <td>56.1</td>\n",
       "      <td>75.6</td>\n",
       "      <td>Low</td>\n",
       "    </tr>\n",
       "  </tbody>\n",
       "</table>\n",
       "</div>"
      ],
      "text/plain": [
       "         Country  Total_Plastic_Waste_MT           Main_Sources  \\\n",
       "0          China                   59.08   Packaging_Industrial   \n",
       "1  United States                   42.02     Packaging_Consumer   \n",
       "2          India                   26.33         Consumer_Goods   \n",
       "3          Japan                    7.99  Packaging_Electronics   \n",
       "4        Germany                    6.28   Automotive_Packaging   \n",
       "\n",
       "   Recycling_Rate  Per_Capita_Waste_KG Coastal_Waste_Risk  \n",
       "0            29.8                 41.2               High  \n",
       "1            32.1                127.5             Medium  \n",
       "2            11.5                 19.3               High  \n",
       "3            84.8                 63.2             Medium  \n",
       "4            56.1                 75.6                Low  "
      ]
     },
     "execution_count": 7,
     "metadata": {},
     "output_type": "execute_result"
    }
   ],
   "source": [
    "global_waste_df.head()"
   ]
  },
  {
   "cell_type": "markdown",
   "metadata": {},
   "source": [
    "<h1> Top plastic producing countries (in MT) </H1>"
   ]
  },
  {
   "cell_type": "code",
   "execution_count": 4,
   "metadata": {},
   "outputs": [
    {
     "data": {
      "application/vnd.plotly.v1+json": {
       "config": {
        "plotlyServerURL": "https://plot.ly"
       },
       "data": [
        {
         "coloraxis": "coloraxis",
         "geo": "geo",
         "hovertemplate": "<b>%{hovertext}</b><br><br>Country=%{location}<br>Total_Plastic_Waste_MT=%{z}<extra></extra>",
         "hovertext": [
          "China",
          "United States",
          "India",
          "Japan",
          "Germany",
          "Brazil",
          "Indonesia",
          "Russia",
          "United Kingdom",
          "France",
          "Mexico",
          "Canada",
          "Italy",
          "Turkey",
          "South Korea",
          "Spain",
          "Vietnam",
          "Thailand",
          "Malaysia",
          "Poland",
          "Egypt",
          "Argentina",
          "Netherlands",
          "Australia",
          "Saudi Arabia",
          "Philippines",
          "Bangladesh",
          "Pakistan",
          "South Africa",
          "Colombia",
          "Nigeria",
          "Belgium",
          "Sweden",
          "Austria",
          "Ukraine",
          "Greece",
          "Czech Republic",
          "Romania",
          "Portugal",
          "Hungary",
          "Denmark",
          "Finland",
          "Norway",
          "Ireland",
          "Singapore",
          "Chile",
          "Israel",
          "Peru",
          "Kazakhstan",
          "Morocco",
          "Algeria",
          "Slovakia",
          "Ecuador",
          "Belarus",
          "Dominican Republic",
          "Bulgaria",
          "Tunisia",
          "Sri Lanka",
          "Azerbaijan",
          "Croatia",
          "Uruguay",
          "Lithuania",
          "Slovenia",
          "Costa Rica",
          "Panama",
          "Kuwait",
          "Jordan",
          "Lebanon",
          "Oman",
          "Bolivia",
          "Paraguay",
          "Latvia",
          "Estonia",
          "Bahrain",
          "Trinidad and Tobago",
          "Cyprus",
          "Montenegro",
          "Luxembourg",
          "Malta",
          "Iceland",
          "Qatar",
          "Cambodia",
          "Myanmar",
          "Laos",
          "Mongolia",
          "Afghanistan",
          "Yemen",
          "Syria",
          "Iraq",
          "Libya",
          "Sudan",
          "Somalia",
          "Ethiopia",
          "Kenya",
          "Tanzania",
          "Uganda",
          "Rwanda",
          "Burundi",
          "Malawi",
          "Mozambique",
          "Zimbabwe",
          "Zambia",
          "Angola",
          "Namibia",
          "Botswana",
          "Lesotho",
          "Eswatini",
          "Madagascar",
          "Comoros",
          "Mauritius",
          "Seychelles",
          "Cape Verde",
          "Sao Tome and Principe",
          "Guinea-Bissau",
          "Guinea",
          "Sierra Leone",
          "Liberia",
          "Ivory Coast",
          "Ghana",
          "Togo",
          "Benin",
          "Mali",
          "Burkina Faso",
          "Niger",
          "Chad",
          "Central African Republic",
          "Cameroon",
          "Gabon",
          "Republic of Congo",
          "Democratic Republic of Congo",
          "Eritrea",
          "Djibouti",
          "Senegal",
          "Gambia",
          "Mauritania",
          "Western Sahara",
          "Moldova",
          "Albania",
          "North Macedonia",
          "Bosnia and Herzegovina",
          "Kosovo",
          "Georgia",
          "Armenia",
          "Kyrgyzstan",
          "Tajikistan",
          "Turkmenistan",
          "Uzbekistan",
          "Nepal",
          "Bhutan",
          "Maldives",
          "Brunei",
          "East Timor",
          "Papua New Guinea",
          "Solomon Islands",
          "Vanuatu",
          "New Caledonia",
          "Fiji",
          "Samoa",
          "Tonga",
          "Kiribati",
          "Marshall Islands",
          "Micronesia",
          "Palau",
          "Tuvalu",
          "Nauru"
         ],
         "locationmode": "country names",
         "locations": [
          "China",
          "United States",
          "India",
          "Japan",
          "Germany",
          "Brazil",
          "Indonesia",
          "Russia",
          "United Kingdom",
          "France",
          "Mexico",
          "Canada",
          "Italy",
          "Turkey",
          "South Korea",
          "Spain",
          "Vietnam",
          "Thailand",
          "Malaysia",
          "Poland",
          "Egypt",
          "Argentina",
          "Netherlands",
          "Australia",
          "Saudi Arabia",
          "Philippines",
          "Bangladesh",
          "Pakistan",
          "South Africa",
          "Colombia",
          "Nigeria",
          "Belgium",
          "Sweden",
          "Austria",
          "Ukraine",
          "Greece",
          "Czech Republic",
          "Romania",
          "Portugal",
          "Hungary",
          "Denmark",
          "Finland",
          "Norway",
          "Ireland",
          "Singapore",
          "Chile",
          "Israel",
          "Peru",
          "Kazakhstan",
          "Morocco",
          "Algeria",
          "Slovakia",
          "Ecuador",
          "Belarus",
          "Dominican Republic",
          "Bulgaria",
          "Tunisia",
          "Sri Lanka",
          "Azerbaijan",
          "Croatia",
          "Uruguay",
          "Lithuania",
          "Slovenia",
          "Costa Rica",
          "Panama",
          "Kuwait",
          "Jordan",
          "Lebanon",
          "Oman",
          "Bolivia",
          "Paraguay",
          "Latvia",
          "Estonia",
          "Bahrain",
          "Trinidad and Tobago",
          "Cyprus",
          "Montenegro",
          "Luxembourg",
          "Malta",
          "Iceland",
          "Qatar",
          "Cambodia",
          "Myanmar",
          "Laos",
          "Mongolia",
          "Afghanistan",
          "Yemen",
          "Syria",
          "Iraq",
          "Libya",
          "Sudan",
          "Somalia",
          "Ethiopia",
          "Kenya",
          "Tanzania",
          "Uganda",
          "Rwanda",
          "Burundi",
          "Malawi",
          "Mozambique",
          "Zimbabwe",
          "Zambia",
          "Angola",
          "Namibia",
          "Botswana",
          "Lesotho",
          "Eswatini",
          "Madagascar",
          "Comoros",
          "Mauritius",
          "Seychelles",
          "Cape Verde",
          "Sao Tome and Principe",
          "Guinea-Bissau",
          "Guinea",
          "Sierra Leone",
          "Liberia",
          "Ivory Coast",
          "Ghana",
          "Togo",
          "Benin",
          "Mali",
          "Burkina Faso",
          "Niger",
          "Chad",
          "Central African Republic",
          "Cameroon",
          "Gabon",
          "Republic of Congo",
          "Democratic Republic of Congo",
          "Eritrea",
          "Djibouti",
          "Senegal",
          "Gambia",
          "Mauritania",
          "Western Sahara",
          "Moldova",
          "Albania",
          "North Macedonia",
          "Bosnia and Herzegovina",
          "Kosovo",
          "Georgia",
          "Armenia",
          "Kyrgyzstan",
          "Tajikistan",
          "Turkmenistan",
          "Uzbekistan",
          "Nepal",
          "Bhutan",
          "Maldives",
          "Brunei",
          "East Timor",
          "Papua New Guinea",
          "Solomon Islands",
          "Vanuatu",
          "New Caledonia",
          "Fiji",
          "Samoa",
          "Tonga",
          "Kiribati",
          "Marshall Islands",
          "Micronesia",
          "Palau",
          "Tuvalu",
          "Nauru"
         ],
         "name": "",
         "type": "choropleth",
         "z": [
          59.08,
          42.02,
          26.33,
          7.99,
          6.28,
          5.96,
          5.85,
          5.84,
          5.03,
          4.98,
          4.43,
          3.89,
          3.83,
          3.21,
          2.91,
          2.58,
          2.54,
          2.41,
          2.31,
          2.21,
          2.01,
          1.98,
          1.78,
          1.67,
          1.65,
          1.63,
          1.61,
          1.59,
          1.58,
          1.54,
          1.53,
          1.52,
          1.51,
          1.48,
          1.47,
          1.45,
          1.43,
          1.41,
          1.39,
          1.37,
          1.35,
          1.33,
          1.31,
          1.29,
          1.27,
          1.25,
          1.23,
          1.21,
          1.19,
          1.17,
          1.15,
          1.13,
          1.11,
          1.09,
          1.07,
          1.05,
          1.03,
          1.01,
          0.99,
          0.97,
          0.95,
          0.93,
          0.91,
          0.89,
          0.87,
          0.85,
          0.83,
          0.81,
          0.79,
          0.77,
          0.75,
          0.73,
          0.71,
          0.69,
          0.67,
          0.65,
          0.63,
          0.61,
          0.59,
          0.57,
          0.55,
          0.53,
          0.51,
          0.49,
          0.47,
          0.45,
          0.43,
          0.41,
          0.39,
          0.37,
          0.35,
          0.33,
          0.31,
          0.29,
          0.27,
          0.25,
          0.23,
          0.21,
          0.19,
          0.17,
          0.15,
          0.13,
          0.11,
          0.09,
          0.07,
          0.05,
          0.03,
          0.21,
          0.02,
          0.08,
          0.01,
          0.02,
          0.01,
          0.04,
          0.08,
          0.06,
          0.05,
          0.18,
          0.22,
          0.07,
          0.09,
          0.12,
          0.14,
          0.11,
          0.09,
          0.04,
          0.19,
          0.06,
          0.08,
          0.24,
          0.05,
          0.03,
          0.16,
          0.02,
          0.07,
          0.01,
          0.28,
          0.31,
          0.29,
          0.34,
          0.21,
          0.33,
          0.28,
          0.25,
          0.22,
          0.35,
          0.42,
          0.38,
          0.05,
          0.04,
          0.12,
          0.06,
          0.15,
          0.03,
          0.02,
          0.04,
          0.07,
          0.01,
          0.01,
          0.01,
          0.01,
          0.01,
          0.01,
          0.01,
          0.01
         ]
        }
       ],
       "layout": {
        "coloraxis": {
         "colorbar": {
          "title": {
           "text": "Total_Plastic_Waste_MT"
          }
         },
         "colorscale": [
          [
           0,
           "rgb(255,245,240)"
          ],
          [
           0.125,
           "rgb(254,224,210)"
          ],
          [
           0.25,
           "rgb(252,187,161)"
          ],
          [
           0.375,
           "rgb(252,146,114)"
          ],
          [
           0.5,
           "rgb(251,106,74)"
          ],
          [
           0.625,
           "rgb(239,59,44)"
          ],
          [
           0.75,
           "rgb(203,24,29)"
          ],
          [
           0.875,
           "rgb(165,15,21)"
          ],
          [
           1,
           "rgb(103,0,13)"
          ]
         ]
        },
        "geo": {
         "center": {},
         "domain": {
          "x": [
           0,
           1
          ],
          "y": [
           0,
           1
          ]
         }
        },
        "legend": {
         "tracegroupgap": 0
        },
        "template": {
         "data": {
          "bar": [
           {
            "error_x": {
             "color": "#2a3f5f"
            },
            "error_y": {
             "color": "#2a3f5f"
            },
            "marker": {
             "line": {
              "color": "#E5ECF6",
              "width": 0.5
             },
             "pattern": {
              "fillmode": "overlay",
              "size": 10,
              "solidity": 0.2
             }
            },
            "type": "bar"
           }
          ],
          "barpolar": [
           {
            "marker": {
             "line": {
              "color": "#E5ECF6",
              "width": 0.5
             },
             "pattern": {
              "fillmode": "overlay",
              "size": 10,
              "solidity": 0.2
             }
            },
            "type": "barpolar"
           }
          ],
          "carpet": [
           {
            "aaxis": {
             "endlinecolor": "#2a3f5f",
             "gridcolor": "white",
             "linecolor": "white",
             "minorgridcolor": "white",
             "startlinecolor": "#2a3f5f"
            },
            "baxis": {
             "endlinecolor": "#2a3f5f",
             "gridcolor": "white",
             "linecolor": "white",
             "minorgridcolor": "white",
             "startlinecolor": "#2a3f5f"
            },
            "type": "carpet"
           }
          ],
          "choropleth": [
           {
            "colorbar": {
             "outlinewidth": 0,
             "ticks": ""
            },
            "type": "choropleth"
           }
          ],
          "contour": [
           {
            "colorbar": {
             "outlinewidth": 0,
             "ticks": ""
            },
            "colorscale": [
             [
              0,
              "#0d0887"
             ],
             [
              0.1111111111111111,
              "#46039f"
             ],
             [
              0.2222222222222222,
              "#7201a8"
             ],
             [
              0.3333333333333333,
              "#9c179e"
             ],
             [
              0.4444444444444444,
              "#bd3786"
             ],
             [
              0.5555555555555556,
              "#d8576b"
             ],
             [
              0.6666666666666666,
              "#ed7953"
             ],
             [
              0.7777777777777778,
              "#fb9f3a"
             ],
             [
              0.8888888888888888,
              "#fdca26"
             ],
             [
              1,
              "#f0f921"
             ]
            ],
            "type": "contour"
           }
          ],
          "contourcarpet": [
           {
            "colorbar": {
             "outlinewidth": 0,
             "ticks": ""
            },
            "type": "contourcarpet"
           }
          ],
          "heatmap": [
           {
            "colorbar": {
             "outlinewidth": 0,
             "ticks": ""
            },
            "colorscale": [
             [
              0,
              "#0d0887"
             ],
             [
              0.1111111111111111,
              "#46039f"
             ],
             [
              0.2222222222222222,
              "#7201a8"
             ],
             [
              0.3333333333333333,
              "#9c179e"
             ],
             [
              0.4444444444444444,
              "#bd3786"
             ],
             [
              0.5555555555555556,
              "#d8576b"
             ],
             [
              0.6666666666666666,
              "#ed7953"
             ],
             [
              0.7777777777777778,
              "#fb9f3a"
             ],
             [
              0.8888888888888888,
              "#fdca26"
             ],
             [
              1,
              "#f0f921"
             ]
            ],
            "type": "heatmap"
           }
          ],
          "heatmapgl": [
           {
            "colorbar": {
             "outlinewidth": 0,
             "ticks": ""
            },
            "colorscale": [
             [
              0,
              "#0d0887"
             ],
             [
              0.1111111111111111,
              "#46039f"
             ],
             [
              0.2222222222222222,
              "#7201a8"
             ],
             [
              0.3333333333333333,
              "#9c179e"
             ],
             [
              0.4444444444444444,
              "#bd3786"
             ],
             [
              0.5555555555555556,
              "#d8576b"
             ],
             [
              0.6666666666666666,
              "#ed7953"
             ],
             [
              0.7777777777777778,
              "#fb9f3a"
             ],
             [
              0.8888888888888888,
              "#fdca26"
             ],
             [
              1,
              "#f0f921"
             ]
            ],
            "type": "heatmapgl"
           }
          ],
          "histogram": [
           {
            "marker": {
             "pattern": {
              "fillmode": "overlay",
              "size": 10,
              "solidity": 0.2
             }
            },
            "type": "histogram"
           }
          ],
          "histogram2d": [
           {
            "colorbar": {
             "outlinewidth": 0,
             "ticks": ""
            },
            "colorscale": [
             [
              0,
              "#0d0887"
             ],
             [
              0.1111111111111111,
              "#46039f"
             ],
             [
              0.2222222222222222,
              "#7201a8"
             ],
             [
              0.3333333333333333,
              "#9c179e"
             ],
             [
              0.4444444444444444,
              "#bd3786"
             ],
             [
              0.5555555555555556,
              "#d8576b"
             ],
             [
              0.6666666666666666,
              "#ed7953"
             ],
             [
              0.7777777777777778,
              "#fb9f3a"
             ],
             [
              0.8888888888888888,
              "#fdca26"
             ],
             [
              1,
              "#f0f921"
             ]
            ],
            "type": "histogram2d"
           }
          ],
          "histogram2dcontour": [
           {
            "colorbar": {
             "outlinewidth": 0,
             "ticks": ""
            },
            "colorscale": [
             [
              0,
              "#0d0887"
             ],
             [
              0.1111111111111111,
              "#46039f"
             ],
             [
              0.2222222222222222,
              "#7201a8"
             ],
             [
              0.3333333333333333,
              "#9c179e"
             ],
             [
              0.4444444444444444,
              "#bd3786"
             ],
             [
              0.5555555555555556,
              "#d8576b"
             ],
             [
              0.6666666666666666,
              "#ed7953"
             ],
             [
              0.7777777777777778,
              "#fb9f3a"
             ],
             [
              0.8888888888888888,
              "#fdca26"
             ],
             [
              1,
              "#f0f921"
             ]
            ],
            "type": "histogram2dcontour"
           }
          ],
          "mesh3d": [
           {
            "colorbar": {
             "outlinewidth": 0,
             "ticks": ""
            },
            "type": "mesh3d"
           }
          ],
          "parcoords": [
           {
            "line": {
             "colorbar": {
              "outlinewidth": 0,
              "ticks": ""
             }
            },
            "type": "parcoords"
           }
          ],
          "pie": [
           {
            "automargin": true,
            "type": "pie"
           }
          ],
          "scatter": [
           {
            "fillpattern": {
             "fillmode": "overlay",
             "size": 10,
             "solidity": 0.2
            },
            "type": "scatter"
           }
          ],
          "scatter3d": [
           {
            "line": {
             "colorbar": {
              "outlinewidth": 0,
              "ticks": ""
             }
            },
            "marker": {
             "colorbar": {
              "outlinewidth": 0,
              "ticks": ""
             }
            },
            "type": "scatter3d"
           }
          ],
          "scattercarpet": [
           {
            "marker": {
             "colorbar": {
              "outlinewidth": 0,
              "ticks": ""
             }
            },
            "type": "scattercarpet"
           }
          ],
          "scattergeo": [
           {
            "marker": {
             "colorbar": {
              "outlinewidth": 0,
              "ticks": ""
             }
            },
            "type": "scattergeo"
           }
          ],
          "scattergl": [
           {
            "marker": {
             "colorbar": {
              "outlinewidth": 0,
              "ticks": ""
             }
            },
            "type": "scattergl"
           }
          ],
          "scattermapbox": [
           {
            "marker": {
             "colorbar": {
              "outlinewidth": 0,
              "ticks": ""
             }
            },
            "type": "scattermapbox"
           }
          ],
          "scatterpolar": [
           {
            "marker": {
             "colorbar": {
              "outlinewidth": 0,
              "ticks": ""
             }
            },
            "type": "scatterpolar"
           }
          ],
          "scatterpolargl": [
           {
            "marker": {
             "colorbar": {
              "outlinewidth": 0,
              "ticks": ""
             }
            },
            "type": "scatterpolargl"
           }
          ],
          "scatterternary": [
           {
            "marker": {
             "colorbar": {
              "outlinewidth": 0,
              "ticks": ""
             }
            },
            "type": "scatterternary"
           }
          ],
          "surface": [
           {
            "colorbar": {
             "outlinewidth": 0,
             "ticks": ""
            },
            "colorscale": [
             [
              0,
              "#0d0887"
             ],
             [
              0.1111111111111111,
              "#46039f"
             ],
             [
              0.2222222222222222,
              "#7201a8"
             ],
             [
              0.3333333333333333,
              "#9c179e"
             ],
             [
              0.4444444444444444,
              "#bd3786"
             ],
             [
              0.5555555555555556,
              "#d8576b"
             ],
             [
              0.6666666666666666,
              "#ed7953"
             ],
             [
              0.7777777777777778,
              "#fb9f3a"
             ],
             [
              0.8888888888888888,
              "#fdca26"
             ],
             [
              1,
              "#f0f921"
             ]
            ],
            "type": "surface"
           }
          ],
          "table": [
           {
            "cells": {
             "fill": {
              "color": "#EBF0F8"
             },
             "line": {
              "color": "white"
             }
            },
            "header": {
             "fill": {
              "color": "#C8D4E3"
             },
             "line": {
              "color": "white"
             }
            },
            "type": "table"
           }
          ]
         },
         "layout": {
          "annotationdefaults": {
           "arrowcolor": "#2a3f5f",
           "arrowhead": 0,
           "arrowwidth": 1
          },
          "autotypenumbers": "strict",
          "coloraxis": {
           "colorbar": {
            "outlinewidth": 0,
            "ticks": ""
           }
          },
          "colorscale": {
           "diverging": [
            [
             0,
             "#8e0152"
            ],
            [
             0.1,
             "#c51b7d"
            ],
            [
             0.2,
             "#de77ae"
            ],
            [
             0.3,
             "#f1b6da"
            ],
            [
             0.4,
             "#fde0ef"
            ],
            [
             0.5,
             "#f7f7f7"
            ],
            [
             0.6,
             "#e6f5d0"
            ],
            [
             0.7,
             "#b8e186"
            ],
            [
             0.8,
             "#7fbc41"
            ],
            [
             0.9,
             "#4d9221"
            ],
            [
             1,
             "#276419"
            ]
           ],
           "sequential": [
            [
             0,
             "#0d0887"
            ],
            [
             0.1111111111111111,
             "#46039f"
            ],
            [
             0.2222222222222222,
             "#7201a8"
            ],
            [
             0.3333333333333333,
             "#9c179e"
            ],
            [
             0.4444444444444444,
             "#bd3786"
            ],
            [
             0.5555555555555556,
             "#d8576b"
            ],
            [
             0.6666666666666666,
             "#ed7953"
            ],
            [
             0.7777777777777778,
             "#fb9f3a"
            ],
            [
             0.8888888888888888,
             "#fdca26"
            ],
            [
             1,
             "#f0f921"
            ]
           ],
           "sequentialminus": [
            [
             0,
             "#0d0887"
            ],
            [
             0.1111111111111111,
             "#46039f"
            ],
            [
             0.2222222222222222,
             "#7201a8"
            ],
            [
             0.3333333333333333,
             "#9c179e"
            ],
            [
             0.4444444444444444,
             "#bd3786"
            ],
            [
             0.5555555555555556,
             "#d8576b"
            ],
            [
             0.6666666666666666,
             "#ed7953"
            ],
            [
             0.7777777777777778,
             "#fb9f3a"
            ],
            [
             0.8888888888888888,
             "#fdca26"
            ],
            [
             1,
             "#f0f921"
            ]
           ]
          },
          "colorway": [
           "#636efa",
           "#EF553B",
           "#00cc96",
           "#ab63fa",
           "#FFA15A",
           "#19d3f3",
           "#FF6692",
           "#B6E880",
           "#FF97FF",
           "#FECB52"
          ],
          "font": {
           "color": "#2a3f5f"
          },
          "geo": {
           "bgcolor": "white",
           "lakecolor": "white",
           "landcolor": "#E5ECF6",
           "showlakes": true,
           "showland": true,
           "subunitcolor": "white"
          },
          "hoverlabel": {
           "align": "left"
          },
          "hovermode": "closest",
          "mapbox": {
           "style": "light"
          },
          "paper_bgcolor": "white",
          "plot_bgcolor": "#E5ECF6",
          "polar": {
           "angularaxis": {
            "gridcolor": "white",
            "linecolor": "white",
            "ticks": ""
           },
           "bgcolor": "#E5ECF6",
           "radialaxis": {
            "gridcolor": "white",
            "linecolor": "white",
            "ticks": ""
           }
          },
          "scene": {
           "xaxis": {
            "backgroundcolor": "#E5ECF6",
            "gridcolor": "white",
            "gridwidth": 2,
            "linecolor": "white",
            "showbackground": true,
            "ticks": "",
            "zerolinecolor": "white"
           },
           "yaxis": {
            "backgroundcolor": "#E5ECF6",
            "gridcolor": "white",
            "gridwidth": 2,
            "linecolor": "white",
            "showbackground": true,
            "ticks": "",
            "zerolinecolor": "white"
           },
           "zaxis": {
            "backgroundcolor": "#E5ECF6",
            "gridcolor": "white",
            "gridwidth": 2,
            "linecolor": "white",
            "showbackground": true,
            "ticks": "",
            "zerolinecolor": "white"
           }
          },
          "shapedefaults": {
           "line": {
            "color": "#2a3f5f"
           }
          },
          "ternary": {
           "aaxis": {
            "gridcolor": "white",
            "linecolor": "white",
            "ticks": ""
           },
           "baxis": {
            "gridcolor": "white",
            "linecolor": "white",
            "ticks": ""
           },
           "bgcolor": "#E5ECF6",
           "caxis": {
            "gridcolor": "white",
            "linecolor": "white",
            "ticks": ""
           }
          },
          "title": {
           "x": 0.05
          },
          "xaxis": {
           "automargin": true,
           "gridcolor": "white",
           "linecolor": "white",
           "ticks": "",
           "title": {
            "standoff": 15
           },
           "zerolinecolor": "white",
           "zerolinewidth": 2
          },
          "yaxis": {
           "automargin": true,
           "gridcolor": "white",
           "linecolor": "white",
           "ticks": "",
           "title": {
            "standoff": 15
           },
           "zerolinecolor": "white",
           "zerolinewidth": 2
          }
         }
        },
        "title": {
         "text": "Global Plastic Waste 2023"
        }
       }
      }
     },
     "metadata": {},
     "output_type": "display_data"
    }
   ],
   "source": [
    "## Choropleth -- mapping countries by Total Plastic Waste MT \n",
    "\n",
    "fig = px.choropleth(global_waste_df,\n",
    "                    locations=\"Country\",  # Column with country names\n",
    "                    locationmode=\"country names\",  # Ensures Plotly recognizes the country names\n",
    "                    color=\"Total_Plastic_Waste_MT\",  # Column with the values to map\n",
    "                    hover_name=\"Country\",  # Column to show on hover\n",
    "                    color_continuous_scale=\"Reds\",  # Color scale (you can try other scales like 'Plasma' or 'Cividis')\n",
    "                    title=\"Global Plastic Waste 2023\")\n",
    "\n",
    "fig.show()"
   ]
  },
  {
   "cell_type": "code",
   "execution_count": null,
   "metadata": {},
   "outputs": [
    {
     "data": {
      "text/html": [
       "<div>\n",
       "<style scoped>\n",
       "    .dataframe tbody tr th:only-of-type {\n",
       "        vertical-align: middle;\n",
       "    }\n",
       "\n",
       "    .dataframe tbody tr th {\n",
       "        vertical-align: top;\n",
       "    }\n",
       "\n",
       "    .dataframe thead th {\n",
       "        text-align: right;\n",
       "    }\n",
       "</style>\n",
       "<table border=\"1\" class=\"dataframe\">\n",
       "  <thead>\n",
       "    <tr style=\"text-align: right;\">\n",
       "      <th></th>\n",
       "      <th>Country</th>\n",
       "      <th>Total_Plastic_Waste_MT</th>\n",
       "      <th>Main_Sources</th>\n",
       "      <th>Recycling_Rate</th>\n",
       "      <th>Per_Capita_Waste_KG</th>\n",
       "      <th>Coastal_Waste_Risk</th>\n",
       "    </tr>\n",
       "  </thead>\n",
       "  <tbody>\n",
       "    <tr>\n",
       "      <th>0</th>\n",
       "      <td>China</td>\n",
       "      <td>59.08</td>\n",
       "      <td>Packaging_Industrial</td>\n",
       "      <td>29.8</td>\n",
       "      <td>41.2</td>\n",
       "      <td>High</td>\n",
       "    </tr>\n",
       "    <tr>\n",
       "      <th>1</th>\n",
       "      <td>United States</td>\n",
       "      <td>42.02</td>\n",
       "      <td>Packaging_Consumer</td>\n",
       "      <td>32.1</td>\n",
       "      <td>127.5</td>\n",
       "      <td>Medium</td>\n",
       "    </tr>\n",
       "    <tr>\n",
       "      <th>2</th>\n",
       "      <td>India</td>\n",
       "      <td>26.33</td>\n",
       "      <td>Consumer_Goods</td>\n",
       "      <td>11.5</td>\n",
       "      <td>19.3</td>\n",
       "      <td>High</td>\n",
       "    </tr>\n",
       "    <tr>\n",
       "      <th>3</th>\n",
       "      <td>Japan</td>\n",
       "      <td>7.99</td>\n",
       "      <td>Packaging_Electronics</td>\n",
       "      <td>84.8</td>\n",
       "      <td>63.2</td>\n",
       "      <td>Medium</td>\n",
       "    </tr>\n",
       "    <tr>\n",
       "      <th>4</th>\n",
       "      <td>Germany</td>\n",
       "      <td>6.28</td>\n",
       "      <td>Automotive_Packaging</td>\n",
       "      <td>56.1</td>\n",
       "      <td>75.6</td>\n",
       "      <td>Low</td>\n",
       "    </tr>\n",
       "  </tbody>\n",
       "</table>\n",
       "</div>"
      ],
      "text/plain": [
       "         Country  Total_Plastic_Waste_MT           Main_Sources  \\\n",
       "0          China                   59.08   Packaging_Industrial   \n",
       "1  United States                   42.02     Packaging_Consumer   \n",
       "2          India                   26.33         Consumer_Goods   \n",
       "3          Japan                    7.99  Packaging_Electronics   \n",
       "4        Germany                    6.28   Automotive_Packaging   \n",
       "\n",
       "   Recycling_Rate  Per_Capita_Waste_KG Coastal_Waste_Risk  \n",
       "0            29.8                 41.2               High  \n",
       "1            32.1                127.5             Medium  \n",
       "2            11.5                 19.3               High  \n",
       "3            84.8                 63.2             Medium  \n",
       "4            56.1                 75.6                Low  "
      ]
     },
     "execution_count": 58,
     "metadata": {},
     "output_type": "execute_result"
    }
   ],
   "source": [
    "## top 5 per total plastic waste MT\n",
    "\n",
    "top_5 = global_waste_df.nlargest(5, 'Total_Plastic_Waste_MT')\n",
    "top_5"
   ]
  },
  {
   "cell_type": "code",
   "execution_count": 166,
   "metadata": {},
   "outputs": [
    {
     "data": {
      "text/html": [
       "<div>\n",
       "<style scoped>\n",
       "    .dataframe tbody tr th:only-of-type {\n",
       "        vertical-align: middle;\n",
       "    }\n",
       "\n",
       "    .dataframe tbody tr th {\n",
       "        vertical-align: top;\n",
       "    }\n",
       "\n",
       "    .dataframe thead th {\n",
       "        text-align: right;\n",
       "    }\n",
       "</style>\n",
       "<table border=\"1\" class=\"dataframe\">\n",
       "  <thead>\n",
       "    <tr style=\"text-align: right;\">\n",
       "      <th></th>\n",
       "      <th>Country</th>\n",
       "      <th>Total_Plastic_Waste_MT</th>\n",
       "      <th>Main_Sources</th>\n",
       "      <th>Recycling_Rate</th>\n",
       "      <th>Per_Capita_Waste_KG</th>\n",
       "      <th>Coastal_Waste_Risk</th>\n",
       "    </tr>\n",
       "  </thead>\n",
       "  <tbody>\n",
       "    <tr>\n",
       "      <th>0</th>\n",
       "      <td>China</td>\n",
       "      <td>59.08</td>\n",
       "      <td>Packaging_Industrial</td>\n",
       "      <td>29.8</td>\n",
       "      <td>41.2</td>\n",
       "      <td>NaN</td>\n",
       "    </tr>\n",
       "    <tr>\n",
       "      <th>1</th>\n",
       "      <td>United States</td>\n",
       "      <td>42.02</td>\n",
       "      <td>Packaging_Consumer</td>\n",
       "      <td>32.1</td>\n",
       "      <td>127.5</td>\n",
       "      <td>NaN</td>\n",
       "    </tr>\n",
       "    <tr>\n",
       "      <th>2</th>\n",
       "      <td>India</td>\n",
       "      <td>26.33</td>\n",
       "      <td>Consumer_Goods</td>\n",
       "      <td>11.5</td>\n",
       "      <td>19.3</td>\n",
       "      <td>NaN</td>\n",
       "    </tr>\n",
       "    <tr>\n",
       "      <th>3</th>\n",
       "      <td>Japan</td>\n",
       "      <td>7.99</td>\n",
       "      <td>Packaging_Electronics</td>\n",
       "      <td>84.8</td>\n",
       "      <td>63.2</td>\n",
       "      <td>NaN</td>\n",
       "    </tr>\n",
       "    <tr>\n",
       "      <th>4</th>\n",
       "      <td>Germany</td>\n",
       "      <td>6.28</td>\n",
       "      <td>Automotive_Packaging</td>\n",
       "      <td>56.1</td>\n",
       "      <td>75.6</td>\n",
       "      <td>NaN</td>\n",
       "    </tr>\n",
       "    <tr>\n",
       "      <th>5</th>\n",
       "      <td>Brazil</td>\n",
       "      <td>5.96</td>\n",
       "      <td>Consumer_Packaging</td>\n",
       "      <td>1.2</td>\n",
       "      <td>28.1</td>\n",
       "      <td>NaN</td>\n",
       "    </tr>\n",
       "    <tr>\n",
       "      <th>6</th>\n",
       "      <td>Indonesia</td>\n",
       "      <td>5.85</td>\n",
       "      <td>Food_Packaging</td>\n",
       "      <td>11.8</td>\n",
       "      <td>21.3</td>\n",
       "      <td>NaN</td>\n",
       "    </tr>\n",
       "    <tr>\n",
       "      <th>7</th>\n",
       "      <td>Russia</td>\n",
       "      <td>5.84</td>\n",
       "      <td>Industrial_Consumer</td>\n",
       "      <td>5.6</td>\n",
       "      <td>40.2</td>\n",
       "      <td>NaN</td>\n",
       "    </tr>\n",
       "    <tr>\n",
       "      <th>8</th>\n",
       "      <td>United Kingdom</td>\n",
       "      <td>5.03</td>\n",
       "      <td>Packaging_Consumer</td>\n",
       "      <td>46.2</td>\n",
       "      <td>74.3</td>\n",
       "      <td>NaN</td>\n",
       "    </tr>\n",
       "    <tr>\n",
       "      <th>9</th>\n",
       "      <td>France</td>\n",
       "      <td>4.98</td>\n",
       "      <td>Packaging_Consumer</td>\n",
       "      <td>27.3</td>\n",
       "      <td>73.1</td>\n",
       "      <td>NaN</td>\n",
       "    </tr>\n",
       "  </tbody>\n",
       "</table>\n",
       "</div>"
      ],
      "text/plain": [
       "          Country  Total_Plastic_Waste_MT           Main_Sources  \\\n",
       "0           China                   59.08   Packaging_Industrial   \n",
       "1   United States                   42.02     Packaging_Consumer   \n",
       "2           India                   26.33         Consumer_Goods   \n",
       "3           Japan                    7.99  Packaging_Electronics   \n",
       "4         Germany                    6.28   Automotive_Packaging   \n",
       "5          Brazil                    5.96     Consumer_Packaging   \n",
       "6       Indonesia                    5.85         Food_Packaging   \n",
       "7          Russia                    5.84    Industrial_Consumer   \n",
       "8  United Kingdom                    5.03     Packaging_Consumer   \n",
       "9          France                    4.98     Packaging_Consumer   \n",
       "\n",
       "   Recycling_Rate  Per_Capita_Waste_KG Coastal_Waste_Risk  \n",
       "0            29.8                 41.2                NaN  \n",
       "1            32.1                127.5                NaN  \n",
       "2            11.5                 19.3                NaN  \n",
       "3            84.8                 63.2                NaN  \n",
       "4            56.1                 75.6                NaN  \n",
       "5             1.2                 28.1                NaN  \n",
       "6            11.8                 21.3                NaN  \n",
       "7             5.6                 40.2                NaN  \n",
       "8            46.2                 74.3                NaN  \n",
       "9            27.3                 73.1                NaN  "
      ]
     },
     "execution_count": 166,
     "metadata": {},
     "output_type": "execute_result"
    }
   ],
   "source": [
    "## top 10 per total plastic waste MT\n",
    "\n",
    "top_10 = global_waste_df.nlargest(10, 'Total_Plastic_Waste_MT')\n",
    "top_10"
   ]
  },
  {
   "cell_type": "code",
   "execution_count": 170,
   "metadata": {},
   "outputs": [
    {
     "data": {
      "text/plain": [
       "<function matplotlib.pyplot.show(close=None, block=None)>"
      ]
     },
     "execution_count": 170,
     "metadata": {},
     "output_type": "execute_result"
    },
    {
     "data": {
      "image/png": "[encoded data removed]",
      "text/plain": [
       "<Figure size 1200x600 with 1 Axes>"
      ]
     },
     "metadata": {},
     "output_type": "display_data"
    }
   ],
   "source": [
    "## Barplot for Top 5 countries \n",
    "\n",
    "plt.figure(figsize=(12,6))\n",
    "ax = sns.barplot(data=top_10, x='Country', y='Total_Plastic_Waste_MT', palette='Reds_r')\n",
    "for container in ax.containers:\n",
    "    ax.bar_label(container)\n",
    "\n",
    "plt.title('Top 10 Plastic Producers')\n",
    "plt.xlabel('Country')\n",
    "plt.ylabel('Total Plastic Waste in Million Metric Tons')\n",
    "#plt.xticks(rotation=90)\n",
    "plt.show"
   ]
  },
  {
   "cell_type": "code",
   "execution_count": 54,
   "metadata": {},
   "outputs": [
    {
     "data": {
      "text/html": [
       "<div>\n",
       "<style scoped>\n",
       "    .dataframe tbody tr th:only-of-type {\n",
       "        vertical-align: middle;\n",
       "    }\n",
       "\n",
       "    .dataframe tbody tr th {\n",
       "        vertical-align: top;\n",
       "    }\n",
       "\n",
       "    .dataframe thead th {\n",
       "        text-align: right;\n",
       "    }\n",
       "</style>\n",
       "<table border=\"1\" class=\"dataframe\">\n",
       "  <thead>\n",
       "    <tr style=\"text-align: right;\">\n",
       "      <th></th>\n",
       "      <th>Country</th>\n",
       "      <th>Total_Plastic_Waste_MT</th>\n",
       "      <th>Main_Sources</th>\n",
       "      <th>Recycling_Rate</th>\n",
       "      <th>Per_Capita_Waste_KG</th>\n",
       "      <th>Coastal_Waste_Risk</th>\n",
       "    </tr>\n",
       "  </thead>\n",
       "  <tbody>\n",
       "    <tr>\n",
       "      <th>110</th>\n",
       "      <td>Seychelles</td>\n",
       "      <td>0.01</td>\n",
       "      <td>Consumer_Packaging</td>\n",
       "      <td>18.9</td>\n",
       "      <td>101.2</td>\n",
       "      <td>High</td>\n",
       "    </tr>\n",
       "    <tr>\n",
       "      <th>112</th>\n",
       "      <td>Sao Tome and Principe</td>\n",
       "      <td>0.01</td>\n",
       "      <td>Consumer_Packaging</td>\n",
       "      <td>0.8</td>\n",
       "      <td>45.2</td>\n",
       "      <td>High</td>\n",
       "    </tr>\n",
       "    <tr>\n",
       "      <th>135</th>\n",
       "      <td>Western Sahara</td>\n",
       "      <td>0.01</td>\n",
       "      <td>Consumer_Packaging</td>\n",
       "      <td>0.2</td>\n",
       "      <td>18.5</td>\n",
       "      <td>High</td>\n",
       "    </tr>\n",
       "    <tr>\n",
       "      <th>157</th>\n",
       "      <td>Samoa</td>\n",
       "      <td>0.01</td>\n",
       "      <td>Consumer_Packaging</td>\n",
       "      <td>4.5</td>\n",
       "      <td>49.8</td>\n",
       "      <td>High</td>\n",
       "    </tr>\n",
       "    <tr>\n",
       "      <th>158</th>\n",
       "      <td>Tonga</td>\n",
       "      <td>0.01</td>\n",
       "      <td>Consumer_Packaging</td>\n",
       "      <td>3.2</td>\n",
       "      <td>92.7</td>\n",
       "      <td>High</td>\n",
       "    </tr>\n",
       "  </tbody>\n",
       "</table>\n",
       "</div>"
      ],
      "text/plain": [
       "                   Country  Total_Plastic_Waste_MT        Main_Sources  \\\n",
       "110             Seychelles                    0.01  Consumer_Packaging   \n",
       "112  Sao Tome and Principe                    0.01  Consumer_Packaging   \n",
       "135         Western Sahara                    0.01  Consumer_Packaging   \n",
       "157                  Samoa                    0.01  Consumer_Packaging   \n",
       "158                  Tonga                    0.01  Consumer_Packaging   \n",
       "\n",
       "     Recycling_Rate  Per_Capita_Waste_KG Coastal_Waste_Risk  \n",
       "110            18.9                101.2               High  \n",
       "112             0.8                 45.2               High  \n",
       "135             0.2                 18.5               High  \n",
       "157             4.5                 49.8               High  \n",
       "158             3.2                 92.7               High  "
      ]
     },
     "execution_count": 54,
     "metadata": {},
     "output_type": "execute_result"
    }
   ],
   "source": [
    "least_5 = global_waste_df.nsmallest(5, 'Total_Plastic_Waste_MT').sort_values(by='Total_Plastic_Waste_MT', ascending=True)\n",
    "least_5"
   ]
  },
  {
   "cell_type": "code",
   "execution_count": 165,
   "metadata": {},
   "outputs": [
    {
     "data": {
      "text/html": [
       "<div>\n",
       "<style scoped>\n",
       "    .dataframe tbody tr th:only-of-type {\n",
       "        vertical-align: middle;\n",
       "    }\n",
       "\n",
       "    .dataframe tbody tr th {\n",
       "        vertical-align: top;\n",
       "    }\n",
       "\n",
       "    .dataframe thead th {\n",
       "        text-align: right;\n",
       "    }\n",
       "</style>\n",
       "<table border=\"1\" class=\"dataframe\">\n",
       "  <thead>\n",
       "    <tr style=\"text-align: right;\">\n",
       "      <th></th>\n",
       "      <th>Country</th>\n",
       "      <th>Total_Plastic_Waste_MT</th>\n",
       "      <th>Main_Sources</th>\n",
       "      <th>Recycling_Rate</th>\n",
       "      <th>Per_Capita_Waste_KG</th>\n",
       "      <th>Coastal_Waste_Risk</th>\n",
       "    </tr>\n",
       "  </thead>\n",
       "  <tbody>\n",
       "    <tr>\n",
       "      <th>79</th>\n",
       "      <td>Iceland</td>\n",
       "      <td>0.57</td>\n",
       "      <td>Consumer_Packaging</td>\n",
       "      <td>55.6</td>\n",
       "      <td>1564.4</td>\n",
       "      <td>NaN</td>\n",
       "    </tr>\n",
       "    <tr>\n",
       "      <th>78</th>\n",
       "      <td>Malta</td>\n",
       "      <td>0.59</td>\n",
       "      <td>Consumer_Packaging</td>\n",
       "      <td>11.2</td>\n",
       "      <td>1331.5</td>\n",
       "      <td>NaN</td>\n",
       "    </tr>\n",
       "    <tr>\n",
       "      <th>76</th>\n",
       "      <td>Montenegro</td>\n",
       "      <td>0.63</td>\n",
       "      <td>Consumer_Packaging</td>\n",
       "      <td>3.4</td>\n",
       "      <td>1004.8</td>\n",
       "      <td>NaN</td>\n",
       "    </tr>\n",
       "    <tr>\n",
       "      <th>77</th>\n",
       "      <td>Luxembourg</td>\n",
       "      <td>0.61</td>\n",
       "      <td>Industrial_Packaging</td>\n",
       "      <td>48.9</td>\n",
       "      <td>957.8</td>\n",
       "      <td>NaN</td>\n",
       "    </tr>\n",
       "    <tr>\n",
       "      <th>164</th>\n",
       "      <td>Nauru</td>\n",
       "      <td>0.01</td>\n",
       "      <td>Consumer_Packaging</td>\n",
       "      <td>0.9</td>\n",
       "      <td>927.8</td>\n",
       "      <td>NaN</td>\n",
       "    </tr>\n",
       "  </tbody>\n",
       "</table>\n",
       "</div>"
      ],
      "text/plain": [
       "        Country  Total_Plastic_Waste_MT          Main_Sources  Recycling_Rate  \\\n",
       "79      Iceland                    0.57    Consumer_Packaging            55.6   \n",
       "78        Malta                    0.59    Consumer_Packaging            11.2   \n",
       "76   Montenegro                    0.63    Consumer_Packaging             3.4   \n",
       "77   Luxembourg                    0.61  Industrial_Packaging            48.9   \n",
       "164       Nauru                    0.01    Consumer_Packaging             0.9   \n",
       "\n",
       "     Per_Capita_Waste_KG Coastal_Waste_Risk  \n",
       "79                1564.4                NaN  \n",
       "78                1331.5                NaN  \n",
       "76                1004.8                NaN  \n",
       "77                 957.8                NaN  \n",
       "164                927.8                NaN  "
      ]
     },
     "execution_count": 165,
     "metadata": {},
     "output_type": "execute_result"
    }
   ],
   "source": [
    "## Top countries by per capita\n",
    "\n",
    "top_5_per_capita = global_waste_df.nlargest(5, 'Per_Capita_Waste_KG')\n",
    "top_5_per_capita"
   ]
  },
  {
   "cell_type": "markdown",
   "metadata": {},
   "source": [
    "<h1> Main Sources of Plastic Waste by Source </h1>"
   ]
  },
  {
   "cell_type": "code",
   "execution_count": 62,
   "metadata": {},
   "outputs": [
    {
     "data": {
      "text/plain": [
       "array(['Packaging_Industrial', 'Packaging_Consumer', 'Consumer_Goods',\n",
       "       'Packaging_Electronics', 'Automotive_Packaging',\n",
       "       'Consumer_Packaging', 'Food_Packaging', 'Industrial_Consumer',\n",
       "       'Electronics_Packaging', 'Industrial_Packaging'], dtype=object)"
      ]
     },
     "execution_count": 62,
     "metadata": {},
     "output_type": "execute_result"
    }
   ],
   "source": [
    "## Main sources of plastic waste by source\n",
    "\n",
    "global_waste_df['Main_Sources'].unique()"
   ]
  },
  {
   "cell_type": "code",
   "execution_count": 59,
   "metadata": {},
   "outputs": [
    {
     "data": {
      "text/html": [
       "<div>\n",
       "<style scoped>\n",
       "    .dataframe tbody tr th:only-of-type {\n",
       "        vertical-align: middle;\n",
       "    }\n",
       "\n",
       "    .dataframe tbody tr th {\n",
       "        vertical-align: top;\n",
       "    }\n",
       "\n",
       "    .dataframe thead th {\n",
       "        text-align: right;\n",
       "    }\n",
       "</style>\n",
       "<table border=\"1\" class=\"dataframe\">\n",
       "  <thead>\n",
       "    <tr style=\"text-align: right;\">\n",
       "      <th></th>\n",
       "      <th>Country</th>\n",
       "      <th>Total_Plastic_Waste_MT</th>\n",
       "      <th>Main_Sources</th>\n",
       "      <th>Recycling_Rate</th>\n",
       "      <th>Per_Capita_Waste_KG</th>\n",
       "      <th>Coastal_Waste_Risk</th>\n",
       "    </tr>\n",
       "  </thead>\n",
       "  <tbody>\n",
       "    <tr>\n",
       "      <th>0</th>\n",
       "      <td>China</td>\n",
       "      <td>59.08</td>\n",
       "      <td>Packaging_Industrial</td>\n",
       "      <td>29.8</td>\n",
       "      <td>41.2</td>\n",
       "      <td>High</td>\n",
       "    </tr>\n",
       "    <tr>\n",
       "      <th>1</th>\n",
       "      <td>United States</td>\n",
       "      <td>42.02</td>\n",
       "      <td>Packaging_Consumer</td>\n",
       "      <td>32.1</td>\n",
       "      <td>127.5</td>\n",
       "      <td>Medium</td>\n",
       "    </tr>\n",
       "    <tr>\n",
       "      <th>2</th>\n",
       "      <td>India</td>\n",
       "      <td>26.33</td>\n",
       "      <td>Consumer_Goods</td>\n",
       "      <td>11.5</td>\n",
       "      <td>19.3</td>\n",
       "      <td>High</td>\n",
       "    </tr>\n",
       "    <tr>\n",
       "      <th>3</th>\n",
       "      <td>Japan</td>\n",
       "      <td>7.99</td>\n",
       "      <td>Packaging_Electronics</td>\n",
       "      <td>84.8</td>\n",
       "      <td>63.2</td>\n",
       "      <td>Medium</td>\n",
       "    </tr>\n",
       "    <tr>\n",
       "      <th>4</th>\n",
       "      <td>Germany</td>\n",
       "      <td>6.28</td>\n",
       "      <td>Automotive_Packaging</td>\n",
       "      <td>56.1</td>\n",
       "      <td>75.6</td>\n",
       "      <td>Low</td>\n",
       "    </tr>\n",
       "  </tbody>\n",
       "</table>\n",
       "</div>"
      ],
      "text/plain": [
       "         Country  Total_Plastic_Waste_MT           Main_Sources  \\\n",
       "0          China                   59.08   Packaging_Industrial   \n",
       "1  United States                   42.02     Packaging_Consumer   \n",
       "2          India                   26.33         Consumer_Goods   \n",
       "3          Japan                    7.99  Packaging_Electronics   \n",
       "4        Germany                    6.28   Automotive_Packaging   \n",
       "\n",
       "   Recycling_Rate  Per_Capita_Waste_KG Coastal_Waste_Risk  \n",
       "0            29.8                 41.2               High  \n",
       "1            32.1                127.5             Medium  \n",
       "2            11.5                 19.3               High  \n",
       "3            84.8                 63.2             Medium  \n",
       "4            56.1                 75.6                Low  "
      ]
     },
     "execution_count": 59,
     "metadata": {},
     "output_type": "execute_result"
    }
   ],
   "source": [
    "global_waste_df.head(5)"
   ]
  },
  {
   "cell_type": "code",
   "execution_count": 64,
   "metadata": {},
   "outputs": [
    {
     "data": {
      "text/plain": [
       "Main_Sources\n",
       "Consumer_Packaging       131\n",
       "Industrial_Packaging      14\n",
       "Packaging_Consumer         5\n",
       "Packaging_Industrial       4\n",
       "Industrial_Consumer        4\n",
       "Food_Packaging             3\n",
       "Consumer_Goods             1\n",
       "Packaging_Electronics      1\n",
       "Automotive_Packaging       1\n",
       "Electronics_Packaging      1\n",
       "Name: count, dtype: int64"
      ]
     },
     "execution_count": 64,
     "metadata": {},
     "output_type": "execute_result"
    }
   ],
   "source": [
    "global_waste_df.Main_Sources.value_counts()"
   ]
  },
  {
   "cell_type": "code",
   "execution_count": 100,
   "metadata": {},
   "outputs": [
    {
     "data": {
      "image/png": "[encoded data removed]",
      "text/plain": [
       "<Figure size 1200x600 with 1 Axes>"
      ]
     },
     "metadata": {},
     "output_type": "display_data"
    }
   ],
   "source": [
    "plt.figure(figsize=(12, 6))\n",
    "sns.countplot(data=global_waste_df, y='Main_Sources', order=global_waste_df['Main_Sources'].value_counts().index, palette='viridis')\n",
    "\n",
    "plt.title('Distribution of Main Sources of Plastic Waste')\n",
    "plt.xlabel('Number of Countries')\n",
    "plt.ylabel('Main Sources')\n",
    "plt.show()"
   ]
  },
  {
   "cell_type": "markdown",
   "metadata": {},
   "source": [
    "<h2> Coastal Risk </>"
   ]
  },
  {
   "cell_type": "code",
   "execution_count": 101,
   "metadata": {},
   "outputs": [
    {
     "data": {
      "text/html": [
       "<div>\n",
       "<style scoped>\n",
       "    .dataframe tbody tr th:only-of-type {\n",
       "        vertical-align: middle;\n",
       "    }\n",
       "\n",
       "    .dataframe tbody tr th {\n",
       "        vertical-align: top;\n",
       "    }\n",
       "\n",
       "    .dataframe thead th {\n",
       "        text-align: right;\n",
       "    }\n",
       "</style>\n",
       "<table border=\"1\" class=\"dataframe\">\n",
       "  <thead>\n",
       "    <tr style=\"text-align: right;\">\n",
       "      <th></th>\n",
       "      <th>Country</th>\n",
       "      <th>Total_Plastic_Waste_MT</th>\n",
       "      <th>Main_Sources</th>\n",
       "      <th>Recycling_Rate</th>\n",
       "      <th>Per_Capita_Waste_KG</th>\n",
       "      <th>Coastal_Waste_Risk</th>\n",
       "    </tr>\n",
       "  </thead>\n",
       "  <tbody>\n",
       "    <tr>\n",
       "      <th>25</th>\n",
       "      <td>Philippines</td>\n",
       "      <td>1.63</td>\n",
       "      <td>Food_Packaging</td>\n",
       "      <td>9.1</td>\n",
       "      <td>14.8</td>\n",
       "      <td>Very_High</td>\n",
       "    </tr>\n",
       "  </tbody>\n",
       "</table>\n",
       "</div>"
      ],
      "text/plain": [
       "        Country  Total_Plastic_Waste_MT    Main_Sources  Recycling_Rate  \\\n",
       "25  Philippines                    1.63  Food_Packaging             9.1   \n",
       "\n",
       "    Per_Capita_Waste_KG Coastal_Waste_Risk  \n",
       "25                 14.8          Very_High  "
      ]
     },
     "execution_count": 101,
     "metadata": {},
     "output_type": "execute_result"
    }
   ],
   "source": [
    "global_waste_df.loc[global_waste_df['Country']=='Philippines']"
   ]
  },
  {
   "cell_type": "code",
   "execution_count": 126,
   "metadata": {},
   "outputs": [
    {
     "data": {
      "text/plain": [
       "Coastal_Waste_Risk\n",
       "High         74\n",
       "Low          54\n",
       "Medium       33\n",
       "Very_High     4\n",
       "Name: count, dtype: int64"
      ]
     },
     "execution_count": 126,
     "metadata": {},
     "output_type": "execute_result"
    }
   ],
   "source": [
    "coastal_risk = global_waste_df['Coastal_Waste_Risk'].value_counts().sort_index()\n",
    "coastal_risk"
   ]
  },
  {
   "cell_type": "code",
   "execution_count": null,
   "metadata": {},
   "outputs": [],
   "source": [
    "# Filter rows where 'Category' is 'High'\n",
    "## verhcoastal_risk = df[df['Category'] == 'High']\n",
    "\n",
    "# Group by 'Country' column\n",
    "##grouped = filtered_df.groupby('Country')"
   ]
  },
  {
   "cell_type": "code",
   "execution_count": 164,
   "metadata": {},
   "outputs": [
    {
     "data": {
      "text/html": [
       "<div>\n",
       "<style scoped>\n",
       "    .dataframe tbody tr th:only-of-type {\n",
       "        vertical-align: middle;\n",
       "    }\n",
       "\n",
       "    .dataframe tbody tr th {\n",
       "        vertical-align: top;\n",
       "    }\n",
       "\n",
       "    .dataframe thead th {\n",
       "        text-align: right;\n",
       "    }\n",
       "</style>\n",
       "<table border=\"1\" class=\"dataframe\">\n",
       "  <thead>\n",
       "    <tr style=\"text-align: right;\">\n",
       "      <th></th>\n",
       "      <th>Country</th>\n",
       "      <th>Total_Plastic_Waste_MT</th>\n",
       "      <th>Main_Sources</th>\n",
       "      <th>Recycling_Rate</th>\n",
       "      <th>Per_Capita_Waste_KG</th>\n",
       "      <th>Coastal_Waste_Risk</th>\n",
       "    </tr>\n",
       "  </thead>\n",
       "  <tbody>\n",
       "    <tr>\n",
       "      <th>0</th>\n",
       "      <td>China</td>\n",
       "      <td>59.08</td>\n",
       "      <td>Packaging_Industrial</td>\n",
       "      <td>29.8</td>\n",
       "      <td>41.2</td>\n",
       "      <td>High</td>\n",
       "    </tr>\n",
       "    <tr>\n",
       "      <th>1</th>\n",
       "      <td>United States</td>\n",
       "      <td>42.02</td>\n",
       "      <td>Packaging_Consumer</td>\n",
       "      <td>32.1</td>\n",
       "      <td>127.5</td>\n",
       "      <td>Medium</td>\n",
       "    </tr>\n",
       "    <tr>\n",
       "      <th>2</th>\n",
       "      <td>India</td>\n",
       "      <td>26.33</td>\n",
       "      <td>Consumer_Goods</td>\n",
       "      <td>11.5</td>\n",
       "      <td>19.3</td>\n",
       "      <td>High</td>\n",
       "    </tr>\n",
       "    <tr>\n",
       "      <th>3</th>\n",
       "      <td>Japan</td>\n",
       "      <td>7.99</td>\n",
       "      <td>Packaging_Electronics</td>\n",
       "      <td>84.8</td>\n",
       "      <td>63.2</td>\n",
       "      <td>Medium</td>\n",
       "    </tr>\n",
       "    <tr>\n",
       "      <th>4</th>\n",
       "      <td>Germany</td>\n",
       "      <td>6.28</td>\n",
       "      <td>Automotive_Packaging</td>\n",
       "      <td>56.1</td>\n",
       "      <td>75.6</td>\n",
       "      <td>Low</td>\n",
       "    </tr>\n",
       "  </tbody>\n",
       "</table>\n",
       "</div>"
      ],
      "text/plain": [
       "         Country  Total_Plastic_Waste_MT           Main_Sources  \\\n",
       "0          China                   59.08   Packaging_Industrial   \n",
       "1  United States                   42.02     Packaging_Consumer   \n",
       "2          India                   26.33         Consumer_Goods   \n",
       "3          Japan                    7.99  Packaging_Electronics   \n",
       "4        Germany                    6.28   Automotive_Packaging   \n",
       "\n",
       "   Recycling_Rate  Per_Capita_Waste_KG Coastal_Waste_Risk  \n",
       "0            29.8                 41.2               High  \n",
       "1            32.1                127.5             Medium  \n",
       "2            11.5                 19.3               High  \n",
       "3            84.8                 63.2             Medium  \n",
       "4            56.1                 75.6                Low  "
      ]
     },
     "execution_count": 164,
     "metadata": {},
     "output_type": "execute_result"
    }
   ],
   "source": [
    "#Read CSV again because i messed up\n",
    "\n",
    "df_copy = pd.read_csv(\"/Users/dee/Desktop/DA_Oct24/Final_project/Plastic Waste Around the World.csv\")\n",
    "df_copy.head(5)"
   ]
  },
  {
   "cell_type": "code",
   "execution_count": 163,
   "metadata": {},
   "outputs": [
    {
     "data": {
      "application/vnd.plotly.v1+json": {
       "config": {
        "plotlyServerURL": "https://plot.ly"
       },
       "data": [
        {
         "colorscale": [
          [
           0,
           "#636efa"
          ],
          [
           1,
           "#636efa"
          ]
         ],
         "geo": "geo",
         "hovertemplate": "<b>%{hovertext}</b><br><br>Coastal_Waste_Risk=Low<br>Country=%{location}<extra></extra>",
         "hovertext": [
          "Armenia",
          "Kyrgyzstan",
          "Tajikistan",
          "Belarus",
          "Turkmenistan",
          "Slovakia",
          "Uzbekistan",
          "Lithuania",
          "Nepal",
          "Bhutan",
          "Zimbabwe",
          "Ireland",
          "Norway",
          "Finland",
          "Denmark",
          "Kazakhstan",
          "Hungary",
          "Slovenia",
          "Bosnia and Herzegovina",
          "Afghanistan",
          "Mongolia",
          "Uganda",
          "Rwanda",
          "Burundi",
          "Iceland",
          "Kosovo",
          "Luxembourg",
          "Moldova",
          "Estonia",
          "Latvia",
          "Paraguay",
          "Bolivia",
          "North Macedonia",
          "Malawi",
          "Czech Republic",
          "Ethiopia",
          "Burkina Faso",
          "Lesotho",
          "Netherlands",
          "Mali",
          "Germany",
          "Botswana",
          "Chad",
          "Central African Republic",
          "France",
          "United Kingdom",
          "Niger",
          "Zambia",
          "Belgium",
          "Sweden",
          "Austria",
          "Canada",
          "Eswatini",
          "Poland"
         ],
         "locationmode": "country names",
         "locations": [
          "Armenia",
          "Kyrgyzstan",
          "Tajikistan",
          "Belarus",
          "Turkmenistan",
          "Slovakia",
          "Uzbekistan",
          "Lithuania",
          "Nepal",
          "Bhutan",
          "Zimbabwe",
          "Ireland",
          "Norway",
          "Finland",
          "Denmark",
          "Kazakhstan",
          "Hungary",
          "Slovenia",
          "Bosnia and Herzegovina",
          "Afghanistan",
          "Mongolia",
          "Uganda",
          "Rwanda",
          "Burundi",
          "Iceland",
          "Kosovo",
          "Luxembourg",
          "Moldova",
          "Estonia",
          "Latvia",
          "Paraguay",
          "Bolivia",
          "North Macedonia",
          "Malawi",
          "Czech Republic",
          "Ethiopia",
          "Burkina Faso",
          "Lesotho",
          "Netherlands",
          "Mali",
          "Germany",
          "Botswana",
          "Chad",
          "Central African Republic",
          "France",
          "United Kingdom",
          "Niger",
          "Zambia",
          "Belgium",
          "Sweden",
          "Austria",
          "Canada",
          "Eswatini",
          "Poland"
         ],
         "name": "Low",
         "showlegend": true,
         "showscale": false,
         "type": "choropleth",
         "z": [
          1,
          1,
          1,
          1,
          1,
          1,
          1,
          1,
          1,
          1,
          1,
          1,
          1,
          1,
          1,
          1,
          1,
          1,
          1,
          1,
          1,
          1,
          1,
          1,
          1,
          1,
          1,
          1,
          1,
          1,
          1,
          1,
          1,
          1,
          1,
          1,
          1,
          1,
          1,
          1,
          1,
          1,
          1,
          1,
          1,
          1,
          1,
          1,
          1,
          1,
          1,
          1,
          1,
          1
         ]
        },
        {
         "colorscale": [
          [
           0,
           "#EF553B"
          ],
          [
           1,
           "#EF553B"
          ]
         ],
         "geo": "geo",
         "hovertemplate": "<b>%{hovertext}</b><br><br>Coastal_Waste_Risk=Medium<br>Country=%{location}<extra></extra>",
         "hovertext": [
          "Montenegro",
          "Cyprus",
          "Italy",
          "Brazil",
          "Malta",
          "Japan",
          "Laos",
          "United States",
          "Syria",
          "Iraq",
          "Sudan",
          "Russia",
          "Albania",
          "Ukraine",
          "Jordan",
          "Romania",
          "Portugal",
          "Colombia",
          "Singapore",
          "South Africa",
          "Democratic Republic of Congo",
          "Saudi Arabia",
          "South Korea",
          "Argentina",
          "Australia",
          "Azerbaijan",
          "Croatia",
          "Uruguay",
          "Georgia",
          "Greece",
          "Spain",
          "Bulgaria",
          "Israel"
         ],
         "locationmode": "country names",
         "locations": [
          "Montenegro",
          "Cyprus",
          "Italy",
          "Brazil",
          "Malta",
          "Japan",
          "Laos",
          "United States",
          "Syria",
          "Iraq",
          "Sudan",
          "Russia",
          "Albania",
          "Ukraine",
          "Jordan",
          "Romania",
          "Portugal",
          "Colombia",
          "Singapore",
          "South Africa",
          "Democratic Republic of Congo",
          "Saudi Arabia",
          "South Korea",
          "Argentina",
          "Australia",
          "Azerbaijan",
          "Croatia",
          "Uruguay",
          "Georgia",
          "Greece",
          "Spain",
          "Bulgaria",
          "Israel"
         ],
         "name": "Medium",
         "showlegend": true,
         "showscale": false,
         "type": "choropleth",
         "z": [
          1,
          1,
          1,
          1,
          1,
          1,
          1,
          1,
          1,
          1,
          1,
          1,
          1,
          1,
          1,
          1,
          1,
          1,
          1,
          1,
          1,
          1,
          1,
          1,
          1,
          1,
          1,
          1,
          1,
          1,
          1,
          1,
          1
         ]
        },
        {
         "colorscale": [
          [
           0,
           "#00cc96"
          ],
          [
           1,
           "#00cc96"
          ]
         ],
         "geo": "geo",
         "hovertemplate": "<b>%{hovertext}</b><br><br>Coastal_Waste_Risk=High<br>Country=%{location}<extra></extra>",
         "hovertext": [
          "Togo",
          "Cameroon",
          "Ghana",
          "Benin",
          "Gabon",
          "Republic of Congo",
          "China",
          "Djibouti",
          "Palau",
          "Micronesia",
          "Marshall Islands",
          "Kiribati",
          "Tonga",
          "Samoa",
          "Fiji",
          "New Caledonia",
          "Eritrea",
          "Vanuatu",
          "Papua New Guinea",
          "East Timor",
          "Brunei",
          "Ivory Coast",
          "Western Sahara",
          "Mauritania",
          "Gambia",
          "Senegal",
          "Solomon Islands",
          "Liberia",
          "Myanmar",
          "Guinea",
          "Sierra Leone",
          "Costa Rica",
          "Sri Lanka",
          "Tunisia",
          "Dominican Republic",
          "Ecuador",
          "Algeria",
          "Morocco",
          "Peru",
          "Chile",
          "Nigeria",
          "Pakistan",
          "Bangladesh",
          "Egypt",
          "Malaysia",
          "Thailand",
          "Turkey",
          "Mexico",
          "India",
          "Kuwait",
          "Lebanon",
          "Panama",
          "Bahrain",
          "Guinea-Bissau",
          "Sao Tome and Principe",
          "Cape Verde",
          "Seychelles",
          "Mauritius",
          "Comoros",
          "Madagascar",
          "Namibia",
          "Oman",
          "Mozambique",
          "Angola",
          "Tanzania",
          "Kenya",
          "Somalia",
          "Libya",
          "Yemen",
          "Tuvalu",
          "Cambodia",
          "Qatar",
          "Trinidad and Tobago",
          "Nauru"
         ],
         "locationmode": "country names",
         "locations": [
          "Togo",
          "Cameroon",
          "Ghana",
          "Benin",
          "Gabon",
          "Republic of Congo",
          "China",
          "Djibouti",
          "Palau",
          "Micronesia",
          "Marshall Islands",
          "Kiribati",
          "Tonga",
          "Samoa",
          "Fiji",
          "New Caledonia",
          "Eritrea",
          "Vanuatu",
          "Papua New Guinea",
          "East Timor",
          "Brunei",
          "Ivory Coast",
          "Western Sahara",
          "Mauritania",
          "Gambia",
          "Senegal",
          "Solomon Islands",
          "Liberia",
          "Myanmar",
          "Guinea",
          "Sierra Leone",
          "Costa Rica",
          "Sri Lanka",
          "Tunisia",
          "Dominican Republic",
          "Ecuador",
          "Algeria",
          "Morocco",
          "Peru",
          "Chile",
          "Nigeria",
          "Pakistan",
          "Bangladesh",
          "Egypt",
          "Malaysia",
          "Thailand",
          "Turkey",
          "Mexico",
          "India",
          "Kuwait",
          "Lebanon",
          "Panama",
          "Bahrain",
          "Guinea-Bissau",
          "Sao Tome and Principe",
          "Cape Verde",
          "Seychelles",
          "Mauritius",
          "Comoros",
          "Madagascar",
          "Namibia",
          "Oman",
          "Mozambique",
          "Angola",
          "Tanzania",
          "Kenya",
          "Somalia",
          "Libya",
          "Yemen",
          "Tuvalu",
          "Cambodia",
          "Qatar",
          "Trinidad and Tobago",
          "Nauru"
         ],
         "name": "High",
         "showlegend": true,
         "showscale": false,
         "type": "choropleth",
         "z": [
          1,
          1,
          1,
          1,
          1,
          1,
          1,
          1,
          1,
          1,
          1,
          1,
          1,
          1,
          1,
          1,
          1,
          1,
          1,
          1,
          1,
          1,
          1,
          1,
          1,
          1,
          1,
          1,
          1,
          1,
          1,
          1,
          1,
          1,
          1,
          1,
          1,
          1,
          1,
          1,
          1,
          1,
          1,
          1,
          1,
          1,
          1,
          1,
          1,
          1,
          1,
          1,
          1,
          1,
          1,
          1,
          1,
          1,
          1,
          1,
          1,
          1,
          1,
          1,
          1,
          1,
          1,
          1,
          1,
          1,
          1,
          1,
          1,
          1
         ]
        },
        {
         "colorscale": [
          [
           0,
           "#ab63fa"
          ],
          [
           1,
           "#ab63fa"
          ]
         ],
         "geo": "geo",
         "hovertemplate": "<b>%{hovertext}</b><br><br>Coastal_Waste_Risk=Very_High<br>Country=%{location}<extra></extra>",
         "hovertext": [
          "Philippines",
          "Vietnam",
          "Indonesia",
          "Maldives"
         ],
         "locationmode": "country names",
         "locations": [
          "Philippines",
          "Vietnam",
          "Indonesia",
          "Maldives"
         ],
         "name": "Very_High",
         "showlegend": true,
         "showscale": false,
         "type": "choropleth",
         "z": [
          1,
          1,
          1,
          1
         ]
        }
       ],
       "layout": {
        "geo": {
         "center": {},
         "domain": {
          "x": [
           0,
           1
          ],
          "y": [
           0,
           1
          ]
         }
        },
        "legend": {
         "title": {
          "text": "Coastal_Waste_Risk"
         },
         "tracegroupgap": 0
        },
        "template": {
         "data": {
          "bar": [
           {
            "error_x": {
             "color": "#2a3f5f"
            },
            "error_y": {
             "color": "#2a3f5f"
            },
            "marker": {
             "line": {
              "color": "#E5ECF6",
              "width": 0.5
             },
             "pattern": {
              "fillmode": "overlay",
              "size": 10,
              "solidity": 0.2
             }
            },
            "type": "bar"
           }
          ],
          "barpolar": [
           {
            "marker": {
             "line": {
              "color": "#E5ECF6",
              "width": 0.5
             },
             "pattern": {
              "fillmode": "overlay",
              "size": 10,
              "solidity": 0.2
             }
            },
            "type": "barpolar"
           }
          ],
          "carpet": [
           {
            "aaxis": {
             "endlinecolor": "#2a3f5f",
             "gridcolor": "white",
             "linecolor": "white",
             "minorgridcolor": "white",
             "startlinecolor": "#2a3f5f"
            },
            "baxis": {
             "endlinecolor": "#2a3f5f",
             "gridcolor": "white",
             "linecolor": "white",
             "minorgridcolor": "white",
             "startlinecolor": "#2a3f5f"
            },
            "type": "carpet"
           }
          ],
          "choropleth": [
           {
            "colorbar": {
             "outlinewidth": 0,
             "ticks": ""
            },
            "type": "choropleth"
           }
          ],
          "contour": [
           {
            "colorbar": {
             "outlinewidth": 0,
             "ticks": ""
            },
            "colorscale": [
             [
              0,
              "#0d0887"
             ],
             [
              0.1111111111111111,
              "#46039f"
             ],
             [
              0.2222222222222222,
              "#7201a8"
             ],
             [
              0.3333333333333333,
              "#9c179e"
             ],
             [
              0.4444444444444444,
              "#bd3786"
             ],
             [
              0.5555555555555556,
              "#d8576b"
             ],
             [
              0.6666666666666666,
              "#ed7953"
             ],
             [
              0.7777777777777778,
              "#fb9f3a"
             ],
             [
              0.8888888888888888,
              "#fdca26"
             ],
             [
              1,
              "#f0f921"
             ]
            ],
            "type": "contour"
           }
          ],
          "contourcarpet": [
           {
            "colorbar": {
             "outlinewidth": 0,
             "ticks": ""
            },
            "type": "contourcarpet"
           }
          ],
          "heatmap": [
           {
            "colorbar": {
             "outlinewidth": 0,
             "ticks": ""
            },
            "colorscale": [
             [
              0,
              "#0d0887"
             ],
             [
              0.1111111111111111,
              "#46039f"
             ],
             [
              0.2222222222222222,
              "#7201a8"
             ],
             [
              0.3333333333333333,
              "#9c179e"
             ],
             [
              0.4444444444444444,
              "#bd3786"
             ],
             [
              0.5555555555555556,
              "#d8576b"
             ],
             [
              0.6666666666666666,
              "#ed7953"
             ],
             [
              0.7777777777777778,
              "#fb9f3a"
             ],
             [
              0.8888888888888888,
              "#fdca26"
             ],
             [
              1,
              "#f0f921"
             ]
            ],
            "type": "heatmap"
           }
          ],
          "heatmapgl": [
           {
            "colorbar": {
             "outlinewidth": 0,
             "ticks": ""
            },
            "colorscale": [
             [
              0,
              "#0d0887"
             ],
             [
              0.1111111111111111,
              "#46039f"
             ],
             [
              0.2222222222222222,
              "#7201a8"
             ],
             [
              0.3333333333333333,
              "#9c179e"
             ],
             [
              0.4444444444444444,
              "#bd3786"
             ],
             [
              0.5555555555555556,
              "#d8576b"
             ],
             [
              0.6666666666666666,
              "#ed7953"
             ],
             [
              0.7777777777777778,
              "#fb9f3a"
             ],
             [
              0.8888888888888888,
              "#fdca26"
             ],
             [
              1,
              "#f0f921"
             ]
            ],
            "type": "heatmapgl"
           }
          ],
          "histogram": [
           {
            "marker": {
             "pattern": {
              "fillmode": "overlay",
              "size": 10,
              "solidity": 0.2
             }
            },
            "type": "histogram"
           }
          ],
          "histogram2d": [
           {
            "colorbar": {
             "outlinewidth": 0,
             "ticks": ""
            },
            "colorscale": [
             [
              0,
              "#0d0887"
             ],
             [
              0.1111111111111111,
              "#46039f"
             ],
             [
              0.2222222222222222,
              "#7201a8"
             ],
             [
              0.3333333333333333,
              "#9c179e"
             ],
             [
              0.4444444444444444,
              "#bd3786"
             ],
             [
              0.5555555555555556,
              "#d8576b"
             ],
             [
              0.6666666666666666,
              "#ed7953"
             ],
             [
              0.7777777777777778,
              "#fb9f3a"
             ],
             [
              0.8888888888888888,
              "#fdca26"
             ],
             [
              1,
              "#f0f921"
             ]
            ],
            "type": "histogram2d"
           }
          ],
          "histogram2dcontour": [
           {
            "colorbar": {
             "outlinewidth": 0,
             "ticks": ""
            },
            "colorscale": [
             [
              0,
              "#0d0887"
             ],
             [
              0.1111111111111111,
              "#46039f"
             ],
             [
              0.2222222222222222,
              "#7201a8"
             ],
             [
              0.3333333333333333,
              "#9c179e"
             ],
             [
              0.4444444444444444,
              "#bd3786"
             ],
             [
              0.5555555555555556,
              "#d8576b"
             ],
             [
              0.6666666666666666,
              "#ed7953"
             ],
             [
              0.7777777777777778,
              "#fb9f3a"
             ],
             [
              0.8888888888888888,
              "#fdca26"
             ],
             [
              1,
              "#f0f921"
             ]
            ],
            "type": "histogram2dcontour"
           }
          ],
          "mesh3d": [
           {
            "colorbar": {
             "outlinewidth": 0,
             "ticks": ""
            },
            "type": "mesh3d"
           }
          ],
          "parcoords": [
           {
            "line": {
             "colorbar": {
              "outlinewidth": 0,
              "ticks": ""
             }
            },
            "type": "parcoords"
           }
          ],
          "pie": [
           {
            "automargin": true,
            "type": "pie"
           }
          ],
          "scatter": [
           {
            "fillpattern": {
             "fillmode": "overlay",
             "size": 10,
             "solidity": 0.2
            },
            "type": "scatter"
           }
          ],
          "scatter3d": [
           {
            "line": {
             "colorbar": {
              "outlinewidth": 0,
              "ticks": ""
             }
            },
            "marker": {
             "colorbar": {
              "outlinewidth": 0,
              "ticks": ""
             }
            },
            "type": "scatter3d"
           }
          ],
          "scattercarpet": [
           {
            "marker": {
             "colorbar": {
              "outlinewidth": 0,
              "ticks": ""
             }
            },
            "type": "scattercarpet"
           }
          ],
          "scattergeo": [
           {
            "marker": {
             "colorbar": {
              "outlinewidth": 0,
              "ticks": ""
             }
            },
            "type": "scattergeo"
           }
          ],
          "scattergl": [
           {
            "marker": {
             "colorbar": {
              "outlinewidth": 0,
              "ticks": ""
             }
            },
            "type": "scattergl"
           }
          ],
          "scattermapbox": [
           {
            "marker": {
             "colorbar": {
              "outlinewidth": 0,
              "ticks": ""
             }
            },
            "type": "scattermapbox"
           }
          ],
          "scatterpolar": [
           {
            "marker": {
             "colorbar": {
              "outlinewidth": 0,
              "ticks": ""
             }
            },
            "type": "scatterpolar"
           }
          ],
          "scatterpolargl": [
           {
            "marker": {
             "colorbar": {
              "outlinewidth": 0,
              "ticks": ""
             }
            },
            "type": "scatterpolargl"
           }
          ],
          "scatterternary": [
           {
            "marker": {
             "colorbar": {
              "outlinewidth": 0,
              "ticks": ""
             }
            },
            "type": "scatterternary"
           }
          ],
          "surface": [
           {
            "colorbar": {
             "outlinewidth": 0,
             "ticks": ""
            },
            "colorscale": [
             [
              0,
              "#0d0887"
             ],
             [
              0.1111111111111111,
              "#46039f"
             ],
             [
              0.2222222222222222,
              "#7201a8"
             ],
             [
              0.3333333333333333,
              "#9c179e"
             ],
             [
              0.4444444444444444,
              "#bd3786"
             ],
             [
              0.5555555555555556,
              "#d8576b"
             ],
             [
              0.6666666666666666,
              "#ed7953"
             ],
             [
              0.7777777777777778,
              "#fb9f3a"
             ],
             [
              0.8888888888888888,
              "#fdca26"
             ],
             [
              1,
              "#f0f921"
             ]
            ],
            "type": "surface"
           }
          ],
          "table": [
           {
            "cells": {
             "fill": {
              "color": "#EBF0F8"
             },
             "line": {
              "color": "white"
             }
            },
            "header": {
             "fill": {
              "color": "#C8D4E3"
             },
             "line": {
              "color": "white"
             }
            },
            "type": "table"
           }
          ]
         },
         "layout": {
          "annotationdefaults": {
           "arrowcolor": "#2a3f5f",
           "arrowhead": 0,
           "arrowwidth": 1
          },
          "autotypenumbers": "strict",
          "coloraxis": {
           "colorbar": {
            "outlinewidth": 0,
            "ticks": ""
           }
          },
          "colorscale": {
           "diverging": [
            [
             0,
             "#8e0152"
            ],
            [
             0.1,
             "#c51b7d"
            ],
            [
             0.2,
             "#de77ae"
            ],
            [
             0.3,
             "#f1b6da"
            ],
            [
             0.4,
             "#fde0ef"
            ],
            [
             0.5,
             "#f7f7f7"
            ],
            [
             0.6,
             "#e6f5d0"
            ],
            [
             0.7,
             "#b8e186"
            ],
            [
             0.8,
             "#7fbc41"
            ],
            [
             0.9,
             "#4d9221"
            ],
            [
             1,
             "#276419"
            ]
           ],
           "sequential": [
            [
             0,
             "#0d0887"
            ],
            [
             0.1111111111111111,
             "#46039f"
            ],
            [
             0.2222222222222222,
             "#7201a8"
            ],
            [
             0.3333333333333333,
             "#9c179e"
            ],
            [
             0.4444444444444444,
             "#bd3786"
            ],
            [
             0.5555555555555556,
             "#d8576b"
            ],
            [
             0.6666666666666666,
             "#ed7953"
            ],
            [
             0.7777777777777778,
             "#fb9f3a"
            ],
            [
             0.8888888888888888,
             "#fdca26"
            ],
            [
             1,
             "#f0f921"
            ]
           ],
           "sequentialminus": [
            [
             0,
             "#0d0887"
            ],
            [
             0.1111111111111111,
             "#46039f"
            ],
            [
             0.2222222222222222,
             "#7201a8"
            ],
            [
             0.3333333333333333,
             "#9c179e"
            ],
            [
             0.4444444444444444,
             "#bd3786"
            ],
            [
             0.5555555555555556,
             "#d8576b"
            ],
            [
             0.6666666666666666,
             "#ed7953"
            ],
            [
             0.7777777777777778,
             "#fb9f3a"
            ],
            [
             0.8888888888888888,
             "#fdca26"
            ],
            [
             1,
             "#f0f921"
            ]
           ]
          },
          "colorway": [
           "#636efa",
           "#EF553B",
           "#00cc96",
           "#ab63fa",
           "#FFA15A",
           "#19d3f3",
           "#FF6692",
           "#B6E880",
           "#FF97FF",
           "#FECB52"
          ],
          "font": {
           "color": "#2a3f5f"
          },
          "geo": {
           "bgcolor": "white",
           "lakecolor": "white",
           "landcolor": "#E5ECF6",
           "showlakes": true,
           "showland": true,
           "subunitcolor": "white"
          },
          "hoverlabel": {
           "align": "left"
          },
          "hovermode": "closest",
          "mapbox": {
           "style": "light"
          },
          "paper_bgcolor": "white",
          "plot_bgcolor": "#E5ECF6",
          "polar": {
           "angularaxis": {
            "gridcolor": "white",
            "linecolor": "white",
            "ticks": ""
           },
           "bgcolor": "#E5ECF6",
           "radialaxis": {
            "gridcolor": "white",
            "linecolor": "white",
            "ticks": ""
           }
          },
          "scene": {
           "xaxis": {
            "backgroundcolor": "#E5ECF6",
            "gridcolor": "white",
            "gridwidth": 2,
            "linecolor": "white",
            "showbackground": true,
            "ticks": "",
            "zerolinecolor": "white"
           },
           "yaxis": {
            "backgroundcolor": "#E5ECF6",
            "gridcolor": "white",
            "gridwidth": 2,
            "linecolor": "white",
            "showbackground": true,
            "ticks": "",
            "zerolinecolor": "white"
           },
           "zaxis": {
            "backgroundcolor": "#E5ECF6",
            "gridcolor": "white",
            "gridwidth": 2,
            "linecolor": "white",
            "showbackground": true,
            "ticks": "",
            "zerolinecolor": "white"
           }
          },
          "shapedefaults": {
           "line": {
            "color": "#2a3f5f"
           }
          },
          "ternary": {
           "aaxis": {
            "gridcolor": "white",
            "linecolor": "white",
            "ticks": ""
           },
           "baxis": {
            "gridcolor": "white",
            "linecolor": "white",
            "ticks": ""
           },
           "bgcolor": "#E5ECF6",
           "caxis": {
            "gridcolor": "white",
            "linecolor": "white",
            "ticks": ""
           }
          },
          "title": {
           "x": 0.05
          },
          "xaxis": {
           "automargin": true,
           "gridcolor": "white",
           "linecolor": "white",
           "ticks": "",
           "title": {
            "standoff": 15
           },
           "zerolinecolor": "white",
           "zerolinewidth": 2
          },
          "yaxis": {
           "automargin": true,
           "gridcolor": "white",
           "linecolor": "white",
           "ticks": "",
           "title": {
            "standoff": 15
           },
           "zerolinecolor": "white",
           "zerolinewidth": 2
          }
         }
        },
        "title": {
         "text": "Coastal Waste Risk"
        }
       }
      }
     },
     "metadata": {},
     "output_type": "display_data"
    }
   ],
   "source": [
    "fig = px.choropleth(coastal_risk_sort,\n",
    "                    locations=\"Country\",  # Column with country names\n",
    "                    locationmode=\"country names\",  # Ensures Plotly recognizes the country names\n",
    "                    color=\"Coastal_Waste_Risk\",  # Column with the values to map\n",
    "                    hover_name=\"Country\",  # Column to show on hover\n",
    "                    color_continuous_scale=px.colors.sequential.Plasma,  # Color scale (you can try other scales like 'Plasma' or 'Cividis')\n",
    "                    title=\"Coastal Waste Risk\")\n",
    "\n",
    "fig.show()"
   ]
  },
  {
   "cell_type": "code",
   "execution_count": null,
   "metadata": {},
   "outputs": [
    {
     "data": {
      "text/html": [
       "<div>\n",
       "<style scoped>\n",
       "    .dataframe tbody tr th:only-of-type {\n",
       "        vertical-align: middle;\n",
       "    }\n",
       "\n",
       "    .dataframe tbody tr th {\n",
       "        vertical-align: top;\n",
       "    }\n",
       "\n",
       "    .dataframe thead th {\n",
       "        text-align: right;\n",
       "    }\n",
       "</style>\n",
       "<table border=\"1\" class=\"dataframe\">\n",
       "  <thead>\n",
       "    <tr style=\"text-align: right;\">\n",
       "      <th></th>\n",
       "      <th>Country</th>\n",
       "      <th>Total_Plastic_Waste_MT</th>\n",
       "      <th>Main_Sources</th>\n",
       "      <th>Recycling_Rate</th>\n",
       "      <th>Per_Capita_Waste_KG</th>\n",
       "      <th>Coastal_Waste_Risk</th>\n",
       "    </tr>\n",
       "  </thead>\n",
       "  <tbody>\n",
       "    <tr>\n",
       "      <th>142</th>\n",
       "      <td>Armenia</td>\n",
       "      <td>0.28</td>\n",
       "      <td>Consumer_Packaging</td>\n",
       "      <td>9.8</td>\n",
       "      <td>94.2</td>\n",
       "      <td>Low</td>\n",
       "    </tr>\n",
       "    <tr>\n",
       "      <th>143</th>\n",
       "      <td>Kyrgyzstan</td>\n",
       "      <td>0.25</td>\n",
       "      <td>Consumer_Packaging</td>\n",
       "      <td>4.5</td>\n",
       "      <td>37.8</td>\n",
       "      <td>Low</td>\n",
       "    </tr>\n",
       "    <tr>\n",
       "      <th>144</th>\n",
       "      <td>Tajikistan</td>\n",
       "      <td>0.22</td>\n",
       "      <td>Consumer_Packaging</td>\n",
       "      <td>3.2</td>\n",
       "      <td>22.7</td>\n",
       "      <td>Low</td>\n",
       "    </tr>\n",
       "    <tr>\n",
       "      <th>53</th>\n",
       "      <td>Belarus</td>\n",
       "      <td>1.09</td>\n",
       "      <td>Industrial_Consumer</td>\n",
       "      <td>7.2</td>\n",
       "      <td>115.7</td>\n",
       "      <td>Low</td>\n",
       "    </tr>\n",
       "    <tr>\n",
       "      <th>145</th>\n",
       "      <td>Turkmenistan</td>\n",
       "      <td>0.35</td>\n",
       "      <td>Consumer_Packaging</td>\n",
       "      <td>2.1</td>\n",
       "      <td>57.3</td>\n",
       "      <td>Low</td>\n",
       "    </tr>\n",
       "    <tr>\n",
       "      <th>...</th>\n",
       "      <td>...</td>\n",
       "      <td>...</td>\n",
       "      <td>...</td>\n",
       "      <td>...</td>\n",
       "      <td>...</td>\n",
       "      <td>...</td>\n",
       "    </tr>\n",
       "    <tr>\n",
       "      <th>164</th>\n",
       "      <td>Nauru</td>\n",
       "      <td>0.01</td>\n",
       "      <td>Consumer_Packaging</td>\n",
       "      <td>0.9</td>\n",
       "      <td>927.8</td>\n",
       "      <td>High</td>\n",
       "    </tr>\n",
       "    <tr>\n",
       "      <th>25</th>\n",
       "      <td>Philippines</td>\n",
       "      <td>1.63</td>\n",
       "      <td>Food_Packaging</td>\n",
       "      <td>9.1</td>\n",
       "      <td>14.8</td>\n",
       "      <td>Very_High</td>\n",
       "    </tr>\n",
       "    <tr>\n",
       "      <th>16</th>\n",
       "      <td>Vietnam</td>\n",
       "      <td>2.54</td>\n",
       "      <td>Food_Packaging</td>\n",
       "      <td>15.3</td>\n",
       "      <td>25.8</td>\n",
       "      <td>Very_High</td>\n",
       "    </tr>\n",
       "    <tr>\n",
       "      <th>6</th>\n",
       "      <td>Indonesia</td>\n",
       "      <td>5.85</td>\n",
       "      <td>Food_Packaging</td>\n",
       "      <td>11.8</td>\n",
       "      <td>21.3</td>\n",
       "      <td>Very_High</td>\n",
       "    </tr>\n",
       "    <tr>\n",
       "      <th>149</th>\n",
       "      <td>Maldives</td>\n",
       "      <td>0.04</td>\n",
       "      <td>Consumer_Packaging</td>\n",
       "      <td>3.2</td>\n",
       "      <td>72.8</td>\n",
       "      <td>Very_High</td>\n",
       "    </tr>\n",
       "  </tbody>\n",
       "</table>\n",
       "<p>165 rows × 6 columns</p>\n",
       "</div>"
      ],
      "text/plain": [
       "          Country  Total_Plastic_Waste_MT         Main_Sources  \\\n",
       "142       Armenia                    0.28   Consumer_Packaging   \n",
       "143    Kyrgyzstan                    0.25   Consumer_Packaging   \n",
       "144    Tajikistan                    0.22   Consumer_Packaging   \n",
       "53        Belarus                    1.09  Industrial_Consumer   \n",
       "145  Turkmenistan                    0.35   Consumer_Packaging   \n",
       "..            ...                     ...                  ...   \n",
       "164         Nauru                    0.01   Consumer_Packaging   \n",
       "25    Philippines                    1.63       Food_Packaging   \n",
       "16        Vietnam                    2.54       Food_Packaging   \n",
       "6       Indonesia                    5.85       Food_Packaging   \n",
       "149      Maldives                    0.04   Consumer_Packaging   \n",
       "\n",
       "     Recycling_Rate  Per_Capita_Waste_KG Coastal_Waste_Risk  \n",
       "142             9.8                 94.2                Low  \n",
       "143             4.5                 37.8                Low  \n",
       "144             3.2                 22.7                Low  \n",
       "53              7.2                115.7                Low  \n",
       "145             2.1                 57.3                Low  \n",
       "..              ...                  ...                ...  \n",
       "164             0.9                927.8               High  \n",
       "25              9.1                 14.8          Very_High  \n",
       "16             15.3                 25.8          Very_High  \n",
       "6              11.8                 21.3          Very_High  \n",
       "149             3.2                 72.8          Very_High  \n",
       "\n",
       "[165 rows x 6 columns]"
      ]
     },
     "execution_count": 152,
     "metadata": {},
     "output_type": "execute_result"
    }
   ],
   "source": [
    "## COASTAL WASTE RISK SORTING\n",
    "# Define the custom order \n",
    "risk_order = ['Low', 'Medium', 'High', 'Very_High']\n",
    "\n",
    "# Convert the column to a categorical type with the custom order\n",
    "df_copy['Coastal_Waste_Risk'] = pd.Categorical(df_copy['Coastal_Waste_Risk'], categories=risk_order, ordered=True)\n",
    "\n",
    "\n",
    "# Sort the DataFrame by the coastal_waste_risk column\n",
    "coastal_risk_sort = df_copy.sort_values(by='Coastal_Waste_Risk')\n",
    "coastal_risk_sort"
   ]
  },
  {
   "cell_type": "code",
   "execution_count": null,
   "metadata": {},
   "outputs": [
    {
     "data": {
      "image/png": "[encoded data removed]",
      "text/plain": [
       "<Figure size 1000x600 with 1 Axes>"
      ]
     },
     "metadata": {},
     "output_type": "display_data"
    }
   ],
   "source": [
    "## Coastal risk bar chart\n",
    "\n",
    "plt.figure(figsize=(10, 6))\n",
    "sns.countplot(data=coastal_risk_sort, x='Coastal_Waste_Risk',palette='Blues')\n",
    "\n",
    "plt.title('Coastal Waste Risk')\n",
    "plt.xlabel('Risk level')\n",
    "plt.ylabel('Number of countries')\n",
    "plt.show()"
   ]
  },
  {
   "cell_type": "code",
   "execution_count": 124,
   "metadata": {},
   "outputs": [
    {
     "data": {
      "text/html": [
       "<div>\n",
       "<style scoped>\n",
       "    .dataframe tbody tr th:only-of-type {\n",
       "        vertical-align: middle;\n",
       "    }\n",
       "\n",
       "    .dataframe tbody tr th {\n",
       "        vertical-align: top;\n",
       "    }\n",
       "\n",
       "    .dataframe thead th {\n",
       "        text-align: right;\n",
       "    }\n",
       "</style>\n",
       "<table border=\"1\" class=\"dataframe\">\n",
       "  <thead>\n",
       "    <tr style=\"text-align: right;\">\n",
       "      <th></th>\n",
       "      <th>Country</th>\n",
       "      <th>Total_Plastic_Waste_MT</th>\n",
       "      <th>Main_Sources</th>\n",
       "      <th>Recycling_Rate</th>\n",
       "      <th>Per_Capita_Waste_KG</th>\n",
       "      <th>Coastal_Waste_Risk</th>\n",
       "    </tr>\n",
       "  </thead>\n",
       "  <tbody>\n",
       "    <tr>\n",
       "      <th>6</th>\n",
       "      <td>Indonesia</td>\n",
       "      <td>5.85</td>\n",
       "      <td>Food_Packaging</td>\n",
       "      <td>11.8</td>\n",
       "      <td>21.3</td>\n",
       "      <td>Very_High</td>\n",
       "    </tr>\n",
       "    <tr>\n",
       "      <th>16</th>\n",
       "      <td>Vietnam</td>\n",
       "      <td>2.54</td>\n",
       "      <td>Food_Packaging</td>\n",
       "      <td>15.3</td>\n",
       "      <td>25.8</td>\n",
       "      <td>Very_High</td>\n",
       "    </tr>\n",
       "    <tr>\n",
       "      <th>25</th>\n",
       "      <td>Philippines</td>\n",
       "      <td>1.63</td>\n",
       "      <td>Food_Packaging</td>\n",
       "      <td>9.1</td>\n",
       "      <td>14.8</td>\n",
       "      <td>Very_High</td>\n",
       "    </tr>\n",
       "    <tr>\n",
       "      <th>149</th>\n",
       "      <td>Maldives</td>\n",
       "      <td>0.04</td>\n",
       "      <td>Consumer_Packaging</td>\n",
       "      <td>3.2</td>\n",
       "      <td>72.8</td>\n",
       "      <td>Very_High</td>\n",
       "    </tr>\n",
       "  </tbody>\n",
       "</table>\n",
       "</div>"
      ],
      "text/plain": [
       "         Country  Total_Plastic_Waste_MT        Main_Sources  Recycling_Rate  \\\n",
       "6      Indonesia                    5.85      Food_Packaging            11.8   \n",
       "16       Vietnam                    2.54      Food_Packaging            15.3   \n",
       "25   Philippines                    1.63      Food_Packaging             9.1   \n",
       "149     Maldives                    0.04  Consumer_Packaging             3.2   \n",
       "\n",
       "     Per_Capita_Waste_KG Coastal_Waste_Risk  \n",
       "6                   21.3          Very_High  \n",
       "16                  25.8          Very_High  \n",
       "25                  14.8          Very_High  \n",
       "149                 72.8          Very_High  "
      ]
     },
     "execution_count": 124,
     "metadata": {},
     "output_type": "execute_result"
    }
   ],
   "source": [
    "## Very high \n",
    "\n",
    "very_high_coastal_risk = global_waste_df[global_waste_df['Coastal_Waste_Risk'] == 'Very_High']\n",
    "very_high_coastal_risk"
   ]
  },
  {
   "cell_type": "code",
   "execution_count": null,
   "metadata": {},
   "outputs": [
    {
     "data": {
      "text/html": [
       "<div>\n",
       "<style scoped>\n",
       "    .dataframe tbody tr th:only-of-type {\n",
       "        vertical-align: middle;\n",
       "    }\n",
       "\n",
       "    .dataframe tbody tr th {\n",
       "        vertical-align: top;\n",
       "    }\n",
       "\n",
       "    .dataframe thead th {\n",
       "        text-align: right;\n",
       "    }\n",
       "</style>\n",
       "<table border=\"1\" class=\"dataframe\">\n",
       "  <thead>\n",
       "    <tr style=\"text-align: right;\">\n",
       "      <th></th>\n",
       "      <th>Country</th>\n",
       "      <th>Total_Plastic_Waste_MT</th>\n",
       "      <th>Main_Sources</th>\n",
       "      <th>Recycling_Rate</th>\n",
       "      <th>Per_Capita_Waste_KG</th>\n",
       "      <th>Coastal_Waste_Risk</th>\n",
       "    </tr>\n",
       "  </thead>\n",
       "  <tbody>\n",
       "    <tr>\n",
       "      <th>0</th>\n",
       "      <td>China</td>\n",
       "      <td>59.08</td>\n",
       "      <td>Packaging_Industrial</td>\n",
       "      <td>29.8</td>\n",
       "      <td>41.2</td>\n",
       "      <td>High</td>\n",
       "    </tr>\n",
       "    <tr>\n",
       "      <th>2</th>\n",
       "      <td>India</td>\n",
       "      <td>26.33</td>\n",
       "      <td>Consumer_Goods</td>\n",
       "      <td>11.5</td>\n",
       "      <td>19.3</td>\n",
       "      <td>High</td>\n",
       "    </tr>\n",
       "    <tr>\n",
       "      <th>10</th>\n",
       "      <td>Mexico</td>\n",
       "      <td>4.43</td>\n",
       "      <td>Consumer_Packaging</td>\n",
       "      <td>6.7</td>\n",
       "      <td>34.2</td>\n",
       "      <td>High</td>\n",
       "    </tr>\n",
       "    <tr>\n",
       "      <th>13</th>\n",
       "      <td>Turkey</td>\n",
       "      <td>3.21</td>\n",
       "      <td>Consumer_Packaging</td>\n",
       "      <td>12.1</td>\n",
       "      <td>38.5</td>\n",
       "      <td>High</td>\n",
       "    </tr>\n",
       "    <tr>\n",
       "      <th>17</th>\n",
       "      <td>Thailand</td>\n",
       "      <td>2.41</td>\n",
       "      <td>Consumer_Packaging</td>\n",
       "      <td>17.6</td>\n",
       "      <td>34.5</td>\n",
       "      <td>High</td>\n",
       "    </tr>\n",
       "    <tr>\n",
       "      <th>...</th>\n",
       "      <td>...</td>\n",
       "      <td>...</td>\n",
       "      <td>...</td>\n",
       "      <td>...</td>\n",
       "      <td>...</td>\n",
       "      <td>...</td>\n",
       "    </tr>\n",
       "    <tr>\n",
       "      <th>160</th>\n",
       "      <td>Marshall Islands</td>\n",
       "      <td>0.01</td>\n",
       "      <td>Consumer_Packaging</td>\n",
       "      <td>1.8</td>\n",
       "      <td>168.5</td>\n",
       "      <td>High</td>\n",
       "    </tr>\n",
       "    <tr>\n",
       "      <th>161</th>\n",
       "      <td>Micronesia</td>\n",
       "      <td>0.01</td>\n",
       "      <td>Consumer_Packaging</td>\n",
       "      <td>1.5</td>\n",
       "      <td>86.3</td>\n",
       "      <td>High</td>\n",
       "    </tr>\n",
       "    <tr>\n",
       "      <th>162</th>\n",
       "      <td>Palau</td>\n",
       "      <td>0.01</td>\n",
       "      <td>Consumer_Packaging</td>\n",
       "      <td>12.3</td>\n",
       "      <td>437.2</td>\n",
       "      <td>High</td>\n",
       "    </tr>\n",
       "    <tr>\n",
       "      <th>163</th>\n",
       "      <td>Tuvalu</td>\n",
       "      <td>0.01</td>\n",
       "      <td>Consumer_Packaging</td>\n",
       "      <td>1.2</td>\n",
       "      <td>833.3</td>\n",
       "      <td>High</td>\n",
       "    </tr>\n",
       "    <tr>\n",
       "      <th>164</th>\n",
       "      <td>Nauru</td>\n",
       "      <td>0.01</td>\n",
       "      <td>Consumer_Packaging</td>\n",
       "      <td>0.9</td>\n",
       "      <td>927.8</td>\n",
       "      <td>High</td>\n",
       "    </tr>\n",
       "  </tbody>\n",
       "</table>\n",
       "<p>74 rows × 6 columns</p>\n",
       "</div>"
      ],
      "text/plain": [
       "              Country  Total_Plastic_Waste_MT          Main_Sources  \\\n",
       "0               China                   59.08  Packaging_Industrial   \n",
       "2               India                   26.33        Consumer_Goods   \n",
       "10             Mexico                    4.43    Consumer_Packaging   \n",
       "13             Turkey                    3.21    Consumer_Packaging   \n",
       "17           Thailand                    2.41    Consumer_Packaging   \n",
       "..                ...                     ...                   ...   \n",
       "160  Marshall Islands                    0.01    Consumer_Packaging   \n",
       "161        Micronesia                    0.01    Consumer_Packaging   \n",
       "162             Palau                    0.01    Consumer_Packaging   \n",
       "163            Tuvalu                    0.01    Consumer_Packaging   \n",
       "164             Nauru                    0.01    Consumer_Packaging   \n",
       "\n",
       "     Recycling_Rate  Per_Capita_Waste_KG Coastal_Waste_Risk  \n",
       "0              29.8                 41.2               High  \n",
       "2              11.5                 19.3               High  \n",
       "10              6.7                 34.2               High  \n",
       "13             12.1                 38.5               High  \n",
       "17             17.6                 34.5               High  \n",
       "..              ...                  ...                ...  \n",
       "160             1.8                168.5               High  \n",
       "161             1.5                 86.3               High  \n",
       "162            12.3                437.2               High  \n",
       "163             1.2                833.3               High  \n",
       "164             0.9                927.8               High  \n",
       "\n",
       "[74 rows x 6 columns]"
      ]
     },
     "execution_count": 108,
     "metadata": {},
     "output_type": "execute_result"
    }
   ],
   "source": [
    "## High\n",
    "\n",
    "high_coastal_risk = global_waste_df[global_waste_df['Coastal_Waste_Risk'] == 'High']\n",
    "high_coastal_risk"
   ]
  },
  {
   "cell_type": "code",
   "execution_count": null,
   "metadata": {},
   "outputs": [
    {
     "data": {
      "text/html": [
       "<div>\n",
       "<style scoped>\n",
       "    .dataframe tbody tr th:only-of-type {\n",
       "        vertical-align: middle;\n",
       "    }\n",
       "\n",
       "    .dataframe tbody tr th {\n",
       "        vertical-align: top;\n",
       "    }\n",
       "\n",
       "    .dataframe thead th {\n",
       "        text-align: right;\n",
       "    }\n",
       "</style>\n",
       "<table border=\"1\" class=\"dataframe\">\n",
       "  <thead>\n",
       "    <tr style=\"text-align: right;\">\n",
       "      <th></th>\n",
       "      <th>Country</th>\n",
       "      <th>Total_Plastic_Waste_MT</th>\n",
       "      <th>Main_Sources</th>\n",
       "      <th>Recycling_Rate</th>\n",
       "      <th>Per_Capita_Waste_KG</th>\n",
       "      <th>Coastal_Waste_Risk</th>\n",
       "    </tr>\n",
       "  </thead>\n",
       "  <tbody>\n",
       "    <tr>\n",
       "      <th>1</th>\n",
       "      <td>United States</td>\n",
       "      <td>42.02</td>\n",
       "      <td>Packaging_Consumer</td>\n",
       "      <td>32.1</td>\n",
       "      <td>127.5</td>\n",
       "      <td>Medium</td>\n",
       "    </tr>\n",
       "    <tr>\n",
       "      <th>3</th>\n",
       "      <td>Japan</td>\n",
       "      <td>7.99</td>\n",
       "      <td>Packaging_Electronics</td>\n",
       "      <td>84.8</td>\n",
       "      <td>63.2</td>\n",
       "      <td>Medium</td>\n",
       "    </tr>\n",
       "    <tr>\n",
       "      <th>5</th>\n",
       "      <td>Brazil</td>\n",
       "      <td>5.96</td>\n",
       "      <td>Consumer_Packaging</td>\n",
       "      <td>1.2</td>\n",
       "      <td>28.1</td>\n",
       "      <td>Medium</td>\n",
       "    </tr>\n",
       "    <tr>\n",
       "      <th>7</th>\n",
       "      <td>Russia</td>\n",
       "      <td>5.84</td>\n",
       "      <td>Industrial_Consumer</td>\n",
       "      <td>5.6</td>\n",
       "      <td>40.2</td>\n",
       "      <td>Medium</td>\n",
       "    </tr>\n",
       "    <tr>\n",
       "      <th>12</th>\n",
       "      <td>Italy</td>\n",
       "      <td>3.83</td>\n",
       "      <td>Packaging_Industrial</td>\n",
       "      <td>41.2</td>\n",
       "      <td>63.4</td>\n",
       "      <td>Medium</td>\n",
       "    </tr>\n",
       "    <tr>\n",
       "      <th>14</th>\n",
       "      <td>South Korea</td>\n",
       "      <td>2.91</td>\n",
       "      <td>Electronics_Packaging</td>\n",
       "      <td>59.1</td>\n",
       "      <td>56.7</td>\n",
       "      <td>Medium</td>\n",
       "    </tr>\n",
       "    <tr>\n",
       "      <th>15</th>\n",
       "      <td>Spain</td>\n",
       "      <td>2.58</td>\n",
       "      <td>Consumer_Packaging</td>\n",
       "      <td>37.8</td>\n",
       "      <td>54.9</td>\n",
       "      <td>Medium</td>\n",
       "    </tr>\n",
       "    <tr>\n",
       "      <th>21</th>\n",
       "      <td>Argentina</td>\n",
       "      <td>1.98</td>\n",
       "      <td>Consumer_Packaging</td>\n",
       "      <td>14.2</td>\n",
       "      <td>43.5</td>\n",
       "      <td>Medium</td>\n",
       "    </tr>\n",
       "    <tr>\n",
       "      <th>23</th>\n",
       "      <td>Australia</td>\n",
       "      <td>1.67</td>\n",
       "      <td>Consumer_Packaging</td>\n",
       "      <td>13.2</td>\n",
       "      <td>64.8</td>\n",
       "      <td>Medium</td>\n",
       "    </tr>\n",
       "    <tr>\n",
       "      <th>24</th>\n",
       "      <td>Saudi Arabia</td>\n",
       "      <td>1.65</td>\n",
       "      <td>Consumer_Packaging</td>\n",
       "      <td>4.5</td>\n",
       "      <td>46.9</td>\n",
       "      <td>Medium</td>\n",
       "    </tr>\n",
       "    <tr>\n",
       "      <th>28</th>\n",
       "      <td>South Africa</td>\n",
       "      <td>1.58</td>\n",
       "      <td>Consumer_Packaging</td>\n",
       "      <td>18.9</td>\n",
       "      <td>26.4</td>\n",
       "      <td>Medium</td>\n",
       "    </tr>\n",
       "    <tr>\n",
       "      <th>29</th>\n",
       "      <td>Colombia</td>\n",
       "      <td>1.54</td>\n",
       "      <td>Consumer_Packaging</td>\n",
       "      <td>7.8</td>\n",
       "      <td>30.1</td>\n",
       "      <td>Medium</td>\n",
       "    </tr>\n",
       "    <tr>\n",
       "      <th>34</th>\n",
       "      <td>Ukraine</td>\n",
       "      <td>1.47</td>\n",
       "      <td>Consumer_Packaging</td>\n",
       "      <td>3.4</td>\n",
       "      <td>33.7</td>\n",
       "      <td>Medium</td>\n",
       "    </tr>\n",
       "    <tr>\n",
       "      <th>35</th>\n",
       "      <td>Greece</td>\n",
       "      <td>1.45</td>\n",
       "      <td>Consumer_Packaging</td>\n",
       "      <td>21.3</td>\n",
       "      <td>139.2</td>\n",
       "      <td>Medium</td>\n",
       "    </tr>\n",
       "    <tr>\n",
       "      <th>37</th>\n",
       "      <td>Romania</td>\n",
       "      <td>1.41</td>\n",
       "      <td>Consumer_Packaging</td>\n",
       "      <td>13.8</td>\n",
       "      <td>73.4</td>\n",
       "      <td>Medium</td>\n",
       "    </tr>\n",
       "    <tr>\n",
       "      <th>38</th>\n",
       "      <td>Portugal</td>\n",
       "      <td>1.39</td>\n",
       "      <td>Consumer_Packaging</td>\n",
       "      <td>31.2</td>\n",
       "      <td>135.8</td>\n",
       "      <td>Medium</td>\n",
       "    </tr>\n",
       "    <tr>\n",
       "      <th>44</th>\n",
       "      <td>Singapore</td>\n",
       "      <td>1.27</td>\n",
       "      <td>Industrial_Packaging</td>\n",
       "      <td>59.8</td>\n",
       "      <td>217.9</td>\n",
       "      <td>Medium</td>\n",
       "    </tr>\n",
       "    <tr>\n",
       "      <th>46</th>\n",
       "      <td>Israel</td>\n",
       "      <td>1.23</td>\n",
       "      <td>Consumer_Packaging</td>\n",
       "      <td>14.5</td>\n",
       "      <td>133.7</td>\n",
       "      <td>Medium</td>\n",
       "    </tr>\n",
       "    <tr>\n",
       "      <th>55</th>\n",
       "      <td>Bulgaria</td>\n",
       "      <td>1.05</td>\n",
       "      <td>Consumer_Packaging</td>\n",
       "      <td>31.5</td>\n",
       "      <td>152.3</td>\n",
       "      <td>Medium</td>\n",
       "    </tr>\n",
       "    <tr>\n",
       "      <th>58</th>\n",
       "      <td>Azerbaijan</td>\n",
       "      <td>0.99</td>\n",
       "      <td>Consumer_Packaging</td>\n",
       "      <td>18.2</td>\n",
       "      <td>96.8</td>\n",
       "      <td>Medium</td>\n",
       "    </tr>\n",
       "    <tr>\n",
       "      <th>59</th>\n",
       "      <td>Croatia</td>\n",
       "      <td>0.97</td>\n",
       "      <td>Consumer_Packaging</td>\n",
       "      <td>33.7</td>\n",
       "      <td>238.1</td>\n",
       "      <td>Medium</td>\n",
       "    </tr>\n",
       "    <tr>\n",
       "      <th>60</th>\n",
       "      <td>Uruguay</td>\n",
       "      <td>0.95</td>\n",
       "      <td>Consumer_Packaging</td>\n",
       "      <td>35.2</td>\n",
       "      <td>272.4</td>\n",
       "      <td>Medium</td>\n",
       "    </tr>\n",
       "    <tr>\n",
       "      <th>66</th>\n",
       "      <td>Jordan</td>\n",
       "      <td>0.83</td>\n",
       "      <td>Consumer_Packaging</td>\n",
       "      <td>7.8</td>\n",
       "      <td>80.6</td>\n",
       "      <td>Medium</td>\n",
       "    </tr>\n",
       "    <tr>\n",
       "      <th>75</th>\n",
       "      <td>Cyprus</td>\n",
       "      <td>0.65</td>\n",
       "      <td>Consumer_Packaging</td>\n",
       "      <td>16.4</td>\n",
       "      <td>531.1</td>\n",
       "      <td>Medium</td>\n",
       "    </tr>\n",
       "    <tr>\n",
       "      <th>76</th>\n",
       "      <td>Montenegro</td>\n",
       "      <td>0.63</td>\n",
       "      <td>Consumer_Packaging</td>\n",
       "      <td>3.4</td>\n",
       "      <td>1004.8</td>\n",
       "      <td>Medium</td>\n",
       "    </tr>\n",
       "    <tr>\n",
       "      <th>78</th>\n",
       "      <td>Malta</td>\n",
       "      <td>0.59</td>\n",
       "      <td>Consumer_Packaging</td>\n",
       "      <td>11.2</td>\n",
       "      <td>1331.5</td>\n",
       "      <td>Medium</td>\n",
       "    </tr>\n",
       "    <tr>\n",
       "      <th>83</th>\n",
       "      <td>Laos</td>\n",
       "      <td>0.49</td>\n",
       "      <td>Consumer_Packaging</td>\n",
       "      <td>1.8</td>\n",
       "      <td>66.2</td>\n",
       "      <td>Medium</td>\n",
       "    </tr>\n",
       "    <tr>\n",
       "      <th>87</th>\n",
       "      <td>Syria</td>\n",
       "      <td>0.41</td>\n",
       "      <td>Consumer_Packaging</td>\n",
       "      <td>0.4</td>\n",
       "      <td>24.7</td>\n",
       "      <td>Medium</td>\n",
       "    </tr>\n",
       "    <tr>\n",
       "      <th>88</th>\n",
       "      <td>Iraq</td>\n",
       "      <td>0.39</td>\n",
       "      <td>Consumer_Packaging</td>\n",
       "      <td>1.2</td>\n",
       "      <td>9.6</td>\n",
       "      <td>Medium</td>\n",
       "    </tr>\n",
       "    <tr>\n",
       "      <th>90</th>\n",
       "      <td>Sudan</td>\n",
       "      <td>0.35</td>\n",
       "      <td>Consumer_Packaging</td>\n",
       "      <td>0.4</td>\n",
       "      <td>7.9</td>\n",
       "      <td>Medium</td>\n",
       "    </tr>\n",
       "    <tr>\n",
       "      <th>129</th>\n",
       "      <td>Democratic Republic of Congo</td>\n",
       "      <td>0.24</td>\n",
       "      <td>Consumer_Packaging</td>\n",
       "      <td>0.4</td>\n",
       "      <td>2.6</td>\n",
       "      <td>Medium</td>\n",
       "    </tr>\n",
       "    <tr>\n",
       "      <th>137</th>\n",
       "      <td>Albania</td>\n",
       "      <td>0.31</td>\n",
       "      <td>Consumer_Packaging</td>\n",
       "      <td>15.6</td>\n",
       "      <td>107.9</td>\n",
       "      <td>Medium</td>\n",
       "    </tr>\n",
       "    <tr>\n",
       "      <th>141</th>\n",
       "      <td>Georgia</td>\n",
       "      <td>0.33</td>\n",
       "      <td>Consumer_Packaging</td>\n",
       "      <td>11.2</td>\n",
       "      <td>88.3</td>\n",
       "      <td>Medium</td>\n",
       "    </tr>\n",
       "  </tbody>\n",
       "</table>\n",
       "</div>"
      ],
      "text/plain": [
       "                          Country  Total_Plastic_Waste_MT  \\\n",
       "1                   United States                   42.02   \n",
       "3                           Japan                    7.99   \n",
       "5                          Brazil                    5.96   \n",
       "7                          Russia                    5.84   \n",
       "12                          Italy                    3.83   \n",
       "14                    South Korea                    2.91   \n",
       "15                          Spain                    2.58   \n",
       "21                      Argentina                    1.98   \n",
       "23                      Australia                    1.67   \n",
       "24                   Saudi Arabia                    1.65   \n",
       "28                   South Africa                    1.58   \n",
       "29                       Colombia                    1.54   \n",
       "34                        Ukraine                    1.47   \n",
       "35                         Greece                    1.45   \n",
       "37                        Romania                    1.41   \n",
       "38                       Portugal                    1.39   \n",
       "44                      Singapore                    1.27   \n",
       "46                         Israel                    1.23   \n",
       "55                       Bulgaria                    1.05   \n",
       "58                     Azerbaijan                    0.99   \n",
       "59                        Croatia                    0.97   \n",
       "60                        Uruguay                    0.95   \n",
       "66                         Jordan                    0.83   \n",
       "75                         Cyprus                    0.65   \n",
       "76                     Montenegro                    0.63   \n",
       "78                          Malta                    0.59   \n",
       "83                           Laos                    0.49   \n",
       "87                          Syria                    0.41   \n",
       "88                           Iraq                    0.39   \n",
       "90                          Sudan                    0.35   \n",
       "129  Democratic Republic of Congo                    0.24   \n",
       "137                       Albania                    0.31   \n",
       "141                       Georgia                    0.33   \n",
       "\n",
       "              Main_Sources  Recycling_Rate  Per_Capita_Waste_KG  \\\n",
       "1       Packaging_Consumer            32.1                127.5   \n",
       "3    Packaging_Electronics            84.8                 63.2   \n",
       "5       Consumer_Packaging             1.2                 28.1   \n",
       "7      Industrial_Consumer             5.6                 40.2   \n",
       "12    Packaging_Industrial            41.2                 63.4   \n",
       "14   Electronics_Packaging            59.1                 56.7   \n",
       "15      Consumer_Packaging            37.8                 54.9   \n",
       "21      Consumer_Packaging            14.2                 43.5   \n",
       "23      Consumer_Packaging            13.2                 64.8   \n",
       "24      Consumer_Packaging             4.5                 46.9   \n",
       "28      Consumer_Packaging            18.9                 26.4   \n",
       "29      Consumer_Packaging             7.8                 30.1   \n",
       "34      Consumer_Packaging             3.4                 33.7   \n",
       "35      Consumer_Packaging            21.3                139.2   \n",
       "37      Consumer_Packaging            13.8                 73.4   \n",
       "38      Consumer_Packaging            31.2                135.8   \n",
       "44    Industrial_Packaging            59.8                217.9   \n",
       "46      Consumer_Packaging            14.5                133.7   \n",
       "55      Consumer_Packaging            31.5                152.3   \n",
       "58      Consumer_Packaging            18.2                 96.8   \n",
       "59      Consumer_Packaging            33.7                238.1   \n",
       "60      Consumer_Packaging            35.2                272.4   \n",
       "66      Consumer_Packaging             7.8                 80.6   \n",
       "75      Consumer_Packaging            16.4                531.1   \n",
       "76      Consumer_Packaging             3.4               1004.8   \n",
       "78      Consumer_Packaging            11.2               1331.5   \n",
       "83      Consumer_Packaging             1.8                 66.2   \n",
       "87      Consumer_Packaging             0.4                 24.7   \n",
       "88      Consumer_Packaging             1.2                  9.6   \n",
       "90      Consumer_Packaging             0.4                  7.9   \n",
       "129     Consumer_Packaging             0.4                  2.6   \n",
       "137     Consumer_Packaging            15.6                107.9   \n",
       "141     Consumer_Packaging            11.2                 88.3   \n",
       "\n",
       "    Coastal_Waste_Risk  \n",
       "1               Medium  \n",
       "3               Medium  \n",
       "5               Medium  \n",
       "7               Medium  \n",
       "12              Medium  \n",
       "14              Medium  \n",
       "15              Medium  \n",
       "21              Medium  \n",
       "23              Medium  \n",
       "24              Medium  \n",
       "28              Medium  \n",
       "29              Medium  \n",
       "34              Medium  \n",
       "35              Medium  \n",
       "37              Medium  \n",
       "38              Medium  \n",
       "44              Medium  \n",
       "46              Medium  \n",
       "55              Medium  \n",
       "58              Medium  \n",
       "59              Medium  \n",
       "60              Medium  \n",
       "66              Medium  \n",
       "75              Medium  \n",
       "76              Medium  \n",
       "78              Medium  \n",
       "83              Medium  \n",
       "87              Medium  \n",
       "88              Medium  \n",
       "90              Medium  \n",
       "129             Medium  \n",
       "137             Medium  \n",
       "141             Medium  "
      ]
     },
     "execution_count": 110,
     "metadata": {},
     "output_type": "execute_result"
    }
   ],
   "source": [
    "## Medium\n",
    "\n",
    "med_coastal_risk = global_waste_df[global_waste_df['Coastal_Waste_Risk'] == 'Medium']\n",
    "med_coastal_risk"
   ]
  },
  {
   "cell_type": "code",
   "execution_count": null,
   "metadata": {},
   "outputs": [
    {
     "data": {
      "text/html": [
       "<div>\n",
       "<style scoped>\n",
       "    .dataframe tbody tr th:only-of-type {\n",
       "        vertical-align: middle;\n",
       "    }\n",
       "\n",
       "    .dataframe tbody tr th {\n",
       "        vertical-align: top;\n",
       "    }\n",
       "\n",
       "    .dataframe thead th {\n",
       "        text-align: right;\n",
       "    }\n",
       "</style>\n",
       "<table border=\"1\" class=\"dataframe\">\n",
       "  <thead>\n",
       "    <tr style=\"text-align: right;\">\n",
       "      <th></th>\n",
       "      <th>Country</th>\n",
       "      <th>Total_Plastic_Waste_MT</th>\n",
       "      <th>Main_Sources</th>\n",
       "      <th>Recycling_Rate</th>\n",
       "      <th>Per_Capita_Waste_KG</th>\n",
       "      <th>Coastal_Waste_Risk</th>\n",
       "    </tr>\n",
       "  </thead>\n",
       "  <tbody>\n",
       "    <tr>\n",
       "      <th>4</th>\n",
       "      <td>Germany</td>\n",
       "      <td>6.28</td>\n",
       "      <td>Automotive_Packaging</td>\n",
       "      <td>56.1</td>\n",
       "      <td>75.6</td>\n",
       "      <td>Low</td>\n",
       "    </tr>\n",
       "    <tr>\n",
       "      <th>8</th>\n",
       "      <td>United Kingdom</td>\n",
       "      <td>5.03</td>\n",
       "      <td>Packaging_Consumer</td>\n",
       "      <td>46.2</td>\n",
       "      <td>74.3</td>\n",
       "      <td>Low</td>\n",
       "    </tr>\n",
       "    <tr>\n",
       "      <th>9</th>\n",
       "      <td>France</td>\n",
       "      <td>4.98</td>\n",
       "      <td>Packaging_Consumer</td>\n",
       "      <td>27.3</td>\n",
       "      <td>73.1</td>\n",
       "      <td>Low</td>\n",
       "    </tr>\n",
       "    <tr>\n",
       "      <th>11</th>\n",
       "      <td>Canada</td>\n",
       "      <td>3.89</td>\n",
       "      <td>Packaging_Consumer</td>\n",
       "      <td>9.4</td>\n",
       "      <td>102.1</td>\n",
       "      <td>Low</td>\n",
       "    </tr>\n",
       "    <tr>\n",
       "      <th>19</th>\n",
       "      <td>Poland</td>\n",
       "      <td>2.21</td>\n",
       "      <td>Packaging_Industrial</td>\n",
       "      <td>34.5</td>\n",
       "      <td>58.3</td>\n",
       "      <td>Low</td>\n",
       "    </tr>\n",
       "    <tr>\n",
       "      <th>22</th>\n",
       "      <td>Netherlands</td>\n",
       "      <td>1.78</td>\n",
       "      <td>Industrial_Packaging</td>\n",
       "      <td>55.9</td>\n",
       "      <td>102.8</td>\n",
       "      <td>Low</td>\n",
       "    </tr>\n",
       "    <tr>\n",
       "      <th>31</th>\n",
       "      <td>Belgium</td>\n",
       "      <td>1.52</td>\n",
       "      <td>Industrial_Packaging</td>\n",
       "      <td>43.2</td>\n",
       "      <td>131.2</td>\n",
       "      <td>Low</td>\n",
       "    </tr>\n",
       "    <tr>\n",
       "      <th>32</th>\n",
       "      <td>Sweden</td>\n",
       "      <td>1.51</td>\n",
       "      <td>Packaging_Industrial</td>\n",
       "      <td>50.6</td>\n",
       "      <td>146.3</td>\n",
       "      <td>Low</td>\n",
       "    </tr>\n",
       "    <tr>\n",
       "      <th>33</th>\n",
       "      <td>Austria</td>\n",
       "      <td>1.48</td>\n",
       "      <td>Industrial_Packaging</td>\n",
       "      <td>56.4</td>\n",
       "      <td>164.8</td>\n",
       "      <td>Low</td>\n",
       "    </tr>\n",
       "    <tr>\n",
       "      <th>36</th>\n",
       "      <td>Czech Republic</td>\n",
       "      <td>1.43</td>\n",
       "      <td>Industrial_Packaging</td>\n",
       "      <td>41.7</td>\n",
       "      <td>133.9</td>\n",
       "      <td>Low</td>\n",
       "    </tr>\n",
       "    <tr>\n",
       "      <th>39</th>\n",
       "      <td>Hungary</td>\n",
       "      <td>1.37</td>\n",
       "      <td>Industrial_Packaging</td>\n",
       "      <td>30.1</td>\n",
       "      <td>141.5</td>\n",
       "      <td>Low</td>\n",
       "    </tr>\n",
       "    <tr>\n",
       "      <th>40</th>\n",
       "      <td>Denmark</td>\n",
       "      <td>1.35</td>\n",
       "      <td>Packaging_Consumer</td>\n",
       "      <td>42.3</td>\n",
       "      <td>232.1</td>\n",
       "      <td>Low</td>\n",
       "    </tr>\n",
       "    <tr>\n",
       "      <th>41</th>\n",
       "      <td>Finland</td>\n",
       "      <td>1.33</td>\n",
       "      <td>Industrial_Packaging</td>\n",
       "      <td>42.1</td>\n",
       "      <td>240.2</td>\n",
       "      <td>Low</td>\n",
       "    </tr>\n",
       "    <tr>\n",
       "      <th>42</th>\n",
       "      <td>Norway</td>\n",
       "      <td>1.31</td>\n",
       "      <td>Industrial_Packaging</td>\n",
       "      <td>44.5</td>\n",
       "      <td>243.1</td>\n",
       "      <td>Low</td>\n",
       "    </tr>\n",
       "    <tr>\n",
       "      <th>43</th>\n",
       "      <td>Ireland</td>\n",
       "      <td>1.29</td>\n",
       "      <td>Consumer_Packaging</td>\n",
       "      <td>31.2</td>\n",
       "      <td>257.3</td>\n",
       "      <td>Low</td>\n",
       "    </tr>\n",
       "    <tr>\n",
       "      <th>48</th>\n",
       "      <td>Kazakhstan</td>\n",
       "      <td>1.19</td>\n",
       "      <td>Industrial_Consumer</td>\n",
       "      <td>4.5</td>\n",
       "      <td>62.8</td>\n",
       "      <td>Low</td>\n",
       "    </tr>\n",
       "    <tr>\n",
       "      <th>51</th>\n",
       "      <td>Slovakia</td>\n",
       "      <td>1.13</td>\n",
       "      <td>Industrial_Packaging</td>\n",
       "      <td>38.9</td>\n",
       "      <td>207.1</td>\n",
       "      <td>Low</td>\n",
       "    </tr>\n",
       "    <tr>\n",
       "      <th>53</th>\n",
       "      <td>Belarus</td>\n",
       "      <td>1.09</td>\n",
       "      <td>Industrial_Consumer</td>\n",
       "      <td>7.2</td>\n",
       "      <td>115.7</td>\n",
       "      <td>Low</td>\n",
       "    </tr>\n",
       "    <tr>\n",
       "      <th>61</th>\n",
       "      <td>Lithuania</td>\n",
       "      <td>0.93</td>\n",
       "      <td>Industrial_Packaging</td>\n",
       "      <td>45.3</td>\n",
       "      <td>334.8</td>\n",
       "      <td>Low</td>\n",
       "    </tr>\n",
       "    <tr>\n",
       "      <th>62</th>\n",
       "      <td>Slovenia</td>\n",
       "      <td>0.91</td>\n",
       "      <td>Industrial_Packaging</td>\n",
       "      <td>42.1</td>\n",
       "      <td>436.5</td>\n",
       "      <td>Low</td>\n",
       "    </tr>\n",
       "    <tr>\n",
       "      <th>69</th>\n",
       "      <td>Bolivia</td>\n",
       "      <td>0.77</td>\n",
       "      <td>Consumer_Packaging</td>\n",
       "      <td>2.8</td>\n",
       "      <td>65.3</td>\n",
       "      <td>Low</td>\n",
       "    </tr>\n",
       "    <tr>\n",
       "      <th>70</th>\n",
       "      <td>Paraguay</td>\n",
       "      <td>0.75</td>\n",
       "      <td>Consumer_Packaging</td>\n",
       "      <td>4.1</td>\n",
       "      <td>104.2</td>\n",
       "      <td>Low</td>\n",
       "    </tr>\n",
       "    <tr>\n",
       "      <th>71</th>\n",
       "      <td>Latvia</td>\n",
       "      <td>0.73</td>\n",
       "      <td>Industrial_Packaging</td>\n",
       "      <td>43.2</td>\n",
       "      <td>386.8</td>\n",
       "      <td>Low</td>\n",
       "    </tr>\n",
       "    <tr>\n",
       "      <th>72</th>\n",
       "      <td>Estonia</td>\n",
       "      <td>0.71</td>\n",
       "      <td>Industrial_Packaging</td>\n",
       "      <td>31.8</td>\n",
       "      <td>534.6</td>\n",
       "      <td>Low</td>\n",
       "    </tr>\n",
       "    <tr>\n",
       "      <th>77</th>\n",
       "      <td>Luxembourg</td>\n",
       "      <td>0.61</td>\n",
       "      <td>Industrial_Packaging</td>\n",
       "      <td>48.9</td>\n",
       "      <td>957.8</td>\n",
       "      <td>Low</td>\n",
       "    </tr>\n",
       "    <tr>\n",
       "      <th>79</th>\n",
       "      <td>Iceland</td>\n",
       "      <td>0.57</td>\n",
       "      <td>Consumer_Packaging</td>\n",
       "      <td>55.6</td>\n",
       "      <td>1564.4</td>\n",
       "      <td>Low</td>\n",
       "    </tr>\n",
       "    <tr>\n",
       "      <th>84</th>\n",
       "      <td>Mongolia</td>\n",
       "      <td>0.47</td>\n",
       "      <td>Consumer_Packaging</td>\n",
       "      <td>0.9</td>\n",
       "      <td>141.6</td>\n",
       "      <td>Low</td>\n",
       "    </tr>\n",
       "    <tr>\n",
       "      <th>85</th>\n",
       "      <td>Afghanistan</td>\n",
       "      <td>0.45</td>\n",
       "      <td>Consumer_Packaging</td>\n",
       "      <td>0.5</td>\n",
       "      <td>11.4</td>\n",
       "      <td>Low</td>\n",
       "    </tr>\n",
       "    <tr>\n",
       "      <th>92</th>\n",
       "      <td>Ethiopia</td>\n",
       "      <td>0.31</td>\n",
       "      <td>Consumer_Packaging</td>\n",
       "      <td>0.7</td>\n",
       "      <td>2.6</td>\n",
       "      <td>Low</td>\n",
       "    </tr>\n",
       "    <tr>\n",
       "      <th>95</th>\n",
       "      <td>Uganda</td>\n",
       "      <td>0.25</td>\n",
       "      <td>Consumer_Packaging</td>\n",
       "      <td>2.3</td>\n",
       "      <td>5.3</td>\n",
       "      <td>Low</td>\n",
       "    </tr>\n",
       "    <tr>\n",
       "      <th>96</th>\n",
       "      <td>Rwanda</td>\n",
       "      <td>0.23</td>\n",
       "      <td>Consumer_Packaging</td>\n",
       "      <td>11.2</td>\n",
       "      <td>17.4</td>\n",
       "      <td>Low</td>\n",
       "    </tr>\n",
       "    <tr>\n",
       "      <th>97</th>\n",
       "      <td>Burundi</td>\n",
       "      <td>0.21</td>\n",
       "      <td>Consumer_Packaging</td>\n",
       "      <td>0.8</td>\n",
       "      <td>17.3</td>\n",
       "      <td>Low</td>\n",
       "    </tr>\n",
       "    <tr>\n",
       "      <th>98</th>\n",
       "      <td>Malawi</td>\n",
       "      <td>0.19</td>\n",
       "      <td>Consumer_Packaging</td>\n",
       "      <td>0.5</td>\n",
       "      <td>9.7</td>\n",
       "      <td>Low</td>\n",
       "    </tr>\n",
       "    <tr>\n",
       "      <th>100</th>\n",
       "      <td>Zimbabwe</td>\n",
       "      <td>0.15</td>\n",
       "      <td>Consumer_Packaging</td>\n",
       "      <td>2.1</td>\n",
       "      <td>9.9</td>\n",
       "      <td>Low</td>\n",
       "    </tr>\n",
       "    <tr>\n",
       "      <th>101</th>\n",
       "      <td>Zambia</td>\n",
       "      <td>0.13</td>\n",
       "      <td>Consumer_Packaging</td>\n",
       "      <td>1.8</td>\n",
       "      <td>6.9</td>\n",
       "      <td>Low</td>\n",
       "    </tr>\n",
       "    <tr>\n",
       "      <th>104</th>\n",
       "      <td>Botswana</td>\n",
       "      <td>0.07</td>\n",
       "      <td>Consumer_Packaging</td>\n",
       "      <td>8.9</td>\n",
       "      <td>29.3</td>\n",
       "      <td>Low</td>\n",
       "    </tr>\n",
       "    <tr>\n",
       "      <th>105</th>\n",
       "      <td>Lesotho</td>\n",
       "      <td>0.05</td>\n",
       "      <td>Consumer_Packaging</td>\n",
       "      <td>0.7</td>\n",
       "      <td>23.2</td>\n",
       "      <td>Low</td>\n",
       "    </tr>\n",
       "    <tr>\n",
       "      <th>106</th>\n",
       "      <td>Eswatini</td>\n",
       "      <td>0.03</td>\n",
       "      <td>Consumer_Packaging</td>\n",
       "      <td>1.2</td>\n",
       "      <td>25.6</td>\n",
       "      <td>Low</td>\n",
       "    </tr>\n",
       "    <tr>\n",
       "      <th>121</th>\n",
       "      <td>Mali</td>\n",
       "      <td>0.12</td>\n",
       "      <td>Consumer_Packaging</td>\n",
       "      <td>0.3</td>\n",
       "      <td>5.8</td>\n",
       "      <td>Low</td>\n",
       "    </tr>\n",
       "    <tr>\n",
       "      <th>122</th>\n",
       "      <td>Burkina Faso</td>\n",
       "      <td>0.14</td>\n",
       "      <td>Consumer_Packaging</td>\n",
       "      <td>0.4</td>\n",
       "      <td>6.5</td>\n",
       "      <td>Low</td>\n",
       "    </tr>\n",
       "    <tr>\n",
       "      <th>123</th>\n",
       "      <td>Niger</td>\n",
       "      <td>0.11</td>\n",
       "      <td>Consumer_Packaging</td>\n",
       "      <td>0.2</td>\n",
       "      <td>4.4</td>\n",
       "      <td>Low</td>\n",
       "    </tr>\n",
       "    <tr>\n",
       "      <th>124</th>\n",
       "      <td>Chad</td>\n",
       "      <td>0.09</td>\n",
       "      <td>Consumer_Packaging</td>\n",
       "      <td>0.1</td>\n",
       "      <td>5.4</td>\n",
       "      <td>Low</td>\n",
       "    </tr>\n",
       "    <tr>\n",
       "      <th>125</th>\n",
       "      <td>Central African Republic</td>\n",
       "      <td>0.04</td>\n",
       "      <td>Consumer_Packaging</td>\n",
       "      <td>0.2</td>\n",
       "      <td>8.1</td>\n",
       "      <td>Low</td>\n",
       "    </tr>\n",
       "    <tr>\n",
       "      <th>136</th>\n",
       "      <td>Moldova</td>\n",
       "      <td>0.28</td>\n",
       "      <td>Consumer_Packaging</td>\n",
       "      <td>12.3</td>\n",
       "      <td>69.7</td>\n",
       "      <td>Low</td>\n",
       "    </tr>\n",
       "    <tr>\n",
       "      <th>138</th>\n",
       "      <td>North Macedonia</td>\n",
       "      <td>0.29</td>\n",
       "      <td>Consumer_Packaging</td>\n",
       "      <td>17.8</td>\n",
       "      <td>139.2</td>\n",
       "      <td>Low</td>\n",
       "    </tr>\n",
       "    <tr>\n",
       "      <th>139</th>\n",
       "      <td>Bosnia and Herzegovina</td>\n",
       "      <td>0.34</td>\n",
       "      <td>Consumer_Packaging</td>\n",
       "      <td>13.2</td>\n",
       "      <td>104.5</td>\n",
       "      <td>Low</td>\n",
       "    </tr>\n",
       "    <tr>\n",
       "      <th>140</th>\n",
       "      <td>Kosovo</td>\n",
       "      <td>0.21</td>\n",
       "      <td>Consumer_Packaging</td>\n",
       "      <td>8.9</td>\n",
       "      <td>115.7</td>\n",
       "      <td>Low</td>\n",
       "    </tr>\n",
       "    <tr>\n",
       "      <th>142</th>\n",
       "      <td>Armenia</td>\n",
       "      <td>0.28</td>\n",
       "      <td>Consumer_Packaging</td>\n",
       "      <td>9.8</td>\n",
       "      <td>94.2</td>\n",
       "      <td>Low</td>\n",
       "    </tr>\n",
       "    <tr>\n",
       "      <th>143</th>\n",
       "      <td>Kyrgyzstan</td>\n",
       "      <td>0.25</td>\n",
       "      <td>Consumer_Packaging</td>\n",
       "      <td>4.5</td>\n",
       "      <td>37.8</td>\n",
       "      <td>Low</td>\n",
       "    </tr>\n",
       "    <tr>\n",
       "      <th>144</th>\n",
       "      <td>Tajikistan</td>\n",
       "      <td>0.22</td>\n",
       "      <td>Consumer_Packaging</td>\n",
       "      <td>3.2</td>\n",
       "      <td>22.7</td>\n",
       "      <td>Low</td>\n",
       "    </tr>\n",
       "    <tr>\n",
       "      <th>145</th>\n",
       "      <td>Turkmenistan</td>\n",
       "      <td>0.35</td>\n",
       "      <td>Consumer_Packaging</td>\n",
       "      <td>2.1</td>\n",
       "      <td>57.3</td>\n",
       "      <td>Low</td>\n",
       "    </tr>\n",
       "    <tr>\n",
       "      <th>146</th>\n",
       "      <td>Uzbekistan</td>\n",
       "      <td>0.42</td>\n",
       "      <td>Consumer_Packaging</td>\n",
       "      <td>3.4</td>\n",
       "      <td>12.3</td>\n",
       "      <td>Low</td>\n",
       "    </tr>\n",
       "    <tr>\n",
       "      <th>147</th>\n",
       "      <td>Nepal</td>\n",
       "      <td>0.38</td>\n",
       "      <td>Consumer_Packaging</td>\n",
       "      <td>5.6</td>\n",
       "      <td>12.8</td>\n",
       "      <td>Low</td>\n",
       "    </tr>\n",
       "    <tr>\n",
       "      <th>148</th>\n",
       "      <td>Bhutan</td>\n",
       "      <td>0.05</td>\n",
       "      <td>Consumer_Packaging</td>\n",
       "      <td>12.3</td>\n",
       "      <td>64.2</td>\n",
       "      <td>Low</td>\n",
       "    </tr>\n",
       "  </tbody>\n",
       "</table>\n",
       "</div>"
      ],
      "text/plain": [
       "                      Country  Total_Plastic_Waste_MT          Main_Sources  \\\n",
       "4                     Germany                    6.28  Automotive_Packaging   \n",
       "8              United Kingdom                    5.03    Packaging_Consumer   \n",
       "9                      France                    4.98    Packaging_Consumer   \n",
       "11                     Canada                    3.89    Packaging_Consumer   \n",
       "19                     Poland                    2.21  Packaging_Industrial   \n",
       "22                Netherlands                    1.78  Industrial_Packaging   \n",
       "31                    Belgium                    1.52  Industrial_Packaging   \n",
       "32                     Sweden                    1.51  Packaging_Industrial   \n",
       "33                    Austria                    1.48  Industrial_Packaging   \n",
       "36             Czech Republic                    1.43  Industrial_Packaging   \n",
       "39                    Hungary                    1.37  Industrial_Packaging   \n",
       "40                    Denmark                    1.35    Packaging_Consumer   \n",
       "41                    Finland                    1.33  Industrial_Packaging   \n",
       "42                     Norway                    1.31  Industrial_Packaging   \n",
       "43                    Ireland                    1.29    Consumer_Packaging   \n",
       "48                 Kazakhstan                    1.19   Industrial_Consumer   \n",
       "51                   Slovakia                    1.13  Industrial_Packaging   \n",
       "53                    Belarus                    1.09   Industrial_Consumer   \n",
       "61                  Lithuania                    0.93  Industrial_Packaging   \n",
       "62                   Slovenia                    0.91  Industrial_Packaging   \n",
       "69                    Bolivia                    0.77    Consumer_Packaging   \n",
       "70                   Paraguay                    0.75    Consumer_Packaging   \n",
       "71                     Latvia                    0.73  Industrial_Packaging   \n",
       "72                    Estonia                    0.71  Industrial_Packaging   \n",
       "77                 Luxembourg                    0.61  Industrial_Packaging   \n",
       "79                    Iceland                    0.57    Consumer_Packaging   \n",
       "84                   Mongolia                    0.47    Consumer_Packaging   \n",
       "85                Afghanistan                    0.45    Consumer_Packaging   \n",
       "92                   Ethiopia                    0.31    Consumer_Packaging   \n",
       "95                     Uganda                    0.25    Consumer_Packaging   \n",
       "96                     Rwanda                    0.23    Consumer_Packaging   \n",
       "97                    Burundi                    0.21    Consumer_Packaging   \n",
       "98                     Malawi                    0.19    Consumer_Packaging   \n",
       "100                  Zimbabwe                    0.15    Consumer_Packaging   \n",
       "101                    Zambia                    0.13    Consumer_Packaging   \n",
       "104                  Botswana                    0.07    Consumer_Packaging   \n",
       "105                   Lesotho                    0.05    Consumer_Packaging   \n",
       "106                  Eswatini                    0.03    Consumer_Packaging   \n",
       "121                      Mali                    0.12    Consumer_Packaging   \n",
       "122              Burkina Faso                    0.14    Consumer_Packaging   \n",
       "123                     Niger                    0.11    Consumer_Packaging   \n",
       "124                      Chad                    0.09    Consumer_Packaging   \n",
       "125  Central African Republic                    0.04    Consumer_Packaging   \n",
       "136                   Moldova                    0.28    Consumer_Packaging   \n",
       "138           North Macedonia                    0.29    Consumer_Packaging   \n",
       "139    Bosnia and Herzegovina                    0.34    Consumer_Packaging   \n",
       "140                    Kosovo                    0.21    Consumer_Packaging   \n",
       "142                   Armenia                    0.28    Consumer_Packaging   \n",
       "143                Kyrgyzstan                    0.25    Consumer_Packaging   \n",
       "144                Tajikistan                    0.22    Consumer_Packaging   \n",
       "145              Turkmenistan                    0.35    Consumer_Packaging   \n",
       "146                Uzbekistan                    0.42    Consumer_Packaging   \n",
       "147                     Nepal                    0.38    Consumer_Packaging   \n",
       "148                    Bhutan                    0.05    Consumer_Packaging   \n",
       "\n",
       "     Recycling_Rate  Per_Capita_Waste_KG Coastal_Waste_Risk  \n",
       "4              56.1                 75.6                Low  \n",
       "8              46.2                 74.3                Low  \n",
       "9              27.3                 73.1                Low  \n",
       "11              9.4                102.1                Low  \n",
       "19             34.5                 58.3                Low  \n",
       "22             55.9                102.8                Low  \n",
       "31             43.2                131.2                Low  \n",
       "32             50.6                146.3                Low  \n",
       "33             56.4                164.8                Low  \n",
       "36             41.7                133.9                Low  \n",
       "39             30.1                141.5                Low  \n",
       "40             42.3                232.1                Low  \n",
       "41             42.1                240.2                Low  \n",
       "42             44.5                243.1                Low  \n",
       "43             31.2                257.3                Low  \n",
       "48              4.5                 62.8                Low  \n",
       "51             38.9                207.1                Low  \n",
       "53              7.2                115.7                Low  \n",
       "61             45.3                334.8                Low  \n",
       "62             42.1                436.5                Low  \n",
       "69              2.8                 65.3                Low  \n",
       "70              4.1                104.2                Low  \n",
       "71             43.2                386.8                Low  \n",
       "72             31.8                534.6                Low  \n",
       "77             48.9                957.8                Low  \n",
       "79             55.6               1564.4                Low  \n",
       "84              0.9                141.6                Low  \n",
       "85              0.5                 11.4                Low  \n",
       "92              0.7                  2.6                Low  \n",
       "95              2.3                  5.3                Low  \n",
       "96             11.2                 17.4                Low  \n",
       "97              0.8                 17.3                Low  \n",
       "98              0.5                  9.7                Low  \n",
       "100             2.1                  9.9                Low  \n",
       "101             1.8                  6.9                Low  \n",
       "104             8.9                 29.3                Low  \n",
       "105             0.7                 23.2                Low  \n",
       "106             1.2                 25.6                Low  \n",
       "121             0.3                  5.8                Low  \n",
       "122             0.4                  6.5                Low  \n",
       "123             0.2                  4.4                Low  \n",
       "124             0.1                  5.4                Low  \n",
       "125             0.2                  8.1                Low  \n",
       "136            12.3                 69.7                Low  \n",
       "138            17.8                139.2                Low  \n",
       "139            13.2                104.5                Low  \n",
       "140             8.9                115.7                Low  \n",
       "142             9.8                 94.2                Low  \n",
       "143             4.5                 37.8                Low  \n",
       "144             3.2                 22.7                Low  \n",
       "145             2.1                 57.3                Low  \n",
       "146             3.4                 12.3                Low  \n",
       "147             5.6                 12.8                Low  \n",
       "148            12.3                 64.2                Low  "
      ]
     },
     "execution_count": 111,
     "metadata": {},
     "output_type": "execute_result"
    }
   ],
   "source": [
    "## Low\n",
    "\n",
    "low_coastal_risk = global_waste_df[global_waste_df['Coastal_Waste_Risk'] == 'Low']\n",
    "low_coastal_risk"
   ]
  },
  {
   "cell_type": "code",
   "execution_count": 172,
   "metadata": {},
   "outputs": [
    {
     "data": {
      "text/html": [
       "<div>\n",
       "<style scoped>\n",
       "    .dataframe tbody tr th:only-of-type {\n",
       "        vertical-align: middle;\n",
       "    }\n",
       "\n",
       "    .dataframe tbody tr th {\n",
       "        vertical-align: top;\n",
       "    }\n",
       "\n",
       "    .dataframe thead th {\n",
       "        text-align: right;\n",
       "    }\n",
       "</style>\n",
       "<table border=\"1\" class=\"dataframe\">\n",
       "  <thead>\n",
       "    <tr style=\"text-align: right;\">\n",
       "      <th></th>\n",
       "      <th>Country</th>\n",
       "      <th>Total_Plastic_Waste_MT</th>\n",
       "      <th>Main_Sources</th>\n",
       "      <th>Recycling_Rate</th>\n",
       "      <th>Per_Capita_Waste_KG</th>\n",
       "      <th>Coastal_Waste_Risk</th>\n",
       "    </tr>\n",
       "  </thead>\n",
       "  <tbody>\n",
       "    <tr>\n",
       "      <th>0</th>\n",
       "      <td>China</td>\n",
       "      <td>59.08</td>\n",
       "      <td>Packaging_Industrial</td>\n",
       "      <td>29.8</td>\n",
       "      <td>41.2</td>\n",
       "      <td>NaN</td>\n",
       "    </tr>\n",
       "    <tr>\n",
       "      <th>1</th>\n",
       "      <td>United States</td>\n",
       "      <td>42.02</td>\n",
       "      <td>Packaging_Consumer</td>\n",
       "      <td>32.1</td>\n",
       "      <td>127.5</td>\n",
       "      <td>NaN</td>\n",
       "    </tr>\n",
       "    <tr>\n",
       "      <th>2</th>\n",
       "      <td>India</td>\n",
       "      <td>26.33</td>\n",
       "      <td>Consumer_Goods</td>\n",
       "      <td>11.5</td>\n",
       "      <td>19.3</td>\n",
       "      <td>NaN</td>\n",
       "    </tr>\n",
       "    <tr>\n",
       "      <th>3</th>\n",
       "      <td>Japan</td>\n",
       "      <td>7.99</td>\n",
       "      <td>Packaging_Electronics</td>\n",
       "      <td>84.8</td>\n",
       "      <td>63.2</td>\n",
       "      <td>NaN</td>\n",
       "    </tr>\n",
       "    <tr>\n",
       "      <th>4</th>\n",
       "      <td>Germany</td>\n",
       "      <td>6.28</td>\n",
       "      <td>Automotive_Packaging</td>\n",
       "      <td>56.1</td>\n",
       "      <td>75.6</td>\n",
       "      <td>NaN</td>\n",
       "    </tr>\n",
       "    <tr>\n",
       "      <th>5</th>\n",
       "      <td>Brazil</td>\n",
       "      <td>5.96</td>\n",
       "      <td>Consumer_Packaging</td>\n",
       "      <td>1.2</td>\n",
       "      <td>28.1</td>\n",
       "      <td>NaN</td>\n",
       "    </tr>\n",
       "    <tr>\n",
       "      <th>6</th>\n",
       "      <td>Indonesia</td>\n",
       "      <td>5.85</td>\n",
       "      <td>Food_Packaging</td>\n",
       "      <td>11.8</td>\n",
       "      <td>21.3</td>\n",
       "      <td>NaN</td>\n",
       "    </tr>\n",
       "    <tr>\n",
       "      <th>7</th>\n",
       "      <td>Russia</td>\n",
       "      <td>5.84</td>\n",
       "      <td>Industrial_Consumer</td>\n",
       "      <td>5.6</td>\n",
       "      <td>40.2</td>\n",
       "      <td>NaN</td>\n",
       "    </tr>\n",
       "    <tr>\n",
       "      <th>8</th>\n",
       "      <td>United Kingdom</td>\n",
       "      <td>5.03</td>\n",
       "      <td>Packaging_Consumer</td>\n",
       "      <td>46.2</td>\n",
       "      <td>74.3</td>\n",
       "      <td>NaN</td>\n",
       "    </tr>\n",
       "    <tr>\n",
       "      <th>9</th>\n",
       "      <td>France</td>\n",
       "      <td>4.98</td>\n",
       "      <td>Packaging_Consumer</td>\n",
       "      <td>27.3</td>\n",
       "      <td>73.1</td>\n",
       "      <td>NaN</td>\n",
       "    </tr>\n",
       "  </tbody>\n",
       "</table>\n",
       "</div>"
      ],
      "text/plain": [
       "          Country  Total_Plastic_Waste_MT           Main_Sources  \\\n",
       "0           China                   59.08   Packaging_Industrial   \n",
       "1   United States                   42.02     Packaging_Consumer   \n",
       "2           India                   26.33         Consumer_Goods   \n",
       "3           Japan                    7.99  Packaging_Electronics   \n",
       "4         Germany                    6.28   Automotive_Packaging   \n",
       "5          Brazil                    5.96     Consumer_Packaging   \n",
       "6       Indonesia                    5.85         Food_Packaging   \n",
       "7          Russia                    5.84    Industrial_Consumer   \n",
       "8  United Kingdom                    5.03     Packaging_Consumer   \n",
       "9          France                    4.98     Packaging_Consumer   \n",
       "\n",
       "   Recycling_Rate  Per_Capita_Waste_KG Coastal_Waste_Risk  \n",
       "0            29.8                 41.2                NaN  \n",
       "1            32.1                127.5                NaN  \n",
       "2            11.5                 19.3                NaN  \n",
       "3            84.8                 63.2                NaN  \n",
       "4            56.1                 75.6                NaN  \n",
       "5             1.2                 28.1                NaN  \n",
       "6            11.8                 21.3                NaN  \n",
       "7             5.6                 40.2                NaN  \n",
       "8            46.2                 74.3                NaN  \n",
       "9            27.3                 73.1                NaN  "
      ]
     },
     "execution_count": 172,
     "metadata": {},
     "output_type": "execute_result"
    }
   ],
   "source": [
    "global_waste_df.head(10)"
   ]
  },
  {
   "cell_type": "code",
   "execution_count": 181,
   "metadata": {},
   "outputs": [
    {
     "data": {
      "image/png": "[encoded data removed]",
      "text/plain": [
       "<Figure size 1000x600 with 1 Axes>"
      ]
     },
     "metadata": {},
     "output_type": "display_data"
    }
   ],
   "source": [
    "## Correlation of recycling rate and total plastic waste\n",
    "\n",
    "plt.figure(figsize=(10, 6))\n",
    "sns.regplot(data=global_waste_df, x='Total_Plastic_Waste_MT', y='Recycling_Rate', scatter_kws={'color': 'blue'}, line_kws={'color': 'red'})\n",
    "\n",
    "plt.title('Relationship between Total Plastic Waste and Recycling Rate')\n",
    "plt.xlabel('Total Plastic Waste (MT)')\n",
    "plt.ylabel('Recycling Rate (%)')\n",
    "plt.show()"
   ]
  },
  {
   "cell_type": "code",
   "execution_count": 182,
   "metadata": {},
   "outputs": [
    {
     "data": {
      "image/png": "[encoded data removed]",
      "text/plain": [
       "<Figure size 1000x600 with 1 Axes>"
      ]
     },
     "metadata": {},
     "output_type": "display_data"
    }
   ],
   "source": [
    "## Correlation recycling rate and per capita waste \n",
    "\n",
    "plt.figure(figsize=(10, 6))\n",
    "sns.regplot(data=global_waste_df, x='Per_Capita_Waste_KG', y='Recycling_Rate', scatter_kws={'color': 'green'}, line_kws={'color': 'blue'})\n",
    "\n",
    "plt.title('Relationship between Total Plastic Waste and Recycling Rate')\n",
    "plt.xlabel('Per Capita Waste (KG)')\n",
    "plt.ylabel('Recycling Rate (%)')\n",
    "plt.show()"
   ]
  }
 ],
 "metadata": {
  "kernelspec": {
   "display_name": "DataAnalytics",
   "language": "python",
   "name": "python3"
  },
  "language_info": {
   "codemirror_mode": {
    "name": "ipython",
    "version": 3
   },
   "file_extension": ".py",
   "mimetype": "text/x-python",
   "name": "python",
   "nbconvert_exporter": "python",
   "pygments_lexer": "ipython3",
   "version": "3.12.4"
  }
 },
 "nbformat": 4,
 "nbformat_minor": 2
}
