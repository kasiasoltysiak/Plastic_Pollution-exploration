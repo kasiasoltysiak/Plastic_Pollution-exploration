{
 "cells": [
  {
   "cell_type": "markdown",
   "metadata": {},
   "source": [
    "# Plastic Pollution Country Data 2023\n",
    "\n",
    "This dataset provides a detailed analysis of <b>global plastic waste production and management across 165 countries for the year 2023.</b> The data encompasses multiple aspects of plastic waste handling, from production volumes to recycling efficiency and environmental risk assessment."
   ]
  },
  {
   "cell_type": "code",
   "execution_count": 70,
   "metadata": {},
   "outputs": [],
   "source": [
    "import pandas as pd\n",
    "pd.options.mode.chained_assignment = None\n",
    "\n",
    "import numpy as np\n",
    "import seaborn as sns\n",
    "import matplotlib.pyplot as plt\n",
    "import plotly.graph_objects as go\n",
    "import plotly.express as px\n",
    "\n",
    "import warnings\n",
    "warnings.filterwarnings('ignore')"
   ]
  },
  {
   "cell_type": "code",
   "execution_count": 71,
   "metadata": {},
   "outputs": [],
   "source": [
    "#Read CSV\n",
    "\n",
    "global_waste_df = pd.read_csv(\"Data sets/plastic_waste_country_data_2023.csv\")"
   ]
  },
  {
   "cell_type": "code",
   "execution_count": 72,
   "metadata": {},
   "outputs": [
    {
     "data": {
      "text/plain": [
       "Index(['Country', 'Total_Plastic_Waste_MT', 'Main_Sources', 'Recycling_Rate',\n",
       "       'Per_Capita_Waste_KG', 'Coastal_Waste_Risk'],\n",
       "      dtype='object')"
      ]
     },
     "execution_count": 72,
     "metadata": {},
     "output_type": "execute_result"
    }
   ],
   "source": [
    "global_waste_df.columns"
   ]
  },
  {
   "cell_type": "code",
   "execution_count": 73,
   "metadata": {},
   "outputs": [
    {
     "data": {
      "text/plain": [
       "Country                   0\n",
       "Total_Plastic_Waste_MT    0\n",
       "Main_Sources              0\n",
       "Recycling_Rate            0\n",
       "Per_Capita_Waste_KG       0\n",
       "Coastal_Waste_Risk        0\n",
       "dtype: int64"
      ]
     },
     "execution_count": 73,
     "metadata": {},
     "output_type": "execute_result"
    }
   ],
   "source": [
    "global_waste_df.isnull().sum()"
   ]
  },
  {
   "cell_type": "code",
   "execution_count": 74,
   "metadata": {},
   "outputs": [
    {
     "data": {
      "text/html": [
       "<div>\n",
       "<style scoped>\n",
       "    .dataframe tbody tr th:only-of-type {\n",
       "        vertical-align: middle;\n",
       "    }\n",
       "\n",
       "    .dataframe tbody tr th {\n",
       "        vertical-align: top;\n",
       "    }\n",
       "\n",
       "    .dataframe thead th {\n",
       "        text-align: right;\n",
       "    }\n",
       "</style>\n",
       "<table border=\"1\" class=\"dataframe\">\n",
       "  <thead>\n",
       "    <tr style=\"text-align: right;\">\n",
       "      <th></th>\n",
       "      <th>Country</th>\n",
       "      <th>Total_Plastic_Waste_MT</th>\n",
       "      <th>Main_Sources</th>\n",
       "      <th>Recycling_Rate</th>\n",
       "      <th>Per_Capita_Waste_KG</th>\n",
       "      <th>Coastal_Waste_Risk</th>\n",
       "    </tr>\n",
       "  </thead>\n",
       "  <tbody>\n",
       "    <tr>\n",
       "      <th>0</th>\n",
       "      <td>China</td>\n",
       "      <td>59.08</td>\n",
       "      <td>Packaging_Industrial</td>\n",
       "      <td>29.8</td>\n",
       "      <td>41.2</td>\n",
       "      <td>High</td>\n",
       "    </tr>\n",
       "    <tr>\n",
       "      <th>1</th>\n",
       "      <td>United States</td>\n",
       "      <td>42.02</td>\n",
       "      <td>Packaging_Consumer</td>\n",
       "      <td>32.1</td>\n",
       "      <td>127.5</td>\n",
       "      <td>Medium</td>\n",
       "    </tr>\n",
       "    <tr>\n",
       "      <th>2</th>\n",
       "      <td>India</td>\n",
       "      <td>26.33</td>\n",
       "      <td>Consumer_Goods</td>\n",
       "      <td>11.5</td>\n",
       "      <td>19.3</td>\n",
       "      <td>High</td>\n",
       "    </tr>\n",
       "    <tr>\n",
       "      <th>3</th>\n",
       "      <td>Japan</td>\n",
       "      <td>7.99</td>\n",
       "      <td>Packaging_Electronics</td>\n",
       "      <td>84.8</td>\n",
       "      <td>63.2</td>\n",
       "      <td>Medium</td>\n",
       "    </tr>\n",
       "    <tr>\n",
       "      <th>4</th>\n",
       "      <td>Germany</td>\n",
       "      <td>6.28</td>\n",
       "      <td>Automotive_Packaging</td>\n",
       "      <td>56.1</td>\n",
       "      <td>75.6</td>\n",
       "      <td>Low</td>\n",
       "    </tr>\n",
       "  </tbody>\n",
       "</table>\n",
       "</div>"
      ],
      "text/plain": [
       "         Country  Total_Plastic_Waste_MT           Main_Sources  \\\n",
       "0          China                   59.08   Packaging_Industrial   \n",
       "1  United States                   42.02     Packaging_Consumer   \n",
       "2          India                   26.33         Consumer_Goods   \n",
       "3          Japan                    7.99  Packaging_Electronics   \n",
       "4        Germany                    6.28   Automotive_Packaging   \n",
       "\n",
       "   Recycling_Rate  Per_Capita_Waste_KG Coastal_Waste_Risk  \n",
       "0            29.8                 41.2               High  \n",
       "1            32.1                127.5             Medium  \n",
       "2            11.5                 19.3               High  \n",
       "3            84.8                 63.2             Medium  \n",
       "4            56.1                 75.6                Low  "
      ]
     },
     "execution_count": 74,
     "metadata": {},
     "output_type": "execute_result"
    }
   ],
   "source": [
    "global_waste_df.head()"
   ]
  },
  {
   "cell_type": "markdown",
   "metadata": {},
   "source": [
    "<h1> Top plastic producing countries (in MT) </H1>"
   ]
  },
  {
   "cell_type": "code",
   "execution_count": 76,
   "metadata": {},
   "outputs": [
    {
     "ename": "TypeError",
     "evalue": "argument of type 'NoneType' is not iterable",
     "output_type": "error",
     "traceback": [
      "\u001b[0;31m---------------------------------------------------------------------------\u001b[0m",
      "\u001b[0;31mTypeError\u001b[0m                                 Traceback (most recent call last)",
      "Cell \u001b[0;32mIn[76], line 11\u001b[0m\n\u001b[1;32m      1\u001b[0m \u001b[38;5;66;03m## Choropleth -- mapping countries by Total Plastic Waste MT \u001b[39;00m\n\u001b[1;32m      3\u001b[0m fig \u001b[38;5;241m=\u001b[39m px\u001b[38;5;241m.\u001b[39mchoropleth(global_waste_df,\n\u001b[1;32m      4\u001b[0m                     locations\u001b[38;5;241m=\u001b[39m\u001b[38;5;124m\"\u001b[39m\u001b[38;5;124mCountry\u001b[39m\u001b[38;5;124m\"\u001b[39m,  \u001b[38;5;66;03m# Column with country names\u001b[39;00m\n\u001b[1;32m      5\u001b[0m                     locationmode\u001b[38;5;241m=\u001b[39m\u001b[38;5;124m\"\u001b[39m\u001b[38;5;124mcountry names\u001b[39m\u001b[38;5;124m\"\u001b[39m,  \u001b[38;5;66;03m# Ensures Plotly recognizes the country names\u001b[39;00m\n\u001b[0;32m   (...)\u001b[0m\n\u001b[1;32m      8\u001b[0m                     color_continuous_scale\u001b[38;5;241m=\u001b[39m\u001b[38;5;124m\"\u001b[39m\u001b[38;5;124mReds\u001b[39m\u001b[38;5;124m\"\u001b[39m,  \u001b[38;5;66;03m# Color scale (you can try other scales like 'Plasma' or 'Cividis')\u001b[39;00m\n\u001b[1;32m      9\u001b[0m                     title\u001b[38;5;241m=\u001b[39m\u001b[38;5;124m\"\u001b[39m\u001b[38;5;124mGlobal Plastic Waste 2023\u001b[39m\u001b[38;5;124m\"\u001b[39m)\n\u001b[0;32m---> 11\u001b[0m fig\u001b[38;5;241m.\u001b[39mshow()\n",
      "File \u001b[0;32m/opt/anaconda3/envs/DataAnalytics/lib/python3.12/site-packages/plotly/basedatatypes.py:3398\u001b[0m, in \u001b[0;36mBaseFigure.show\u001b[0;34m(self, *args, **kwargs)\u001b[0m\n\u001b[1;32m   3365\u001b[0m \u001b[38;5;250m\u001b[39m\u001b[38;5;124;03m\"\"\"\u001b[39;00m\n\u001b[1;32m   3366\u001b[0m \u001b[38;5;124;03mShow a figure using either the default renderer(s) or the renderer(s)\u001b[39;00m\n\u001b[1;32m   3367\u001b[0m \u001b[38;5;124;03mspecified by the renderer argument\u001b[39;00m\n\u001b[0;32m   (...)\u001b[0m\n\u001b[1;32m   3394\u001b[0m \u001b[38;5;124;03mNone\u001b[39;00m\n\u001b[1;32m   3395\u001b[0m \u001b[38;5;124;03m\"\"\"\u001b[39;00m\n\u001b[1;32m   3396\u001b[0m \u001b[38;5;28;01mimport\u001b[39;00m \u001b[38;5;21;01mplotly\u001b[39;00m\u001b[38;5;21;01m.\u001b[39;00m\u001b[38;5;21;01mio\u001b[39;00m \u001b[38;5;28;01mas\u001b[39;00m \u001b[38;5;21;01mpio\u001b[39;00m\n\u001b[0;32m-> 3398\u001b[0m \u001b[38;5;28;01mreturn\u001b[39;00m pio\u001b[38;5;241m.\u001b[39mshow(\u001b[38;5;28mself\u001b[39m, \u001b[38;5;241m*\u001b[39margs, \u001b[38;5;241m*\u001b[39m\u001b[38;5;241m*\u001b[39mkwargs)\n",
      "File \u001b[0;32m/opt/anaconda3/envs/DataAnalytics/lib/python3.12/site-packages/_plotly_utils/importers.py:36\u001b[0m, in \u001b[0;36mrelative_import.<locals>.__getattr__\u001b[0;34m(import_name)\u001b[0m\n\u001b[1;32m     34\u001b[0m     rel_module \u001b[38;5;241m=\u001b[39m \u001b[38;5;124m\"\u001b[39m\u001b[38;5;124m.\u001b[39m\u001b[38;5;124m\"\u001b[39m\u001b[38;5;241m.\u001b[39mjoin(rel_path_parts[:\u001b[38;5;241m-\u001b[39m\u001b[38;5;241m1\u001b[39m])\n\u001b[1;32m     35\u001b[0m     class_name \u001b[38;5;241m=\u001b[39m import_name\n\u001b[0;32m---> 36\u001b[0m     class_module \u001b[38;5;241m=\u001b[39m importlib\u001b[38;5;241m.\u001b[39mimport_module(rel_module, parent_name)\n\u001b[1;32m     37\u001b[0m     \u001b[38;5;28;01mreturn\u001b[39;00m \u001b[38;5;28mgetattr\u001b[39m(class_module, class_name)\n\u001b[1;32m     39\u001b[0m \u001b[38;5;28;01mraise\u001b[39;00m \u001b[38;5;167;01mAttributeError\u001b[39;00m(\n\u001b[1;32m     40\u001b[0m     \u001b[38;5;124m\"\u001b[39m\u001b[38;5;124mmodule \u001b[39m\u001b[38;5;132;01m{__name__!r}\u001b[39;00m\u001b[38;5;124m has no attribute \u001b[39m\u001b[38;5;132;01m{name!r}\u001b[39;00m\u001b[38;5;124m\"\u001b[39m\u001b[38;5;241m.\u001b[39mformat(\n\u001b[1;32m     41\u001b[0m         name\u001b[38;5;241m=\u001b[39mimport_name, \u001b[38;5;18m__name__\u001b[39m\u001b[38;5;241m=\u001b[39mparent_name\n\u001b[1;32m     42\u001b[0m     )\n\u001b[1;32m     43\u001b[0m )\n",
      "File \u001b[0;32m/opt/anaconda3/envs/DataAnalytics/lib/python3.12/importlib/__init__.py:90\u001b[0m, in \u001b[0;36mimport_module\u001b[0;34m(name, package)\u001b[0m\n\u001b[1;32m     88\u001b[0m             \u001b[38;5;28;01mbreak\u001b[39;00m\n\u001b[1;32m     89\u001b[0m         level \u001b[38;5;241m+\u001b[39m\u001b[38;5;241m=\u001b[39m \u001b[38;5;241m1\u001b[39m\n\u001b[0;32m---> 90\u001b[0m \u001b[38;5;28;01mreturn\u001b[39;00m _bootstrap\u001b[38;5;241m.\u001b[39m_gcd_import(name[level:], package, level)\n",
      "File \u001b[0;32m<frozen importlib._bootstrap>:1387\u001b[0m, in \u001b[0;36m_gcd_import\u001b[0;34m(name, package, level)\u001b[0m\n",
      "File \u001b[0;32m<frozen importlib._bootstrap>:1360\u001b[0m, in \u001b[0;36m_find_and_load\u001b[0;34m(name, import_)\u001b[0m\n",
      "File \u001b[0;32m<frozen importlib._bootstrap>:1331\u001b[0m, in \u001b[0;36m_find_and_load_unlocked\u001b[0;34m(name, import_)\u001b[0m\n",
      "File \u001b[0;32m<frozen importlib._bootstrap>:935\u001b[0m, in \u001b[0;36m_load_unlocked\u001b[0;34m(spec)\u001b[0m\n",
      "File \u001b[0;32m<frozen importlib._bootstrap_external>:995\u001b[0m, in \u001b[0;36mexec_module\u001b[0;34m(self, module)\u001b[0m\n",
      "File \u001b[0;32m<frozen importlib._bootstrap>:488\u001b[0m, in \u001b[0;36m_call_with_frames_removed\u001b[0;34m(f, *args, **kwds)\u001b[0m\n",
      "File \u001b[0;32m/opt/anaconda3/envs/DataAnalytics/lib/python3.12/site-packages/plotly/io/_renderers.py:12\u001b[0m\n\u001b[1;32m      8\u001b[0m \u001b[38;5;28;01mfrom\u001b[39;00m \u001b[38;5;21;01mdistutils\u001b[39;00m\u001b[38;5;21;01m.\u001b[39;00m\u001b[38;5;21;01mversion\u001b[39;00m \u001b[38;5;28;01mimport\u001b[39;00m LooseVersion\n\u001b[1;32m     10\u001b[0m \u001b[38;5;28;01mfrom\u001b[39;00m \u001b[38;5;21;01mplotly\u001b[39;00m \u001b[38;5;28;01mimport\u001b[39;00m optional_imports\n\u001b[0;32m---> 12\u001b[0m \u001b[38;5;28;01mfrom\u001b[39;00m \u001b[38;5;21;01mplotly\u001b[39;00m\u001b[38;5;21;01m.\u001b[39;00m\u001b[38;5;21;01mio\u001b[39;00m\u001b[38;5;21;01m.\u001b[39;00m\u001b[38;5;21;01m_base_renderers\u001b[39;00m \u001b[38;5;28;01mimport\u001b[39;00m (\n\u001b[1;32m     13\u001b[0m     MimetypeRenderer,\n\u001b[1;32m     14\u001b[0m     ExternalRenderer,\n\u001b[1;32m     15\u001b[0m     PlotlyRenderer,\n\u001b[1;32m     16\u001b[0m     NotebookRenderer,\n\u001b[1;32m     17\u001b[0m     KaggleRenderer,\n\u001b[1;32m     18\u001b[0m     AzureRenderer,\n\u001b[1;32m     19\u001b[0m     ColabRenderer,\n\u001b[1;32m     20\u001b[0m     JsonRenderer,\n\u001b[1;32m     21\u001b[0m     PngRenderer,\n\u001b[1;32m     22\u001b[0m     JpegRenderer,\n\u001b[1;32m     23\u001b[0m     SvgRenderer,\n\u001b[1;32m     24\u001b[0m     PdfRenderer,\n\u001b[1;32m     25\u001b[0m     BrowserRenderer,\n\u001b[1;32m     26\u001b[0m     IFrameRenderer,\n\u001b[1;32m     27\u001b[0m     SphinxGalleryHtmlRenderer,\n\u001b[1;32m     28\u001b[0m     SphinxGalleryOrcaRenderer,\n\u001b[1;32m     29\u001b[0m     CoCalcRenderer,\n\u001b[1;32m     30\u001b[0m     DatabricksRenderer,\n\u001b[1;32m     31\u001b[0m )\n\u001b[1;32m     32\u001b[0m \u001b[38;5;28;01mfrom\u001b[39;00m \u001b[38;5;21;01mplotly\u001b[39;00m\u001b[38;5;21;01m.\u001b[39;00m\u001b[38;5;21;01mio\u001b[39;00m\u001b[38;5;21;01m.\u001b[39;00m\u001b[38;5;21;01m_utils\u001b[39;00m \u001b[38;5;28;01mimport\u001b[39;00m validate_coerce_fig_to_dict\n\u001b[1;32m     34\u001b[0m ipython \u001b[38;5;241m=\u001b[39m optional_imports\u001b[38;5;241m.\u001b[39mget_module(\u001b[38;5;124m\"\u001b[39m\u001b[38;5;124mIPython\u001b[39m\u001b[38;5;124m\"\u001b[39m)\n",
      "File \u001b[0;32m/opt/anaconda3/envs/DataAnalytics/lib/python3.12/site-packages/plotly/io/_base_renderers.py:11\u001b[0m\n\u001b[1;32m      9\u001b[0m \u001b[38;5;28;01mimport\u001b[39;00m \u001b[38;5;21;01msix\u001b[39;00m\n\u001b[1;32m     10\u001b[0m \u001b[38;5;28;01mfrom\u001b[39;00m \u001b[38;5;21;01mplotly\u001b[39;00m \u001b[38;5;28;01mimport\u001b[39;00m utils, optional_imports\n\u001b[0;32m---> 11\u001b[0m \u001b[38;5;28;01mfrom\u001b[39;00m \u001b[38;5;21;01mplotly\u001b[39;00m\u001b[38;5;21;01m.\u001b[39;00m\u001b[38;5;21;01mio\u001b[39;00m \u001b[38;5;28;01mimport\u001b[39;00m to_json, to_image, write_image, write_html\n\u001b[1;32m     12\u001b[0m \u001b[38;5;28;01mfrom\u001b[39;00m \u001b[38;5;21;01mplotly\u001b[39;00m\u001b[38;5;21;01m.\u001b[39;00m\u001b[38;5;21;01mio\u001b[39;00m\u001b[38;5;21;01m.\u001b[39;00m\u001b[38;5;21;01m_orca\u001b[39;00m \u001b[38;5;28;01mimport\u001b[39;00m ensure_server\n\u001b[1;32m     13\u001b[0m \u001b[38;5;28;01mfrom\u001b[39;00m \u001b[38;5;21;01mplotly\u001b[39;00m\u001b[38;5;21;01m.\u001b[39;00m\u001b[38;5;21;01mio\u001b[39;00m\u001b[38;5;21;01m.\u001b[39;00m\u001b[38;5;21;01m_utils\u001b[39;00m \u001b[38;5;28;01mimport\u001b[39;00m plotly_cdn_url\n",
      "File \u001b[0;32m<frozen importlib._bootstrap>:1412\u001b[0m, in \u001b[0;36m_handle_fromlist\u001b[0;34m(module, fromlist, import_, recursive)\u001b[0m\n",
      "File \u001b[0;32m/opt/anaconda3/envs/DataAnalytics/lib/python3.12/site-packages/_plotly_utils/importers.py:36\u001b[0m, in \u001b[0;36mrelative_import.<locals>.__getattr__\u001b[0;34m(import_name)\u001b[0m\n\u001b[1;32m     34\u001b[0m     rel_module \u001b[38;5;241m=\u001b[39m \u001b[38;5;124m\"\u001b[39m\u001b[38;5;124m.\u001b[39m\u001b[38;5;124m\"\u001b[39m\u001b[38;5;241m.\u001b[39mjoin(rel_path_parts[:\u001b[38;5;241m-\u001b[39m\u001b[38;5;241m1\u001b[39m])\n\u001b[1;32m     35\u001b[0m     class_name \u001b[38;5;241m=\u001b[39m import_name\n\u001b[0;32m---> 36\u001b[0m     class_module \u001b[38;5;241m=\u001b[39m importlib\u001b[38;5;241m.\u001b[39mimport_module(rel_module, parent_name)\n\u001b[1;32m     37\u001b[0m     \u001b[38;5;28;01mreturn\u001b[39;00m \u001b[38;5;28mgetattr\u001b[39m(class_module, class_name)\n\u001b[1;32m     39\u001b[0m \u001b[38;5;28;01mraise\u001b[39;00m \u001b[38;5;167;01mAttributeError\u001b[39;00m(\n\u001b[1;32m     40\u001b[0m     \u001b[38;5;124m\"\u001b[39m\u001b[38;5;124mmodule \u001b[39m\u001b[38;5;132;01m{__name__!r}\u001b[39;00m\u001b[38;5;124m has no attribute \u001b[39m\u001b[38;5;132;01m{name!r}\u001b[39;00m\u001b[38;5;124m\"\u001b[39m\u001b[38;5;241m.\u001b[39mformat(\n\u001b[1;32m     41\u001b[0m         name\u001b[38;5;241m=\u001b[39mimport_name, \u001b[38;5;18m__name__\u001b[39m\u001b[38;5;241m=\u001b[39mparent_name\n\u001b[1;32m     42\u001b[0m     )\n\u001b[1;32m     43\u001b[0m )\n",
      "File \u001b[0;32m/opt/anaconda3/envs/DataAnalytics/lib/python3.12/importlib/__init__.py:90\u001b[0m, in \u001b[0;36mimport_module\u001b[0;34m(name, package)\u001b[0m\n\u001b[1;32m     88\u001b[0m             \u001b[38;5;28;01mbreak\u001b[39;00m\n\u001b[1;32m     89\u001b[0m         level \u001b[38;5;241m+\u001b[39m\u001b[38;5;241m=\u001b[39m \u001b[38;5;241m1\u001b[39m\n\u001b[0;32m---> 90\u001b[0m \u001b[38;5;28;01mreturn\u001b[39;00m _bootstrap\u001b[38;5;241m.\u001b[39m_gcd_import(name[level:], package, level)\n",
      "File \u001b[0;32m/opt/anaconda3/envs/DataAnalytics/lib/python3.12/site-packages/plotly/io/_kaleido.py:12\u001b[0m\n\u001b[1;32m      9\u001b[0m \u001b[38;5;28;01mtry\u001b[39;00m:\n\u001b[1;32m     10\u001b[0m     \u001b[38;5;28;01mfrom\u001b[39;00m \u001b[38;5;21;01mkaleido\u001b[39;00m\u001b[38;5;21;01m.\u001b[39;00m\u001b[38;5;21;01mscopes\u001b[39;00m\u001b[38;5;21;01m.\u001b[39;00m\u001b[38;5;21;01mplotly\u001b[39;00m \u001b[38;5;28;01mimport\u001b[39;00m PlotlyScope\n\u001b[0;32m---> 12\u001b[0m     scope \u001b[38;5;241m=\u001b[39m PlotlyScope()\n\u001b[1;32m     14\u001b[0m     \u001b[38;5;66;03m# Compute absolute path to the 'plotly/package_data/' directory\u001b[39;00m\n\u001b[1;32m     15\u001b[0m     root_dir \u001b[38;5;241m=\u001b[39m os\u001b[38;5;241m.\u001b[39mpath\u001b[38;5;241m.\u001b[39mdirname(os\u001b[38;5;241m.\u001b[39mpath\u001b[38;5;241m.\u001b[39mabspath(plotly\u001b[38;5;241m.\u001b[39m\u001b[38;5;18m__file__\u001b[39m))\n",
      "File \u001b[0;32m/opt/anaconda3/envs/DataAnalytics/lib/python3.12/site-packages/kaleido/scopes/plotly.py:64\u001b[0m, in \u001b[0;36mPlotlyScope.__init__\u001b[0;34m(self, plotlyjs, mathjax, topojson, mapbox_access_token, debug, tmp_path, **kwargs)\u001b[0m\n\u001b[1;32m     62\u001b[0m \u001b[38;5;28;01mif\u001b[39;00m tmp_path:\n\u001b[1;32m     63\u001b[0m     temp_args \u001b[38;5;241m=\u001b[39m \u001b[38;5;28mdict\u001b[39m(\u001b[38;5;28mdir\u001b[39m\u001b[38;5;241m=\u001b[39m\u001b[38;5;28mself\u001b[39m\u001b[38;5;241m.\u001b[39mtmp_path)\n\u001b[0;32m---> 64\u001b[0m \u001b[38;5;28;01melif\u001b[39;00m \u001b[38;5;124m\"\u001b[39m\u001b[38;5;124msnap\u001b[39m\u001b[38;5;124m\"\u001b[39m \u001b[38;5;129;01min\u001b[39;00m path:\n\u001b[1;32m     65\u001b[0m     temp_path \u001b[38;5;241m=\u001b[39m Path\u001b[38;5;241m.\u001b[39mhome()\n\u001b[1;32m     66\u001b[0m     \u001b[38;5;28;01mif\u001b[39;00m \u001b[38;5;28mself\u001b[39m\u001b[38;5;241m.\u001b[39mdebug:\n",
      "\u001b[0;31mTypeError\u001b[0m: argument of type 'NoneType' is not iterable"
     ]
    }
   ],
   "source": [
    "## Choropleth -- mapping countries by Total Plastic Waste MT \n",
    "\n",
    "fig = px.choropleth(global_waste_df,\n",
    "                    locations=\"Country\",  # Column with country names\n",
    "                    locationmode=\"country names\",  # Ensures Plotly recognizes the country names\n",
    "                    color=\"Total_Plastic_Waste_MT\",  # Column with the values to map\n",
    "                    hover_name=\"Country\",  # Column to show on hover\n",
    "                    color_continuous_scale=\"Reds\",  # Color scale (you can try other scales like 'Plasma' or 'Cividis')\n",
    "                    title=\"Global Plastic Waste 2023\")\n",
    "\n",
    "fig.show()"
   ]
  },
  {
   "cell_type": "code",
   "execution_count": 93,
   "metadata": {},
   "outputs": [
    {
     "data": {
      "text/html": [
       "<div>\n",
       "<style scoped>\n",
       "    .dataframe tbody tr th:only-of-type {\n",
       "        vertical-align: middle;\n",
       "    }\n",
       "\n",
       "    .dataframe tbody tr th {\n",
       "        vertical-align: top;\n",
       "    }\n",
       "\n",
       "    .dataframe thead th {\n",
       "        text-align: right;\n",
       "    }\n",
       "</style>\n",
       "<table border=\"1\" class=\"dataframe\">\n",
       "  <thead>\n",
       "    <tr style=\"text-align: right;\">\n",
       "      <th></th>\n",
       "      <th>Country</th>\n",
       "      <th>Total_Plastic_Waste_MT</th>\n",
       "      <th>Main_Sources</th>\n",
       "      <th>Recycling_Rate</th>\n",
       "      <th>Per_Capita_Waste_KG</th>\n",
       "      <th>Coastal_Waste_Risk</th>\n",
       "    </tr>\n",
       "  </thead>\n",
       "  <tbody>\n",
       "    <tr>\n",
       "      <th>0</th>\n",
       "      <td>China</td>\n",
       "      <td>59.08</td>\n",
       "      <td>Packaging_Industrial</td>\n",
       "      <td>29.8</td>\n",
       "      <td>41.2</td>\n",
       "      <td>High</td>\n",
       "    </tr>\n",
       "    <tr>\n",
       "      <th>1</th>\n",
       "      <td>United States</td>\n",
       "      <td>42.02</td>\n",
       "      <td>Packaging_Consumer</td>\n",
       "      <td>32.1</td>\n",
       "      <td>127.5</td>\n",
       "      <td>Medium</td>\n",
       "    </tr>\n",
       "    <tr>\n",
       "      <th>2</th>\n",
       "      <td>India</td>\n",
       "      <td>26.33</td>\n",
       "      <td>Consumer_Goods</td>\n",
       "      <td>11.5</td>\n",
       "      <td>19.3</td>\n",
       "      <td>High</td>\n",
       "    </tr>\n",
       "    <tr>\n",
       "      <th>3</th>\n",
       "      <td>Japan</td>\n",
       "      <td>7.99</td>\n",
       "      <td>Packaging_Electronics</td>\n",
       "      <td>84.8</td>\n",
       "      <td>63.2</td>\n",
       "      <td>Medium</td>\n",
       "    </tr>\n",
       "    <tr>\n",
       "      <th>4</th>\n",
       "      <td>Germany</td>\n",
       "      <td>6.28</td>\n",
       "      <td>Automotive_Packaging</td>\n",
       "      <td>56.1</td>\n",
       "      <td>75.6</td>\n",
       "      <td>Low</td>\n",
       "    </tr>\n",
       "  </tbody>\n",
       "</table>\n",
       "</div>"
      ],
      "text/plain": [
       "         Country  Total_Plastic_Waste_MT           Main_Sources  \\\n",
       "0          China                   59.08   Packaging_Industrial   \n",
       "1  United States                   42.02     Packaging_Consumer   \n",
       "2          India                   26.33         Consumer_Goods   \n",
       "3          Japan                    7.99  Packaging_Electronics   \n",
       "4        Germany                    6.28   Automotive_Packaging   \n",
       "\n",
       "   Recycling_Rate  Per_Capita_Waste_KG Coastal_Waste_Risk  \n",
       "0            29.8                 41.2               High  \n",
       "1            32.1                127.5             Medium  \n",
       "2            11.5                 19.3               High  \n",
       "3            84.8                 63.2             Medium  \n",
       "4            56.1                 75.6                Low  "
      ]
     },
     "execution_count": 93,
     "metadata": {},
     "output_type": "execute_result"
    }
   ],
   "source": [
    "## top 5 per total plastic waste MT\n",
    "\n",
    "top_5 = global_waste_df.nlargest(5, 'Total_Plastic_Waste_MT')\n",
    "top_5"
   ]
  },
  {
   "cell_type": "code",
   "execution_count": 94,
   "metadata": {},
   "outputs": [
    {
     "data": {
      "text/html": [
       "<div>\n",
       "<style scoped>\n",
       "    .dataframe tbody tr th:only-of-type {\n",
       "        vertical-align: middle;\n",
       "    }\n",
       "\n",
       "    .dataframe tbody tr th {\n",
       "        vertical-align: top;\n",
       "    }\n",
       "\n",
       "    .dataframe thead th {\n",
       "        text-align: right;\n",
       "    }\n",
       "</style>\n",
       "<table border=\"1\" class=\"dataframe\">\n",
       "  <thead>\n",
       "    <tr style=\"text-align: right;\">\n",
       "      <th></th>\n",
       "      <th>Country</th>\n",
       "      <th>Total_Plastic_Waste_MT</th>\n",
       "      <th>Main_Sources</th>\n",
       "      <th>Recycling_Rate</th>\n",
       "      <th>Per_Capita_Waste_KG</th>\n",
       "      <th>Coastal_Waste_Risk</th>\n",
       "    </tr>\n",
       "  </thead>\n",
       "  <tbody>\n",
       "    <tr>\n",
       "      <th>0</th>\n",
       "      <td>China</td>\n",
       "      <td>59.08</td>\n",
       "      <td>Packaging_Industrial</td>\n",
       "      <td>29.8</td>\n",
       "      <td>41.2</td>\n",
       "      <td>High</td>\n",
       "    </tr>\n",
       "    <tr>\n",
       "      <th>1</th>\n",
       "      <td>United States</td>\n",
       "      <td>42.02</td>\n",
       "      <td>Packaging_Consumer</td>\n",
       "      <td>32.1</td>\n",
       "      <td>127.5</td>\n",
       "      <td>Medium</td>\n",
       "    </tr>\n",
       "    <tr>\n",
       "      <th>2</th>\n",
       "      <td>India</td>\n",
       "      <td>26.33</td>\n",
       "      <td>Consumer_Goods</td>\n",
       "      <td>11.5</td>\n",
       "      <td>19.3</td>\n",
       "      <td>High</td>\n",
       "    </tr>\n",
       "    <tr>\n",
       "      <th>3</th>\n",
       "      <td>Japan</td>\n",
       "      <td>7.99</td>\n",
       "      <td>Packaging_Electronics</td>\n",
       "      <td>84.8</td>\n",
       "      <td>63.2</td>\n",
       "      <td>Medium</td>\n",
       "    </tr>\n",
       "    <tr>\n",
       "      <th>4</th>\n",
       "      <td>Germany</td>\n",
       "      <td>6.28</td>\n",
       "      <td>Automotive_Packaging</td>\n",
       "      <td>56.1</td>\n",
       "      <td>75.6</td>\n",
       "      <td>Low</td>\n",
       "    </tr>\n",
       "    <tr>\n",
       "      <th>5</th>\n",
       "      <td>Brazil</td>\n",
       "      <td>5.96</td>\n",
       "      <td>Consumer_Packaging</td>\n",
       "      <td>1.2</td>\n",
       "      <td>28.1</td>\n",
       "      <td>Medium</td>\n",
       "    </tr>\n",
       "    <tr>\n",
       "      <th>6</th>\n",
       "      <td>Indonesia</td>\n",
       "      <td>5.85</td>\n",
       "      <td>Food_Packaging</td>\n",
       "      <td>11.8</td>\n",
       "      <td>21.3</td>\n",
       "      <td>Very_High</td>\n",
       "    </tr>\n",
       "    <tr>\n",
       "      <th>7</th>\n",
       "      <td>Russia</td>\n",
       "      <td>5.84</td>\n",
       "      <td>Industrial_Consumer</td>\n",
       "      <td>5.6</td>\n",
       "      <td>40.2</td>\n",
       "      <td>Medium</td>\n",
       "    </tr>\n",
       "    <tr>\n",
       "      <th>8</th>\n",
       "      <td>United Kingdom</td>\n",
       "      <td>5.03</td>\n",
       "      <td>Packaging_Consumer</td>\n",
       "      <td>46.2</td>\n",
       "      <td>74.3</td>\n",
       "      <td>Low</td>\n",
       "    </tr>\n",
       "    <tr>\n",
       "      <th>9</th>\n",
       "      <td>France</td>\n",
       "      <td>4.98</td>\n",
       "      <td>Packaging_Consumer</td>\n",
       "      <td>27.3</td>\n",
       "      <td>73.1</td>\n",
       "      <td>Low</td>\n",
       "    </tr>\n",
       "  </tbody>\n",
       "</table>\n",
       "</div>"
      ],
      "text/plain": [
       "          Country  Total_Plastic_Waste_MT           Main_Sources  \\\n",
       "0           China                   59.08   Packaging_Industrial   \n",
       "1   United States                   42.02     Packaging_Consumer   \n",
       "2           India                   26.33         Consumer_Goods   \n",
       "3           Japan                    7.99  Packaging_Electronics   \n",
       "4         Germany                    6.28   Automotive_Packaging   \n",
       "5          Brazil                    5.96     Consumer_Packaging   \n",
       "6       Indonesia                    5.85         Food_Packaging   \n",
       "7          Russia                    5.84    Industrial_Consumer   \n",
       "8  United Kingdom                    5.03     Packaging_Consumer   \n",
       "9          France                    4.98     Packaging_Consumer   \n",
       "\n",
       "   Recycling_Rate  Per_Capita_Waste_KG Coastal_Waste_Risk  \n",
       "0            29.8                 41.2               High  \n",
       "1            32.1                127.5             Medium  \n",
       "2            11.5                 19.3               High  \n",
       "3            84.8                 63.2             Medium  \n",
       "4            56.1                 75.6                Low  \n",
       "5             1.2                 28.1             Medium  \n",
       "6            11.8                 21.3          Very_High  \n",
       "7             5.6                 40.2             Medium  \n",
       "8            46.2                 74.3                Low  \n",
       "9            27.3                 73.1                Low  "
      ]
     },
     "execution_count": 94,
     "metadata": {},
     "output_type": "execute_result"
    }
   ],
   "source": [
    "## top 10 per total plastic waste MT\n",
    "\n",
    "top_10 = global_waste_df.nlargest(10, 'Total_Plastic_Waste_MT')\n",
    "top_10"
   ]
  },
  {
   "cell_type": "code",
   "execution_count": 95,
   "metadata": {},
   "outputs": [
    {
     "data": {
      "text/plain": [
       "<function matplotlib.pyplot.show(close=None, block=None)>"
      ]
     },
     "execution_count": 95,
     "metadata": {},
     "output_type": "execute_result"
    },
    {
     "data": {
      "image/png": "[encoded data removed]",
      "text/plain": [
       "<Figure size 1200x600 with 1 Axes>"
      ]
     },
     "metadata": {},
     "output_type": "display_data"
    }
   ],
   "source": [
    "## Barplot for Top 5 countries \n",
    "\n",
    "plt.figure(figsize=(12,6))\n",
    "ax = sns.barplot(data=top_10, x='Country', y='Total_Plastic_Waste_MT', palette='Reds_r')\n",
    "for container in ax.containers:\n",
    "    ax.bar_label(container)\n",
    "\n",
    "plt.title('Top 10 Plastic Producers')\n",
    "plt.xlabel('Country')\n",
    "plt.ylabel('Total Plastic Waste in Million Metric Tons')\n",
    "#plt.xticks(rotation=90)\n",
    "plt.savefig(\"plastic_top_countries.svg\")\n",
    "plt.show"
   ]
  },
  {
   "cell_type": "code",
   "execution_count": 96,
   "metadata": {},
   "outputs": [
    {
     "data": {
      "text/html": [
       "<div>\n",
       "<style scoped>\n",
       "    .dataframe tbody tr th:only-of-type {\n",
       "        vertical-align: middle;\n",
       "    }\n",
       "\n",
       "    .dataframe tbody tr th {\n",
       "        vertical-align: top;\n",
       "    }\n",
       "\n",
       "    .dataframe thead th {\n",
       "        text-align: right;\n",
       "    }\n",
       "</style>\n",
       "<table border=\"1\" class=\"dataframe\">\n",
       "  <thead>\n",
       "    <tr style=\"text-align: right;\">\n",
       "      <th></th>\n",
       "      <th>Country</th>\n",
       "      <th>Total_Plastic_Waste_MT</th>\n",
       "      <th>Main_Sources</th>\n",
       "      <th>Recycling_Rate</th>\n",
       "      <th>Per_Capita_Waste_KG</th>\n",
       "      <th>Coastal_Waste_Risk</th>\n",
       "    </tr>\n",
       "  </thead>\n",
       "  <tbody>\n",
       "    <tr>\n",
       "      <th>110</th>\n",
       "      <td>Seychelles</td>\n",
       "      <td>0.01</td>\n",
       "      <td>Consumer_Packaging</td>\n",
       "      <td>18.9</td>\n",
       "      <td>101.2</td>\n",
       "      <td>High</td>\n",
       "    </tr>\n",
       "    <tr>\n",
       "      <th>112</th>\n",
       "      <td>Sao Tome and Principe</td>\n",
       "      <td>0.01</td>\n",
       "      <td>Consumer_Packaging</td>\n",
       "      <td>0.8</td>\n",
       "      <td>45.2</td>\n",
       "      <td>High</td>\n",
       "    </tr>\n",
       "    <tr>\n",
       "      <th>135</th>\n",
       "      <td>Western Sahara</td>\n",
       "      <td>0.01</td>\n",
       "      <td>Consumer_Packaging</td>\n",
       "      <td>0.2</td>\n",
       "      <td>18.5</td>\n",
       "      <td>High</td>\n",
       "    </tr>\n",
       "    <tr>\n",
       "      <th>157</th>\n",
       "      <td>Samoa</td>\n",
       "      <td>0.01</td>\n",
       "      <td>Consumer_Packaging</td>\n",
       "      <td>4.5</td>\n",
       "      <td>49.8</td>\n",
       "      <td>High</td>\n",
       "    </tr>\n",
       "    <tr>\n",
       "      <th>158</th>\n",
       "      <td>Tonga</td>\n",
       "      <td>0.01</td>\n",
       "      <td>Consumer_Packaging</td>\n",
       "      <td>3.2</td>\n",
       "      <td>92.7</td>\n",
       "      <td>High</td>\n",
       "    </tr>\n",
       "  </tbody>\n",
       "</table>\n",
       "</div>"
      ],
      "text/plain": [
       "                   Country  Total_Plastic_Waste_MT        Main_Sources  \\\n",
       "110             Seychelles                    0.01  Consumer_Packaging   \n",
       "112  Sao Tome and Principe                    0.01  Consumer_Packaging   \n",
       "135         Western Sahara                    0.01  Consumer_Packaging   \n",
       "157                  Samoa                    0.01  Consumer_Packaging   \n",
       "158                  Tonga                    0.01  Consumer_Packaging   \n",
       "\n",
       "     Recycling_Rate  Per_Capita_Waste_KG Coastal_Waste_Risk  \n",
       "110            18.9                101.2               High  \n",
       "112             0.8                 45.2               High  \n",
       "135             0.2                 18.5               High  \n",
       "157             4.5                 49.8               High  \n",
       "158             3.2                 92.7               High  "
      ]
     },
     "execution_count": 96,
     "metadata": {},
     "output_type": "execute_result"
    }
   ],
   "source": [
    "least_5 = global_waste_df.nsmallest(5, 'Total_Plastic_Waste_MT').sort_values(by='Total_Plastic_Waste_MT', ascending=True)\n",
    "least_5"
   ]
  },
  {
   "cell_type": "code",
   "execution_count": 97,
   "metadata": {},
   "outputs": [
    {
     "data": {
      "text/html": [
       "<div>\n",
       "<style scoped>\n",
       "    .dataframe tbody tr th:only-of-type {\n",
       "        vertical-align: middle;\n",
       "    }\n",
       "\n",
       "    .dataframe tbody tr th {\n",
       "        vertical-align: top;\n",
       "    }\n",
       "\n",
       "    .dataframe thead th {\n",
       "        text-align: right;\n",
       "    }\n",
       "</style>\n",
       "<table border=\"1\" class=\"dataframe\">\n",
       "  <thead>\n",
       "    <tr style=\"text-align: right;\">\n",
       "      <th></th>\n",
       "      <th>Country</th>\n",
       "      <th>Total_Plastic_Waste_MT</th>\n",
       "      <th>Main_Sources</th>\n",
       "      <th>Recycling_Rate</th>\n",
       "      <th>Per_Capita_Waste_KG</th>\n",
       "      <th>Coastal_Waste_Risk</th>\n",
       "    </tr>\n",
       "  </thead>\n",
       "  <tbody>\n",
       "    <tr>\n",
       "      <th>79</th>\n",
       "      <td>Iceland</td>\n",
       "      <td>0.57</td>\n",
       "      <td>Consumer_Packaging</td>\n",
       "      <td>55.6</td>\n",
       "      <td>1564.4</td>\n",
       "      <td>Low</td>\n",
       "    </tr>\n",
       "    <tr>\n",
       "      <th>78</th>\n",
       "      <td>Malta</td>\n",
       "      <td>0.59</td>\n",
       "      <td>Consumer_Packaging</td>\n",
       "      <td>11.2</td>\n",
       "      <td>1331.5</td>\n",
       "      <td>Medium</td>\n",
       "    </tr>\n",
       "    <tr>\n",
       "      <th>76</th>\n",
       "      <td>Montenegro</td>\n",
       "      <td>0.63</td>\n",
       "      <td>Consumer_Packaging</td>\n",
       "      <td>3.4</td>\n",
       "      <td>1004.8</td>\n",
       "      <td>Medium</td>\n",
       "    </tr>\n",
       "    <tr>\n",
       "      <th>77</th>\n",
       "      <td>Luxembourg</td>\n",
       "      <td>0.61</td>\n",
       "      <td>Industrial_Packaging</td>\n",
       "      <td>48.9</td>\n",
       "      <td>957.8</td>\n",
       "      <td>Low</td>\n",
       "    </tr>\n",
       "    <tr>\n",
       "      <th>164</th>\n",
       "      <td>Nauru</td>\n",
       "      <td>0.01</td>\n",
       "      <td>Consumer_Packaging</td>\n",
       "      <td>0.9</td>\n",
       "      <td>927.8</td>\n",
       "      <td>High</td>\n",
       "    </tr>\n",
       "  </tbody>\n",
       "</table>\n",
       "</div>"
      ],
      "text/plain": [
       "        Country  Total_Plastic_Waste_MT          Main_Sources  Recycling_Rate  \\\n",
       "79      Iceland                    0.57    Consumer_Packaging            55.6   \n",
       "78        Malta                    0.59    Consumer_Packaging            11.2   \n",
       "76   Montenegro                    0.63    Consumer_Packaging             3.4   \n",
       "77   Luxembourg                    0.61  Industrial_Packaging            48.9   \n",
       "164       Nauru                    0.01    Consumer_Packaging             0.9   \n",
       "\n",
       "     Per_Capita_Waste_KG Coastal_Waste_Risk  \n",
       "79                1564.4                Low  \n",
       "78                1331.5             Medium  \n",
       "76                1004.8             Medium  \n",
       "77                 957.8                Low  \n",
       "164                927.8               High  "
      ]
     },
     "execution_count": 97,
     "metadata": {},
     "output_type": "execute_result"
    }
   ],
   "source": [
    "## Top countries by per capita\n",
    "\n",
    "top_5_per_capita = global_waste_df.nlargest(5, 'Per_Capita_Waste_KG')\n",
    "top_5_per_capita"
   ]
  },
  {
   "cell_type": "markdown",
   "metadata": {},
   "source": [
    "<h1> Main Sources of Plastic Waste by Source </h1>"
   ]
  },
  {
   "cell_type": "code",
   "execution_count": 99,
   "metadata": {},
   "outputs": [
    {
     "data": {
      "text/plain": [
       "array(['Packaging_Industrial', 'Packaging_Consumer', 'Consumer_Goods',\n",
       "       'Packaging_Electronics', 'Automotive_Packaging',\n",
       "       'Consumer_Packaging', 'Food_Packaging', 'Industrial_Consumer',\n",
       "       'Electronics_Packaging', 'Industrial_Packaging'], dtype=object)"
      ]
     },
     "execution_count": 99,
     "metadata": {},
     "output_type": "execute_result"
    }
   ],
   "source": [
    "## Main sources of plastic waste by source\n",
    "\n",
    "global_waste_df['Main_Sources'].unique()"
   ]
  },
  {
   "cell_type": "code",
   "execution_count": 100,
   "metadata": {},
   "outputs": [
    {
     "data": {
      "text/html": [
       "<div>\n",
       "<style scoped>\n",
       "    .dataframe tbody tr th:only-of-type {\n",
       "        vertical-align: middle;\n",
       "    }\n",
       "\n",
       "    .dataframe tbody tr th {\n",
       "        vertical-align: top;\n",
       "    }\n",
       "\n",
       "    .dataframe thead th {\n",
       "        text-align: right;\n",
       "    }\n",
       "</style>\n",
       "<table border=\"1\" class=\"dataframe\">\n",
       "  <thead>\n",
       "    <tr style=\"text-align: right;\">\n",
       "      <th></th>\n",
       "      <th>Country</th>\n",
       "      <th>Total_Plastic_Waste_MT</th>\n",
       "      <th>Main_Sources</th>\n",
       "      <th>Recycling_Rate</th>\n",
       "      <th>Per_Capita_Waste_KG</th>\n",
       "      <th>Coastal_Waste_Risk</th>\n",
       "    </tr>\n",
       "  </thead>\n",
       "  <tbody>\n",
       "    <tr>\n",
       "      <th>0</th>\n",
       "      <td>China</td>\n",
       "      <td>59.08</td>\n",
       "      <td>Packaging_Industrial</td>\n",
       "      <td>29.8</td>\n",
       "      <td>41.2</td>\n",
       "      <td>High</td>\n",
       "    </tr>\n",
       "    <tr>\n",
       "      <th>1</th>\n",
       "      <td>United States</td>\n",
       "      <td>42.02</td>\n",
       "      <td>Packaging_Consumer</td>\n",
       "      <td>32.1</td>\n",
       "      <td>127.5</td>\n",
       "      <td>Medium</td>\n",
       "    </tr>\n",
       "    <tr>\n",
       "      <th>2</th>\n",
       "      <td>India</td>\n",
       "      <td>26.33</td>\n",
       "      <td>Consumer_Goods</td>\n",
       "      <td>11.5</td>\n",
       "      <td>19.3</td>\n",
       "      <td>High</td>\n",
       "    </tr>\n",
       "    <tr>\n",
       "      <th>3</th>\n",
       "      <td>Japan</td>\n",
       "      <td>7.99</td>\n",
       "      <td>Packaging_Electronics</td>\n",
       "      <td>84.8</td>\n",
       "      <td>63.2</td>\n",
       "      <td>Medium</td>\n",
       "    </tr>\n",
       "    <tr>\n",
       "      <th>4</th>\n",
       "      <td>Germany</td>\n",
       "      <td>6.28</td>\n",
       "      <td>Automotive_Packaging</td>\n",
       "      <td>56.1</td>\n",
       "      <td>75.6</td>\n",
       "      <td>Low</td>\n",
       "    </tr>\n",
       "  </tbody>\n",
       "</table>\n",
       "</div>"
      ],
      "text/plain": [
       "         Country  Total_Plastic_Waste_MT           Main_Sources  \\\n",
       "0          China                   59.08   Packaging_Industrial   \n",
       "1  United States                   42.02     Packaging_Consumer   \n",
       "2          India                   26.33         Consumer_Goods   \n",
       "3          Japan                    7.99  Packaging_Electronics   \n",
       "4        Germany                    6.28   Automotive_Packaging   \n",
       "\n",
       "   Recycling_Rate  Per_Capita_Waste_KG Coastal_Waste_Risk  \n",
       "0            29.8                 41.2               High  \n",
       "1            32.1                127.5             Medium  \n",
       "2            11.5                 19.3               High  \n",
       "3            84.8                 63.2             Medium  \n",
       "4            56.1                 75.6                Low  "
      ]
     },
     "execution_count": 100,
     "metadata": {},
     "output_type": "execute_result"
    }
   ],
   "source": [
    "global_waste_df.head(5)"
   ]
  },
  {
   "cell_type": "code",
   "execution_count": 101,
   "metadata": {},
   "outputs": [
    {
     "data": {
      "text/plain": [
       "Main_Sources\n",
       "Consumer_Packaging       131\n",
       "Industrial_Packaging      14\n",
       "Packaging_Consumer         5\n",
       "Packaging_Industrial       4\n",
       "Industrial_Consumer        4\n",
       "Food_Packaging             3\n",
       "Consumer_Goods             1\n",
       "Packaging_Electronics      1\n",
       "Automotive_Packaging       1\n",
       "Electronics_Packaging      1\n",
       "Name: count, dtype: int64"
      ]
     },
     "execution_count": 101,
     "metadata": {},
     "output_type": "execute_result"
    }
   ],
   "source": [
    "global_waste_df.Main_Sources.value_counts()"
   ]
  },
  {
   "cell_type": "code",
   "execution_count": 102,
   "metadata": {},
   "outputs": [
    {
     "data": {
      "image/png": "[encoded data removed]",
      "text/plain": [
       "<Figure size 1200x600 with 1 Axes>"
      ]
     },
     "metadata": {},
     "output_type": "display_data"
    }
   ],
   "source": [
    "plt.figure(figsize=(12, 6))\n",
    "sns.countplot(data=global_waste_df, y='Main_Sources', order=global_waste_df['Main_Sources'].value_counts().index, palette='viridis')\n",
    "\n",
    "plt.title('Distribution of Main Sources of Plastic Waste')\n",
    "plt.xlabel('Number of Countries')\n",
    "plt.ylabel('Main Sources')\n",
    "plt.savefig(\"plastic_waste_sources.svg\")\n",
    "plt.show()"
   ]
  },
  {
   "cell_type": "markdown",
   "metadata": {},
   "source": [
    "<h2> Coastal Risk </>"
   ]
  },
  {
   "cell_type": "code",
   "execution_count": 104,
   "metadata": {},
   "outputs": [
    {
     "data": {
      "text/html": [
       "<div>\n",
       "<style scoped>\n",
       "    .dataframe tbody tr th:only-of-type {\n",
       "        vertical-align: middle;\n",
       "    }\n",
       "\n",
       "    .dataframe tbody tr th {\n",
       "        vertical-align: top;\n",
       "    }\n",
       "\n",
       "    .dataframe thead th {\n",
       "        text-align: right;\n",
       "    }\n",
       "</style>\n",
       "<table border=\"1\" class=\"dataframe\">\n",
       "  <thead>\n",
       "    <tr style=\"text-align: right;\">\n",
       "      <th></th>\n",
       "      <th>Country</th>\n",
       "      <th>Total_Plastic_Waste_MT</th>\n",
       "      <th>Main_Sources</th>\n",
       "      <th>Recycling_Rate</th>\n",
       "      <th>Per_Capita_Waste_KG</th>\n",
       "      <th>Coastal_Waste_Risk</th>\n",
       "    </tr>\n",
       "  </thead>\n",
       "  <tbody>\n",
       "    <tr>\n",
       "      <th>25</th>\n",
       "      <td>Philippines</td>\n",
       "      <td>1.63</td>\n",
       "      <td>Food_Packaging</td>\n",
       "      <td>9.1</td>\n",
       "      <td>14.8</td>\n",
       "      <td>Very_High</td>\n",
       "    </tr>\n",
       "  </tbody>\n",
       "</table>\n",
       "</div>"
      ],
      "text/plain": [
       "        Country  Total_Plastic_Waste_MT    Main_Sources  Recycling_Rate  \\\n",
       "25  Philippines                    1.63  Food_Packaging             9.1   \n",
       "\n",
       "    Per_Capita_Waste_KG Coastal_Waste_Risk  \n",
       "25                 14.8          Very_High  "
      ]
     },
     "execution_count": 104,
     "metadata": {},
     "output_type": "execute_result"
    }
   ],
   "source": [
    "global_waste_df.loc[global_waste_df['Country']=='Philippines']"
   ]
  },
  {
   "cell_type": "code",
   "execution_count": 105,
   "metadata": {},
   "outputs": [
    {
     "data": {
      "text/plain": [
       "Coastal_Waste_Risk\n",
       "High         74\n",
       "Low          54\n",
       "Medium       33\n",
       "Very_High     4\n",
       "Name: count, dtype: int64"
      ]
     },
     "execution_count": 105,
     "metadata": {},
     "output_type": "execute_result"
    }
   ],
   "source": [
    "coastal_risk = global_waste_df['Coastal_Waste_Risk'].value_counts().sort_index()\n",
    "coastal_risk"
   ]
  },
  {
   "cell_type": "code",
   "execution_count": 106,
   "metadata": {},
   "outputs": [],
   "source": [
    "# Filter rows where 'Category' is 'High'\n",
    "## verhcoastal_risk = df[df['Category'] == 'High']\n",
    "\n",
    "# Group by 'Country' column\n",
    "##grouped = filtered_df.groupby('Country')"
   ]
  },
  {
   "cell_type": "code",
   "execution_count": 107,
   "metadata": {},
   "outputs": [
    {
     "ename": "FileNotFoundError",
     "evalue": "[Errno 2] No such file or directory: '/Users/dee/Desktop/DA_Oct24/Final_project/Plastic Waste Around the World.csv'",
     "output_type": "error",
     "traceback": [
      "\u001b[0;31m---------------------------------------------------------------------------\u001b[0m",
      "\u001b[0;31mFileNotFoundError\u001b[0m                         Traceback (most recent call last)",
      "Cell \u001b[0;32mIn[107], line 3\u001b[0m\n\u001b[1;32m      1\u001b[0m \u001b[38;5;66;03m#Read CSV again because i messed up\u001b[39;00m\n\u001b[0;32m----> 3\u001b[0m df_copy \u001b[38;5;241m=\u001b[39m pd\u001b[38;5;241m.\u001b[39mread_csv(\u001b[38;5;124m\"\u001b[39m\u001b[38;5;124m/Users/dee/Desktop/DA_Oct24/Final_project/Plastic Waste Around the World.csv\u001b[39m\u001b[38;5;124m\"\u001b[39m)\n\u001b[1;32m      4\u001b[0m df_copy\u001b[38;5;241m.\u001b[39mhead(\u001b[38;5;241m5\u001b[39m)\n",
      "File \u001b[0;32m/opt/anaconda3/envs/DataAnalytics/lib/python3.12/site-packages/pandas/io/parsers/readers.py:1026\u001b[0m, in \u001b[0;36mread_csv\u001b[0;34m(filepath_or_buffer, sep, delimiter, header, names, index_col, usecols, dtype, engine, converters, true_values, false_values, skipinitialspace, skiprows, skipfooter, nrows, na_values, keep_default_na, na_filter, verbose, skip_blank_lines, parse_dates, infer_datetime_format, keep_date_col, date_parser, date_format, dayfirst, cache_dates, iterator, chunksize, compression, thousands, decimal, lineterminator, quotechar, quoting, doublequote, escapechar, comment, encoding, encoding_errors, dialect, on_bad_lines, delim_whitespace, low_memory, memory_map, float_precision, storage_options, dtype_backend)\u001b[0m\n\u001b[1;32m   1013\u001b[0m kwds_defaults \u001b[38;5;241m=\u001b[39m _refine_defaults_read(\n\u001b[1;32m   1014\u001b[0m     dialect,\n\u001b[1;32m   1015\u001b[0m     delimiter,\n\u001b[0;32m   (...)\u001b[0m\n\u001b[1;32m   1022\u001b[0m     dtype_backend\u001b[38;5;241m=\u001b[39mdtype_backend,\n\u001b[1;32m   1023\u001b[0m )\n\u001b[1;32m   1024\u001b[0m kwds\u001b[38;5;241m.\u001b[39mupdate(kwds_defaults)\n\u001b[0;32m-> 1026\u001b[0m \u001b[38;5;28;01mreturn\u001b[39;00m _read(filepath_or_buffer, kwds)\n",
      "File \u001b[0;32m/opt/anaconda3/envs/DataAnalytics/lib/python3.12/site-packages/pandas/io/parsers/readers.py:620\u001b[0m, in \u001b[0;36m_read\u001b[0;34m(filepath_or_buffer, kwds)\u001b[0m\n\u001b[1;32m    617\u001b[0m _validate_names(kwds\u001b[38;5;241m.\u001b[39mget(\u001b[38;5;124m\"\u001b[39m\u001b[38;5;124mnames\u001b[39m\u001b[38;5;124m\"\u001b[39m, \u001b[38;5;28;01mNone\u001b[39;00m))\n\u001b[1;32m    619\u001b[0m \u001b[38;5;66;03m# Create the parser.\u001b[39;00m\n\u001b[0;32m--> 620\u001b[0m parser \u001b[38;5;241m=\u001b[39m TextFileReader(filepath_or_buffer, \u001b[38;5;241m*\u001b[39m\u001b[38;5;241m*\u001b[39mkwds)\n\u001b[1;32m    622\u001b[0m \u001b[38;5;28;01mif\u001b[39;00m chunksize \u001b[38;5;129;01mor\u001b[39;00m iterator:\n\u001b[1;32m    623\u001b[0m     \u001b[38;5;28;01mreturn\u001b[39;00m parser\n",
      "File \u001b[0;32m/opt/anaconda3/envs/DataAnalytics/lib/python3.12/site-packages/pandas/io/parsers/readers.py:1620\u001b[0m, in \u001b[0;36mTextFileReader.__init__\u001b[0;34m(self, f, engine, **kwds)\u001b[0m\n\u001b[1;32m   1617\u001b[0m     \u001b[38;5;28mself\u001b[39m\u001b[38;5;241m.\u001b[39moptions[\u001b[38;5;124m\"\u001b[39m\u001b[38;5;124mhas_index_names\u001b[39m\u001b[38;5;124m\"\u001b[39m] \u001b[38;5;241m=\u001b[39m kwds[\u001b[38;5;124m\"\u001b[39m\u001b[38;5;124mhas_index_names\u001b[39m\u001b[38;5;124m\"\u001b[39m]\n\u001b[1;32m   1619\u001b[0m \u001b[38;5;28mself\u001b[39m\u001b[38;5;241m.\u001b[39mhandles: IOHandles \u001b[38;5;241m|\u001b[39m \u001b[38;5;28;01mNone\u001b[39;00m \u001b[38;5;241m=\u001b[39m \u001b[38;5;28;01mNone\u001b[39;00m\n\u001b[0;32m-> 1620\u001b[0m \u001b[38;5;28mself\u001b[39m\u001b[38;5;241m.\u001b[39m_engine \u001b[38;5;241m=\u001b[39m \u001b[38;5;28mself\u001b[39m\u001b[38;5;241m.\u001b[39m_make_engine(f, \u001b[38;5;28mself\u001b[39m\u001b[38;5;241m.\u001b[39mengine)\n",
      "File \u001b[0;32m/opt/anaconda3/envs/DataAnalytics/lib/python3.12/site-packages/pandas/io/parsers/readers.py:1880\u001b[0m, in \u001b[0;36mTextFileReader._make_engine\u001b[0;34m(self, f, engine)\u001b[0m\n\u001b[1;32m   1878\u001b[0m     \u001b[38;5;28;01mif\u001b[39;00m \u001b[38;5;124m\"\u001b[39m\u001b[38;5;124mb\u001b[39m\u001b[38;5;124m\"\u001b[39m \u001b[38;5;129;01mnot\u001b[39;00m \u001b[38;5;129;01min\u001b[39;00m mode:\n\u001b[1;32m   1879\u001b[0m         mode \u001b[38;5;241m+\u001b[39m\u001b[38;5;241m=\u001b[39m \u001b[38;5;124m\"\u001b[39m\u001b[38;5;124mb\u001b[39m\u001b[38;5;124m\"\u001b[39m\n\u001b[0;32m-> 1880\u001b[0m \u001b[38;5;28mself\u001b[39m\u001b[38;5;241m.\u001b[39mhandles \u001b[38;5;241m=\u001b[39m get_handle(\n\u001b[1;32m   1881\u001b[0m     f,\n\u001b[1;32m   1882\u001b[0m     mode,\n\u001b[1;32m   1883\u001b[0m     encoding\u001b[38;5;241m=\u001b[39m\u001b[38;5;28mself\u001b[39m\u001b[38;5;241m.\u001b[39moptions\u001b[38;5;241m.\u001b[39mget(\u001b[38;5;124m\"\u001b[39m\u001b[38;5;124mencoding\u001b[39m\u001b[38;5;124m\"\u001b[39m, \u001b[38;5;28;01mNone\u001b[39;00m),\n\u001b[1;32m   1884\u001b[0m     compression\u001b[38;5;241m=\u001b[39m\u001b[38;5;28mself\u001b[39m\u001b[38;5;241m.\u001b[39moptions\u001b[38;5;241m.\u001b[39mget(\u001b[38;5;124m\"\u001b[39m\u001b[38;5;124mcompression\u001b[39m\u001b[38;5;124m\"\u001b[39m, \u001b[38;5;28;01mNone\u001b[39;00m),\n\u001b[1;32m   1885\u001b[0m     memory_map\u001b[38;5;241m=\u001b[39m\u001b[38;5;28mself\u001b[39m\u001b[38;5;241m.\u001b[39moptions\u001b[38;5;241m.\u001b[39mget(\u001b[38;5;124m\"\u001b[39m\u001b[38;5;124mmemory_map\u001b[39m\u001b[38;5;124m\"\u001b[39m, \u001b[38;5;28;01mFalse\u001b[39;00m),\n\u001b[1;32m   1886\u001b[0m     is_text\u001b[38;5;241m=\u001b[39mis_text,\n\u001b[1;32m   1887\u001b[0m     errors\u001b[38;5;241m=\u001b[39m\u001b[38;5;28mself\u001b[39m\u001b[38;5;241m.\u001b[39moptions\u001b[38;5;241m.\u001b[39mget(\u001b[38;5;124m\"\u001b[39m\u001b[38;5;124mencoding_errors\u001b[39m\u001b[38;5;124m\"\u001b[39m, \u001b[38;5;124m\"\u001b[39m\u001b[38;5;124mstrict\u001b[39m\u001b[38;5;124m\"\u001b[39m),\n\u001b[1;32m   1888\u001b[0m     storage_options\u001b[38;5;241m=\u001b[39m\u001b[38;5;28mself\u001b[39m\u001b[38;5;241m.\u001b[39moptions\u001b[38;5;241m.\u001b[39mget(\u001b[38;5;124m\"\u001b[39m\u001b[38;5;124mstorage_options\u001b[39m\u001b[38;5;124m\"\u001b[39m, \u001b[38;5;28;01mNone\u001b[39;00m),\n\u001b[1;32m   1889\u001b[0m )\n\u001b[1;32m   1890\u001b[0m \u001b[38;5;28;01massert\u001b[39;00m \u001b[38;5;28mself\u001b[39m\u001b[38;5;241m.\u001b[39mhandles \u001b[38;5;129;01mis\u001b[39;00m \u001b[38;5;129;01mnot\u001b[39;00m \u001b[38;5;28;01mNone\u001b[39;00m\n\u001b[1;32m   1891\u001b[0m f \u001b[38;5;241m=\u001b[39m \u001b[38;5;28mself\u001b[39m\u001b[38;5;241m.\u001b[39mhandles\u001b[38;5;241m.\u001b[39mhandle\n",
      "File \u001b[0;32m/opt/anaconda3/envs/DataAnalytics/lib/python3.12/site-packages/pandas/io/common.py:873\u001b[0m, in \u001b[0;36mget_handle\u001b[0;34m(path_or_buf, mode, encoding, compression, memory_map, is_text, errors, storage_options)\u001b[0m\n\u001b[1;32m    868\u001b[0m \u001b[38;5;28;01melif\u001b[39;00m \u001b[38;5;28misinstance\u001b[39m(handle, \u001b[38;5;28mstr\u001b[39m):\n\u001b[1;32m    869\u001b[0m     \u001b[38;5;66;03m# Check whether the filename is to be opened in binary mode.\u001b[39;00m\n\u001b[1;32m    870\u001b[0m     \u001b[38;5;66;03m# Binary mode does not support 'encoding' and 'newline'.\u001b[39;00m\n\u001b[1;32m    871\u001b[0m     \u001b[38;5;28;01mif\u001b[39;00m ioargs\u001b[38;5;241m.\u001b[39mencoding \u001b[38;5;129;01mand\u001b[39;00m \u001b[38;5;124m\"\u001b[39m\u001b[38;5;124mb\u001b[39m\u001b[38;5;124m\"\u001b[39m \u001b[38;5;129;01mnot\u001b[39;00m \u001b[38;5;129;01min\u001b[39;00m ioargs\u001b[38;5;241m.\u001b[39mmode:\n\u001b[1;32m    872\u001b[0m         \u001b[38;5;66;03m# Encoding\u001b[39;00m\n\u001b[0;32m--> 873\u001b[0m         handle \u001b[38;5;241m=\u001b[39m \u001b[38;5;28mopen\u001b[39m(\n\u001b[1;32m    874\u001b[0m             handle,\n\u001b[1;32m    875\u001b[0m             ioargs\u001b[38;5;241m.\u001b[39mmode,\n\u001b[1;32m    876\u001b[0m             encoding\u001b[38;5;241m=\u001b[39mioargs\u001b[38;5;241m.\u001b[39mencoding,\n\u001b[1;32m    877\u001b[0m             errors\u001b[38;5;241m=\u001b[39merrors,\n\u001b[1;32m    878\u001b[0m             newline\u001b[38;5;241m=\u001b[39m\u001b[38;5;124m\"\u001b[39m\u001b[38;5;124m\"\u001b[39m,\n\u001b[1;32m    879\u001b[0m         )\n\u001b[1;32m    880\u001b[0m     \u001b[38;5;28;01melse\u001b[39;00m:\n\u001b[1;32m    881\u001b[0m         \u001b[38;5;66;03m# Binary mode\u001b[39;00m\n\u001b[1;32m    882\u001b[0m         handle \u001b[38;5;241m=\u001b[39m \u001b[38;5;28mopen\u001b[39m(handle, ioargs\u001b[38;5;241m.\u001b[39mmode)\n",
      "\u001b[0;31mFileNotFoundError\u001b[0m: [Errno 2] No such file or directory: '/Users/dee/Desktop/DA_Oct24/Final_project/Plastic Waste Around the World.csv'"
     ]
    }
   ],
   "source": [
    "#Read CSV again because i messed up\n",
    "\n",
    "df_copy = pd.read_csv(\"/Users/dee/Desktop/DA_Oct24/Final_project/Plastic Waste Around the World.csv\")\n",
    "df_copy.head(5)"
   ]
  },
  {
   "cell_type": "code",
   "execution_count": null,
   "metadata": {},
   "outputs": [],
   "source": [
    "fig = px.choropleth(coastal_risk_sort,\n",
    "                    locations=\"Country\",  # Column with country names\n",
    "                    locationmode=\"country names\",  # Ensures Plotly recognizes the country names\n",
    "                    color=\"Coastal_Waste_Risk\",  # Column with the values to map\n",
    "                    hover_name=\"Country\",  # Column to show on hover\n",
    "                    color_continuous_scale=px.colors.sequential.Plasma,  # Color scale (you can try other scales like 'Plasma' or 'Cividis')\n",
    "                    title=\"Coastal Waste Risk\")\n",
    "\n",
    "fig.show()"
   ]
  },
  {
   "cell_type": "code",
   "execution_count": null,
   "metadata": {},
   "outputs": [],
   "source": [
    "## COASTAL WASTE RISK SORTING\n",
    "# Define the custom order \n",
    "risk_order = ['Low', 'Medium', 'High', 'Very_High']\n",
    "\n",
    "# Convert the column to a categorical type with the custom order\n",
    "df_copy['Coastal_Waste_Risk'] = pd.Categorical(df_copy['Coastal_Waste_Risk'], categories=risk_order, ordered=True)\n",
    "\n",
    "\n",
    "# Sort the DataFrame by the coastal_waste_risk column\n",
    "coastal_risk_sort = df_copy.sort_values(by='Coastal_Waste_Risk')\n",
    "coastal_risk_sort"
   ]
  },
  {
   "cell_type": "code",
   "execution_count": 119,
   "metadata": {},
   "outputs": [
    {
     "ename": "NameError",
     "evalue": "name 'coastal_risk_sort' is not defined",
     "output_type": "error",
     "traceback": [
      "\u001b[0;31m---------------------------------------------------------------------------\u001b[0m",
      "\u001b[0;31mNameError\u001b[0m                                 Traceback (most recent call last)",
      "Cell \u001b[0;32mIn[119], line 4\u001b[0m\n\u001b[1;32m      1\u001b[0m \u001b[38;5;66;03m## Coastal risk bar chart\u001b[39;00m\n\u001b[1;32m      3\u001b[0m plt\u001b[38;5;241m.\u001b[39mfigure(figsize\u001b[38;5;241m=\u001b[39m(\u001b[38;5;241m10\u001b[39m, \u001b[38;5;241m6\u001b[39m))\n\u001b[0;32m----> 4\u001b[0m sns\u001b[38;5;241m.\u001b[39mcountplot(data\u001b[38;5;241m=\u001b[39mcoastal_risk_sort, x\u001b[38;5;241m=\u001b[39m\u001b[38;5;124m'\u001b[39m\u001b[38;5;124mCoastal_Waste_Risk\u001b[39m\u001b[38;5;124m'\u001b[39m,palette\u001b[38;5;241m=\u001b[39m\u001b[38;5;124m'\u001b[39m\u001b[38;5;124mBlues\u001b[39m\u001b[38;5;124m'\u001b[39m)\n\u001b[1;32m      6\u001b[0m plt\u001b[38;5;241m.\u001b[39mtitle(\u001b[38;5;124m'\u001b[39m\u001b[38;5;124mCoastal Waste Risk\u001b[39m\u001b[38;5;124m'\u001b[39m)\n\u001b[1;32m      7\u001b[0m plt\u001b[38;5;241m.\u001b[39mxlabel(\u001b[38;5;124m'\u001b[39m\u001b[38;5;124mRisk level\u001b[39m\u001b[38;5;124m'\u001b[39m)\n",
      "\u001b[0;31mNameError\u001b[0m: name 'coastal_risk_sort' is not defined"
     ]
    },
    {
     "data": {
      "text/plain": [
       "<Figure size 1000x600 with 0 Axes>"
      ]
     },
     "metadata": {},
     "output_type": "display_data"
    }
   ],
   "source": [
    "## Coastal risk bar chart\n",
    "\n",
    "plt.figure(figsize=(10, 6))\n",
    "sns.countplot(data=coastal_risk_sort, x='Coastal_Waste_Risk',palette='Blues')\n",
    "\n",
    "plt.title('Coastal Waste Risk')\n",
    "plt.xlabel('Risk level')\n",
    "plt.ylabel('Number of countries')\n",
    "plt.save('Risk_Coastal.svg')\n",
    "plt.show()"
   ]
  },
  {
   "cell_type": "code",
   "execution_count": null,
   "metadata": {},
   "outputs": [],
   "source": [
    "## Very high \n",
    "\n",
    "very_high_coastal_risk = global_waste_df[global_waste_df['Coastal_Waste_Risk'] == 'Very_High']\n",
    "very_high_coastal_risk"
   ]
  },
  {
   "cell_type": "code",
   "execution_count": null,
   "metadata": {},
   "outputs": [],
   "source": [
    "## High\n",
    "\n",
    "high_coastal_risk = global_waste_df[global_waste_df['Coastal_Waste_Risk'] == 'High']\n",
    "high_coastal_risk"
   ]
  },
  {
   "cell_type": "code",
   "execution_count": null,
   "metadata": {},
   "outputs": [],
   "source": [
    "## Medium\n",
    "\n",
    "med_coastal_risk = global_waste_df[global_waste_df['Coastal_Waste_Risk'] == 'Medium']\n",
    "med_coastal_risk"
   ]
  },
  {
   "cell_type": "code",
   "execution_count": null,
   "metadata": {},
   "outputs": [],
   "source": [
    "## Low\n",
    "\n",
    "low_coastal_risk = global_waste_df[global_waste_df['Coastal_Waste_Risk'] == 'Low']\n",
    "low_coastal_risk"
   ]
  },
  {
   "cell_type": "code",
   "execution_count": null,
   "metadata": {},
   "outputs": [],
   "source": [
    "global_waste_df.head(10)"
   ]
  },
  {
   "cell_type": "code",
   "execution_count": null,
   "metadata": {},
   "outputs": [],
   "source": [
    "## Correlation of recycling rate and total plastic waste\n",
    "\n",
    "plt.figure(figsize=(10, 6))\n",
    "sns.regplot(data=global_waste_df, x='Total_Plastic_Waste_MT', y='Recycling_Rate', scatter_kws={'color': 'blue'}, line_kws={'color': 'red'})\n",
    "\n",
    "plt.title('Relationship between Total Plastic Waste and Recycling Rate')\n",
    "plt.xlabel('Total Plastic Waste (MT)')\n",
    "plt.ylabel('Recycling Rate (%)')\n",
    "plt.show()"
   ]
  },
  {
   "cell_type": "code",
   "execution_count": null,
   "metadata": {},
   "outputs": [],
   "source": [
    "## Correlation recycling rate and per capita waste \n",
    "\n",
    "plt.figure(figsize=(10, 6))\n",
    "sns.regplot(data=global_waste_df, x='Per_Capita_Waste_KG', y='Recycling_Rate', scatter_kws={'color': 'green'}, line_kws={'color': 'blue'})\n",
    "\n",
    "plt.title('Relationship between Total Plastic Waste and Recycling Rate')\n",
    "plt.xlabel('Per Capita Waste (KG)')\n",
    "plt.ylabel('Recycling Rate (%)')\n",
    "plt.show()"
   ]
  }
 ],
 "metadata": {
  "kernelspec": {
   "display_name": "Python 3 (ipykernel)",
   "language": "python",
   "name": "python3"
  },
  "language_info": {
   "codemirror_mode": {
    "name": "ipython",
    "version": 3
   },
   "file_extension": ".py",
   "mimetype": "text/x-python",
   "name": "python",
   "nbconvert_exporter": "python",
   "pygments_lexer": "ipython3",
   "version": "3.12.4"
  }
 },
 "nbformat": 4,
 "nbformat_minor": 4
}
