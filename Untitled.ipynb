{
 "cells": [
  {
   "cell_type": "code",
   "execution_count": 4,
   "id": "17795d9a-55ef-40cc-aeb2-2ebf0fd9c9df",
   "metadata": {},
   "outputs": [],
   "source": [
    "#Import common modules\n",
    "import pandas as pd\n",
    "pd.options.mode.chained_assignment = None\n",
    "\n",
    "import numpy as np\n",
    "from matplotlib import pyplot as plt\n",
    "import seaborn as sns\n",
    "import matplotlib\n",
    "import plotly.graph_objs as go\n",
    "\n",
    "import warnings\n",
    "warnings.filterwarnings('ignore')"
   ]
  },
  {
   "cell_type": "code",
   "execution_count": 10,
   "id": "404a7c72-cef9-42bd-ae78-849d41160756",
   "metadata": {},
   "outputs": [
    {
     "data": {
      "text/html": [
       "<div>\n",
       "<style scoped>\n",
       "    .dataframe tbody tr th:only-of-type {\n",
       "        vertical-align: middle;\n",
       "    }\n",
       "\n",
       "    .dataframe tbody tr th {\n",
       "        vertical-align: top;\n",
       "    }\n",
       "\n",
       "    .dataframe thead th {\n",
       "        text-align: right;\n",
       "    }\n",
       "</style>\n",
       "<table border=\"1\" class=\"dataframe\">\n",
       "  <thead>\n",
       "    <tr style=\"text-align: right;\">\n",
       "      <th></th>\n",
       "      <th>Metric</th>\n",
       "      <th>Company</th>\n",
       "      <th>Year</th>\n",
       "      <th>Value</th>\n",
       "      <th>Source Page</th>\n",
       "    </tr>\n",
       "  </thead>\n",
       "  <tbody>\n",
       "    <tr>\n",
       "      <th>0</th>\n",
       "      <td>Global Reporting Initiative+Hazardous Waste Re...</td>\n",
       "      <td>Inditex</td>\n",
       "      <td>2023</td>\n",
       "      <td>34.488</td>\n",
       "      <td>https://wikirate.org/~18085986</td>\n",
       "    </tr>\n",
       "    <tr>\n",
       "      <th>1</th>\n",
       "      <td>Global Reporting Initiative+Hazardous Waste Re...</td>\n",
       "      <td>H&amp;M</td>\n",
       "      <td>2023</td>\n",
       "      <td>Unknown</td>\n",
       "      <td>https://wikirate.org/~19244996</td>\n",
       "    </tr>\n",
       "    <tr>\n",
       "      <th>2</th>\n",
       "      <td>Global Reporting Initiative+Hazardous Waste Re...</td>\n",
       "      <td>Nike Inc.</td>\n",
       "      <td>2023</td>\n",
       "      <td>Unknown</td>\n",
       "      <td>https://wikirate.org/~18082680</td>\n",
       "    </tr>\n",
       "    <tr>\n",
       "      <th>3</th>\n",
       "      <td>Global Reporting Initiative+Hazardous Waste Re...</td>\n",
       "      <td>Adidas AG</td>\n",
       "      <td>2023</td>\n",
       "      <td>Unknown</td>\n",
       "      <td>https://wikirate.org/~18074968</td>\n",
       "    </tr>\n",
       "    <tr>\n",
       "      <th>4</th>\n",
       "      <td>Global Reporting Initiative+Hazardous Waste Re...</td>\n",
       "      <td>Prada</td>\n",
       "      <td>2023</td>\n",
       "      <td>1</td>\n",
       "      <td>https://wikirate.org/~19859227</td>\n",
       "    </tr>\n",
       "  </tbody>\n",
       "</table>\n",
       "</div>"
      ],
      "text/plain": [
       "                                              Metric    Company  Year  \\\n",
       "0  Global Reporting Initiative+Hazardous Waste Re...    Inditex  2023   \n",
       "1  Global Reporting Initiative+Hazardous Waste Re...        H&M  2023   \n",
       "2  Global Reporting Initiative+Hazardous Waste Re...  Nike Inc.  2023   \n",
       "3  Global Reporting Initiative+Hazardous Waste Re...  Adidas AG  2023   \n",
       "4  Global Reporting Initiative+Hazardous Waste Re...      Prada  2023   \n",
       "\n",
       "     Value                     Source Page  \n",
       "0   34.488  https://wikirate.org/~18085986  \n",
       "1  Unknown  https://wikirate.org/~19244996  \n",
       "2  Unknown  https://wikirate.org/~18082680  \n",
       "3  Unknown  https://wikirate.org/~18074968  \n",
       "4        1  https://wikirate.org/~19859227  "
      ]
     },
     "execution_count": 10,
     "metadata": {},
     "output_type": "execute_result"
    }
   ],
   "source": [
    "data = pd.read_csv('Data sets/fashion-waste.csv')\n",
    "data.head()"
   ]
  },
  {
   "cell_type": "code",
   "execution_count": 12,
   "id": "1cc1ded2-ff37-4957-a530-9807ec13224b",
   "metadata": {},
   "outputs": [
    {
     "name": "stdout",
     "output_type": "stream",
     "text": [
      "<class 'pandas.core.frame.DataFrame'>\n",
      "RangeIndex: 297 entries, 0 to 296\n",
      "Data columns (total 5 columns):\n",
      " #   Column       Non-Null Count  Dtype \n",
      "---  ------       --------------  ----- \n",
      " 0   Metric       297 non-null    object\n",
      " 1   Company      297 non-null    object\n",
      " 2   Year         297 non-null    int64 \n",
      " 3   Value        297 non-null    object\n",
      " 4   Source Page  247 non-null    object\n",
      "dtypes: int64(1), object(4)\n",
      "memory usage: 11.7+ KB\n"
     ]
    }
   ],
   "source": [
    "data.info()\n"
   ]
  },
  {
   "cell_type": "code",
   "execution_count": 16,
   "id": "5da012de-9d98-4eca-afa7-69eea6ec5bc5",
   "metadata": {},
   "outputs": [
    {
     "data": {
      "text/plain": [
       "array(['Global Reporting Initiative+Hazardous Waste Recycled, GRI 306-2-a (formerly G4-EN23-a)',\n",
       "       'Global Reporting Initiative+Hazardous Waste Created, GRI 306-2 (formerly G4-EN23-a)',\n",
       "       'Global Reporting Initiative+Total Waste Generated, GRI 306-2 (formerly G4-EN23-a)',\n",
       "       'Global Reporting Initiative+Non-Hazardous Waste, GRI 306-2 (formerly G4-EN23-a)',\n",
       "       'Global Reporting Initiative+Total Waste Recycled, GRI 306-2 (formerly G4-EN23-a)',\n",
       "       'Global Reporting Initiative+Non-Hazardous Waste Recycled, GRI 306-2 (formerly G4-EN23-a)',\n",
       "       'Global Reporting Initiative+Total Waste to Landfill, GRI 306-2 (formerly G4-EN23-a)',\n",
       "       'Fashion Revolution+Supply Chain Policies',\n",
       "       'Fashion Revolution+1.3 Management Procedures',\n",
       "       'Fashion Revolution+1.1 Own Operations Policies',\n",
       "       'Wikirate SDG Metric design+Percentage of waste recycled',\n",
       "       'Wikirate SDG Metric design+Percentage hazardous waste recycled',\n",
       "       'Wikirate SDG Metric design+Percentage non-hazardous waste recycled',\n",
       "       'Fashion Revolution+Discloses Quantity of Products Destroyed',\n",
       "       'Fashion Revolution+Discloses Quantity of Pre-Production Waste Generated',\n",
       "       'Fashion Revolution+Discloses Quantity of Post-production Waste Generated',\n",
       "       'Fashion Revolution+Discloses Breakdown of Reuse/Recyling of Pre-consumer Waste',\n",
       "       'Fashion Revolution+Discloses Take-back Scheme Outcomes',\n",
       "       'Fashion Revolution+Offers Clothing Longevity Business Models',\n",
       "       'Fashion Revolution+5.4 Overconsumption, Waste & Circularity',\n",
       "       'World Benchmarking Alliance+NAT.B12.EA Plastic Use and Waste Reduction Qualitative Evidence',\n",
       "       'World Benchmarking Alliance+NAT.B12.EB Plastic Use and Waste Reduction Quantitative Evidence',\n",
       "       'World Benchmarking Alliance+NAT.B12.EC Plastic Use and Waste Reduction Targets',\n",
       "       'World Benchmarking Alliance+NAT.B12.ED Plastic Use Reporting',\n",
       "       'World Benchmarking Alliance+NAT.B12.EE Plastic Waste Reporting',\n",
       "       'World Benchmarking Alliance+NAT.B12.EF Plastic Use and Waste Reduction Evidence Upstream',\n",
       "       'World Benchmarking Alliance+NAT.B12.EG Plastic Use and Waste Reduction Evidence Downstream'],\n",
       "      dtype=object)"
      ]
     },
     "execution_count": 16,
     "metadata": {},
     "output_type": "execute_result"
    }
   ],
   "source": [
    "#looking for unique values in Metric\n",
    "data['Metric'].unique()\n"
   ]
  },
  {
   "cell_type": "code",
   "execution_count": 18,
   "id": "0f16f3ef-87e4-4b84-bf83-3e355b296f8e",
   "metadata": {},
   "outputs": [
    {
     "data": {
      "text/plain": [
       "array(['Inditex', 'H&M', 'Nike Inc.', 'Adidas AG', 'Prada', 'Asos',\n",
       "       'Gap inc.', 'Louis Vuitton Malletier SA (LVMH)'], dtype=object)"
      ]
     },
     "execution_count": 18,
     "metadata": {},
     "output_type": "execute_result"
    }
   ],
   "source": [
    "data['Company'].unique()"
   ]
  },
  {
   "cell_type": "code",
   "execution_count": 24,
   "id": "631148aa-8841-4d91-ba1d-203d523cbb44",
   "metadata": {},
   "outputs": [
    {
     "name": "stdout",
     "output_type": "stream",
     "text": [
      "Metric          0\n",
      "Company         0\n",
      "Year            0\n",
      "Value          82\n",
      "Source Page    50\n",
      "dtype: int64\n"
     ]
    }
   ],
   "source": [
    "df = data.copy()\n",
    "# Replace 'Unknown' with NaN\n",
    "df.replace('Unknown', np.nan, inplace=True)\n",
    "\n",
    "# Verify changes\n",
    "print(df.isnull().sum())"
   ]
  },
  {
   "cell_type": "code",
   "execution_count": 26,
   "id": "b46fa136-f4aa-4850-b384-28a9d7eada82",
   "metadata": {},
   "outputs": [
    {
     "data": {
      "text/html": [
       "<div>\n",
       "<style scoped>\n",
       "    .dataframe tbody tr th:only-of-type {\n",
       "        vertical-align: middle;\n",
       "    }\n",
       "\n",
       "    .dataframe tbody tr th {\n",
       "        vertical-align: top;\n",
       "    }\n",
       "\n",
       "    .dataframe thead th {\n",
       "        text-align: right;\n",
       "    }\n",
       "</style>\n",
       "<table border=\"1\" class=\"dataframe\">\n",
       "  <thead>\n",
       "    <tr style=\"text-align: right;\">\n",
       "      <th></th>\n",
       "      <th>Metric</th>\n",
       "      <th>Company</th>\n",
       "      <th>Year</th>\n",
       "      <th>Value</th>\n",
       "      <th>Source Page</th>\n",
       "    </tr>\n",
       "  </thead>\n",
       "  <tbody>\n",
       "    <tr>\n",
       "      <th>0</th>\n",
       "      <td>Global Reporting Initiative+Hazardous Waste Re...</td>\n",
       "      <td>Inditex</td>\n",
       "      <td>2023</td>\n",
       "      <td>34.488</td>\n",
       "      <td>https://wikirate.org/~18085986</td>\n",
       "    </tr>\n",
       "    <tr>\n",
       "      <th>1</th>\n",
       "      <td>Global Reporting Initiative+Hazardous Waste Re...</td>\n",
       "      <td>H&amp;M</td>\n",
       "      <td>2023</td>\n",
       "      <td>NaN</td>\n",
       "      <td>https://wikirate.org/~19244996</td>\n",
       "    </tr>\n",
       "    <tr>\n",
       "      <th>2</th>\n",
       "      <td>Global Reporting Initiative+Hazardous Waste Re...</td>\n",
       "      <td>Nike Inc.</td>\n",
       "      <td>2023</td>\n",
       "      <td>NaN</td>\n",
       "      <td>https://wikirate.org/~18082680</td>\n",
       "    </tr>\n",
       "    <tr>\n",
       "      <th>3</th>\n",
       "      <td>Global Reporting Initiative+Hazardous Waste Re...</td>\n",
       "      <td>Adidas AG</td>\n",
       "      <td>2023</td>\n",
       "      <td>NaN</td>\n",
       "      <td>https://wikirate.org/~18074968</td>\n",
       "    </tr>\n",
       "    <tr>\n",
       "      <th>4</th>\n",
       "      <td>Global Reporting Initiative+Hazardous Waste Re...</td>\n",
       "      <td>Prada</td>\n",
       "      <td>2023</td>\n",
       "      <td>1</td>\n",
       "      <td>https://wikirate.org/~19859227</td>\n",
       "    </tr>\n",
       "  </tbody>\n",
       "</table>\n",
       "</div>"
      ],
      "text/plain": [
       "                                              Metric    Company  Year   Value  \\\n",
       "0  Global Reporting Initiative+Hazardous Waste Re...    Inditex  2023  34.488   \n",
       "1  Global Reporting Initiative+Hazardous Waste Re...        H&M  2023     NaN   \n",
       "2  Global Reporting Initiative+Hazardous Waste Re...  Nike Inc.  2023     NaN   \n",
       "3  Global Reporting Initiative+Hazardous Waste Re...  Adidas AG  2023     NaN   \n",
       "4  Global Reporting Initiative+Hazardous Waste Re...      Prada  2023       1   \n",
       "\n",
       "                      Source Page  \n",
       "0  https://wikirate.org/~18085986  \n",
       "1  https://wikirate.org/~19244996  \n",
       "2  https://wikirate.org/~18082680  \n",
       "3  https://wikirate.org/~18074968  \n",
       "4  https://wikirate.org/~19859227  "
      ]
     },
     "execution_count": 26,
     "metadata": {},
     "output_type": "execute_result"
    }
   ],
   "source": [
    "df.head()"
   ]
  },
  {
   "cell_type": "code",
   "execution_count": null,
   "id": "9c5af695-a189-4e2e-be63-efa529661612",
   "metadata": {},
   "outputs": [],
   "source": []
  }
 ],
 "metadata": {
  "kernelspec": {
   "display_name": "Python 3 (ipykernel)",
   "language": "python",
   "name": "python3"
  },
  "language_info": {
   "codemirror_mode": {
    "name": "ipython",
    "version": 3
   },
   "file_extension": ".py",
   "mimetype": "text/x-python",
   "name": "python",
   "nbconvert_exporter": "python",
   "pygments_lexer": "ipython3",
   "version": "3.12.4"
  }
 },
 "nbformat": 4,
 "nbformat_minor": 5
}
